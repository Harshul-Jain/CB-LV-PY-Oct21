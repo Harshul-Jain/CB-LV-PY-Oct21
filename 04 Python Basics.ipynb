{
 "cells": [
  {
   "cell_type": "markdown",
   "id": "4fb3a3a3",
   "metadata": {},
   "source": [
    "## Day 4 (29/Oct/2021)\n",
    "Friday"
   ]
  },
  {
   "cell_type": "markdown",
   "id": "dabfd4f8",
   "metadata": {},
   "source": [
    "## Square Pattern\n",
    "\n"
   ]
  },
  {
   "cell_type": "code",
   "execution_count": 19,
   "id": "75d4e9f6",
   "metadata": {},
   "outputs": [
    {
     "name": "stdout",
     "output_type": "stream",
     "text": [
      "* * * * * \n",
      "* * * * * \n",
      "* * * * * \n",
      "* * * * * \n",
      "* * * * * \n"
     ]
    }
   ],
   "source": [
    "N = 5\n",
    "for i in range(N):\n",
    "    \n",
    "    # work for each row\n",
    "    for j in range(N):\n",
    "        print(\"*\", end=\" \")\n",
    "        \n",
    "    # come to next line\n",
    "    print()"
   ]
  },
  {
   "cell_type": "code",
   "execution_count": 23,
   "id": "98935283",
   "metadata": {},
   "outputs": [
    {
     "name": "stdout",
     "output_type": "stream",
     "text": [
      "* * * * * * \n",
      "*         * \n",
      "*         * \n",
      "*         * \n",
      "*         * \n",
      "* * * * * * \n"
     ]
    }
   ],
   "source": [
    "n = 6\n",
    "for i in range(n):\n",
    "    for j in range(n):\n",
    "        if i==0 or i==n-1 or j==0 or j==n-1:\n",
    "            print(\"*\", end=\" \")\n",
    "        else:\n",
    "            print(\" \", end=\" \")        \n",
    "    print()"
   ]
  },
  {
   "cell_type": "markdown",
   "id": "f2833421",
   "metadata": {},
   "source": [
    "## Bitwise Operators\n",
    "Operators that operate at bit level\n",
    "- Bitwise AND: &\n",
    "- Bitwise OR: |\n",
    "- Bitwise XOR: ^\n",
    "- Bitwise NOT: ~ (~a = -a-1)\n",
    "- LeftShift: << (a<<1: is multiplication by 2)\n",
    "- RightShift: >> (a>>1: is division by 2)"
   ]
  },
  {
   "cell_type": "code",
   "execution_count": 24,
   "id": "b2f9ad33",
   "metadata": {},
   "outputs": [
    {
     "data": {
      "text/plain": [
       "0"
      ]
     },
     "execution_count": 24,
     "metadata": {},
     "output_type": "execute_result"
    }
   ],
   "source": [
    "5^5"
   ]
  },
  {
   "cell_type": "code",
   "execution_count": 25,
   "id": "a89522d6",
   "metadata": {},
   "outputs": [
    {
     "data": {
      "text/plain": [
       "234"
      ]
     },
     "execution_count": 25,
     "metadata": {},
     "output_type": "execute_result"
    }
   ],
   "source": [
    "0^234"
   ]
  },
  {
   "cell_type": "code",
   "execution_count": 26,
   "id": "f579d3b9",
   "metadata": {},
   "outputs": [
    {
     "data": {
      "text/plain": [
       "32"
      ]
     },
     "execution_count": 26,
     "metadata": {},
     "output_type": "execute_result"
    }
   ],
   "source": [
    "2<<4 # multiplication with powers of 2"
   ]
  },
  {
   "cell_type": "code",
   "execution_count": 28,
   "id": "6790193f",
   "metadata": {},
   "outputs": [
    {
     "data": {
      "text/plain": [
       "4"
      ]
     },
     "execution_count": 28,
     "metadata": {},
     "output_type": "execute_result"
    }
   ],
   "source": [
    "32>>3 # division with powers of 2"
   ]
  },
  {
   "cell_type": "code",
   "execution_count": 29,
   "id": "e8197c5d",
   "metadata": {},
   "outputs": [
    {
     "data": {
      "text/plain": [
       "-3"
      ]
     },
     "execution_count": 29,
     "metadata": {},
     "output_type": "execute_result"
    }
   ],
   "source": [
    "~2 # ~a = -a-1"
   ]
  },
  {
   "cell_type": "code",
   "execution_count": 34,
   "id": "ef24aafe",
   "metadata": {},
   "outputs": [
    {
     "data": {
      "text/plain": [
       "-30"
      ]
     },
     "execution_count": 34,
     "metadata": {},
     "output_type": "execute_result"
    }
   ],
   "source": [
    "~29 # -29-1 = -30"
   ]
  },
  {
   "cell_type": "code",
   "execution_count": 32,
   "id": "32635a9c",
   "metadata": {},
   "outputs": [
    {
     "data": {
      "text/plain": [
       "1"
      ]
     },
     "execution_count": 32,
     "metadata": {},
     "output_type": "execute_result"
    }
   ],
   "source": [
    "5&3 # 101 & 011 = 001"
   ]
  },
  {
   "cell_type": "code",
   "execution_count": 33,
   "id": "99a5b376",
   "metadata": {},
   "outputs": [
    {
     "data": {
      "text/plain": [
       "7"
      ]
     },
     "execution_count": 33,
     "metadata": {},
     "output_type": "execute_result"
    }
   ],
   "source": [
    "5|3 # 101 | 011 = 111 "
   ]
  },
  {
   "cell_type": "markdown",
   "id": "ad2d5531",
   "metadata": {},
   "source": [
    "## Lists\n",
    "- dynamic arrays\n",
    "- mutable data structure"
   ]
  },
  {
   "cell_type": "code",
   "execution_count": 35,
   "id": "e6b966f7",
   "metadata": {},
   "outputs": [
    {
     "data": {
      "text/plain": [
       "list"
      ]
     },
     "execution_count": 35,
     "metadata": {},
     "output_type": "execute_result"
    }
   ],
   "source": [
    "l = [] # empty list\n",
    "type(l)"
   ]
  },
  {
   "cell_type": "code",
   "execution_count": 36,
   "id": "165d4866",
   "metadata": {},
   "outputs": [
    {
     "data": {
      "text/plain": [
       "0"
      ]
     },
     "execution_count": 36,
     "metadata": {},
     "output_type": "execute_result"
    }
   ],
   "source": [
    "len(l)"
   ]
  },
  {
   "cell_type": "code",
   "execution_count": 37,
   "id": "64680be9",
   "metadata": {},
   "outputs": [
    {
     "data": {
      "text/plain": [
       "5"
      ]
     },
     "execution_count": 37,
     "metadata": {},
     "output_type": "execute_result"
    }
   ],
   "source": [
    "num = [10, 20, 30, 40, 50]\n",
    "len(num) # gives u the number of elements "
   ]
  },
  {
   "cell_type": "code",
   "execution_count": 38,
   "id": "afd6b603",
   "metadata": {},
   "outputs": [
    {
     "name": "stdout",
     "output_type": "stream",
     "text": [
      "[1, 'hi', 3.4, False]\n"
     ]
    }
   ],
   "source": [
    "# u can store heterogeneous data types\n",
    "temp = [1, \"hi\", 3.4, False]\n",
    "print(temp)"
   ]
  },
  {
   "cell_type": "code",
   "execution_count": 45,
   "id": "b8c998d0",
   "metadata": {},
   "outputs": [
    {
     "ename": "IndexError",
     "evalue": "list index out of range",
     "output_type": "error",
     "traceback": [
      "\u001b[1;31m---------------------------------------------------------------------------\u001b[0m",
      "\u001b[1;31mIndexError\u001b[0m                                Traceback (most recent call last)",
      "\u001b[1;32m<ipython-input-45-d54028e43cae>\u001b[0m in \u001b[0;36m<module>\u001b[1;34m\u001b[0m\n\u001b[1;32m----> 1\u001b[1;33m \u001b[0mnum\u001b[0m\u001b[1;33m[\u001b[0m\u001b[1;33m-\u001b[0m\u001b[1;36m6\u001b[0m\u001b[1;33m]\u001b[0m\u001b[1;33m\u001b[0m\u001b[1;33m\u001b[0m\u001b[0m\n\u001b[0m",
      "\u001b[1;31mIndexError\u001b[0m: list index out of range"
     ]
    }
   ],
   "source": [
    "num[-6]"
   ]
  },
  {
   "cell_type": "code",
   "execution_count": 46,
   "id": "c4c76a01",
   "metadata": {},
   "outputs": [
    {
     "name": "stdout",
     "output_type": "stream",
     "text": [
      "[10, 20, 30, 40, 50]\n"
     ]
    }
   ],
   "source": [
    "print(num)"
   ]
  },
  {
   "cell_type": "code",
   "execution_count": 48,
   "id": "91fc71d3",
   "metadata": {},
   "outputs": [
    {
     "name": "stdout",
     "output_type": "stream",
     "text": [
      "[10, 20, 30, 60, 50]\n"
     ]
    }
   ],
   "source": [
    "num[-2] = 60 # updating the elements of a list\n",
    "print(num)"
   ]
  },
  {
   "cell_type": "code",
   "execution_count": 49,
   "id": "c5d052ef",
   "metadata": {},
   "outputs": [
    {
     "name": "stdout",
     "output_type": "stream",
     "text": [
      "[10, 20, 30, 60, 50, 70]\n"
     ]
    }
   ],
   "source": [
    "num.append(70)\n",
    "print(num)"
   ]
  },
  {
   "cell_type": "code",
   "execution_count": 50,
   "id": "349b87ef",
   "metadata": {},
   "outputs": [
    {
     "name": "stdout",
     "output_type": "stream",
     "text": [
      "[10, 20, 30, 60, 50, 70, 80]\n"
     ]
    }
   ],
   "source": [
    "t = 80\n",
    "num.append(t)\n",
    "print(num)"
   ]
  },
  {
   "cell_type": "code",
   "execution_count": 51,
   "id": "57793343",
   "metadata": {},
   "outputs": [
    {
     "name": "stdout",
     "output_type": "stream",
     "text": [
      "[10, 20, 30, 60, 50, 70, 80, [1, 2, 3]]\n"
     ]
    }
   ],
   "source": [
    "t = [1,2,3]\n",
    "num.append(t)\n",
    "print(num)"
   ]
  },
  {
   "cell_type": "code",
   "execution_count": 52,
   "id": "61ca79e1",
   "metadata": {},
   "outputs": [
    {
     "name": "stdout",
     "output_type": "stream",
     "text": [
      "[10, 20, 30, 60, 50, 70, 80, [1, 2, 3], 1, 2, 3]\n"
     ]
    }
   ],
   "source": [
    "num.extend(t)\n",
    "print(num)"
   ]
  },
  {
   "cell_type": "code",
   "execution_count": 54,
   "id": "210cf80e",
   "metadata": {},
   "outputs": [],
   "source": [
    "l1 = [10, 20, 30]\n",
    "l1.extend([40])"
   ]
  },
  {
   "cell_type": "code",
   "execution_count": 55,
   "id": "c9cf1060",
   "metadata": {},
   "outputs": [
    {
     "name": "stdout",
     "output_type": "stream",
     "text": [
      "[10, 20, 30, 40]\n"
     ]
    }
   ],
   "source": [
    "print(l1)"
   ]
  },
  {
   "cell_type": "code",
   "execution_count": 57,
   "id": "4dc01bf4",
   "metadata": {},
   "outputs": [
    {
     "name": "stdout",
     "output_type": "stream",
     "text": [
      "[10, 20, 50, 50, 30, 40]\n"
     ]
    }
   ],
   "source": [
    "l1.insert(2, 50) # index, value\n",
    "print(l1)"
   ]
  },
  {
   "cell_type": "code",
   "execution_count": 58,
   "id": "56fa6c0d",
   "metadata": {},
   "outputs": [
    {
     "name": "stdout",
     "output_type": "stream",
     "text": [
      "[10, 20, 50, 50, 30] 40\n"
     ]
    }
   ],
   "source": [
    "last = l1.pop() # by default removes and return the last element\n",
    "print(l1, last)"
   ]
  },
  {
   "cell_type": "code",
   "execution_count": 59,
   "id": "c14d8d90",
   "metadata": {},
   "outputs": [
    {
     "name": "stdout",
     "output_type": "stream",
     "text": [
      "[10, 20, 50, 30] 50\n"
     ]
    }
   ],
   "source": [
    "x = l1.pop(2) # you can also specify the index\n",
    "print(l1, x)"
   ]
  },
  {
   "cell_type": "markdown",
   "id": "529a5ef4",
   "metadata": {},
   "source": [
    "## List Slicing\n",
    "- creates copy of a list"
   ]
  },
  {
   "cell_type": "code",
   "execution_count": 61,
   "id": "408c2a83",
   "metadata": {},
   "outputs": [],
   "source": [
    "l2 = [1, 2, 3, 4, 5, 6, 7]\n"
   ]
  },
  {
   "cell_type": "code",
   "execution_count": 64,
   "id": "df7a5068",
   "metadata": {},
   "outputs": [
    {
     "name": "stdout",
     "output_type": "stream",
     "text": [
      "[1, 2, 3, 4]\n",
      "[1, 2, 3, 4]\n",
      "[1, 2, 3, 4]\n"
     ]
    }
   ],
   "source": [
    "print(l2[0:4:1])\n",
    "print(l2[0:4])\n",
    "print(l2[:4])"
   ]
  },
  {
   "cell_type": "code",
   "execution_count": 66,
   "id": "03364a9f",
   "metadata": {},
   "outputs": [
    {
     "name": "stdout",
     "output_type": "stream",
     "text": [
      "[2, 3, 4]\n",
      "[3, 4, 5, 6, 7]\n"
     ]
    }
   ],
   "source": [
    "print(l2[1:4])\n",
    "print(l2[2:])"
   ]
  },
  {
   "cell_type": "code",
   "execution_count": 68,
   "id": "471f9fea",
   "metadata": {},
   "outputs": [
    {
     "name": "stdout",
     "output_type": "stream",
     "text": [
      "[6, 5, 4, 3, 2]\n"
     ]
    }
   ],
   "source": [
    "print(l2[5:0:-1])"
   ]
  },
  {
   "cell_type": "code",
   "execution_count": 69,
   "id": "2c265d21",
   "metadata": {},
   "outputs": [
    {
     "name": "stdout",
     "output_type": "stream",
     "text": [
      "[5, 6, 7]\n"
     ]
    }
   ],
   "source": [
    "l3 = l2[4:]\n",
    "print(l3)"
   ]
  },
  {
   "cell_type": "code",
   "execution_count": 70,
   "id": "b5cb8a35",
   "metadata": {},
   "outputs": [
    {
     "name": "stdout",
     "output_type": "stream",
     "text": [
      "[5, 100, 7]\n"
     ]
    }
   ],
   "source": [
    "l3[1] = 100\n",
    "print(l3)"
   ]
  },
  {
   "cell_type": "code",
   "execution_count": 71,
   "id": "b606c2a4",
   "metadata": {},
   "outputs": [
    {
     "name": "stdout",
     "output_type": "stream",
     "text": [
      "[1, 2, 3, 4, 5, 6, 7]\n"
     ]
    }
   ],
   "source": [
    "print(l2)"
   ]
  },
  {
   "cell_type": "code",
   "execution_count": 72,
   "id": "c7aa88cc",
   "metadata": {},
   "outputs": [
    {
     "name": "stdout",
     "output_type": "stream",
     "text": [
      "0 -> 10\n",
      "1 -> 20\n",
      "2 -> 30\n",
      "3 -> 40\n",
      "4 -> 50\n"
     ]
    }
   ],
   "source": [
    "## Iterate over the elements of a list\n",
    "l = [10, 20, 30, 40, 50]\n",
    "for i in range(len(l)):\n",
    "    print(i, \"->\",l[i])"
   ]
  },
  {
   "cell_type": "code",
   "execution_count": 75,
   "id": "91beeb66",
   "metadata": {},
   "outputs": [
    {
     "name": "stdout",
     "output_type": "stream",
     "text": [
      "10 20 30 40 50 "
     ]
    }
   ],
   "source": [
    "for element in l: # for i in [10, 20, 30, 40, 50]\n",
    "    print(element, end= \" \")"
   ]
  },
  {
   "cell_type": "code",
   "execution_count": 77,
   "id": "d593248c",
   "metadata": {},
   "outputs": [
    {
     "name": "stdout",
     "output_type": "stream",
     "text": [
      "1 <class 'int'>\n",
      "hi <class 'str'>\n",
      "3.4 <class 'float'>\n",
      "False <class 'bool'>\n"
     ]
    }
   ],
   "source": [
    "for el in [1, \"hi\", 3.4, False]:\n",
    "    print(el, type(el))"
   ]
  },
  {
   "cell_type": "markdown",
   "id": "dd319c27",
   "metadata": {},
   "source": [
    "# Questions:"
   ]
  },
  {
   "cell_type": "markdown",
   "id": "28392d16",
   "metadata": {},
   "source": [
    "### 1. Sum of elements of a list"
   ]
  },
  {
   "cell_type": "code",
   "execution_count": 81,
   "id": "c07dc2e0",
   "metadata": {},
   "outputs": [
    {
     "name": "stdout",
     "output_type": "stream",
     "text": [
      "total sum 20\n"
     ]
    }
   ],
   "source": [
    "l = [1, 5, 7, -3, 6, 4]\n",
    "\n",
    "sum_ = 0\n",
    "n = len(l)\n",
    "for i in range(n):\n",
    "    sum_ += l[i]\n",
    "print(\"total sum\", sum_)"
   ]
  },
  {
   "cell_type": "code",
   "execution_count": 82,
   "id": "49197f2b",
   "metadata": {},
   "outputs": [
    {
     "name": "stdout",
     "output_type": "stream",
     "text": [
      "total sum 20\n"
     ]
    }
   ],
   "source": [
    "s = 0\n",
    "for el in l:\n",
    "    s += el\n",
    "print(\"total sum\", s)"
   ]
  },
  {
   "cell_type": "markdown",
   "id": "da557e18",
   "metadata": {},
   "source": [
    "### 2. Given a list of integers with numbers 1 to N except one. Find the missing number."
   ]
  },
  {
   "cell_type": "code",
   "execution_count": 84,
   "id": "ea7b9cf2",
   "metadata": {},
   "outputs": [
    {
     "name": "stdout",
     "output_type": "stream",
     "text": [
      "5\n"
     ]
    }
   ],
   "source": [
    "A = [1, 3, 2, 8, 7, 5, 6] # ans: 4\n",
    "\n",
    "A = [1, 4, 2, 3] # ans: 5\n",
    "\n",
    "\n",
    "n = len(A) + 1\n",
    "expected_sum = n*(n+1)//2\n",
    "list_sum = 0\n",
    "for el in A:\n",
    "    list_sum += el\n",
    "missing = expected_sum - list_sum\n",
    "print(missing)"
   ]
  },
  {
   "cell_type": "markdown",
   "id": "48c97643",
   "metadata": {},
   "source": [
    "### 3. Find the unique number. Given a list of numbers in which each element has a duplicate except one."
   ]
  },
  {
   "cell_type": "code",
   "execution_count": 85,
   "id": "763fabd4",
   "metadata": {},
   "outputs": [
    {
     "name": "stdout",
     "output_type": "stream",
     "text": [
      "The missing element is: 6\n"
     ]
    }
   ],
   "source": [
    "A = [-1, -2, 4, 6, 5, 4, -2, -1, 5]\n",
    "\n",
    "ans = 0\n",
    "for el in A:\n",
    "    ans = ans^el\n",
    "print(\"The missing element is:\", ans)"
   ]
  },
  {
   "cell_type": "markdown",
   "id": "9f314c41",
   "metadata": {},
   "source": [
    "### 4. Swap the given two integers"
   ]
  },
  {
   "cell_type": "code",
   "execution_count": 86,
   "id": "bf3111d9",
   "metadata": {},
   "outputs": [
    {
     "name": "stdout",
     "output_type": "stream",
     "text": [
      "2 3\n"
     ]
    }
   ],
   "source": [
    "a = 3\n",
    "b = 2\n",
    "temp = a\n",
    "a = b\n",
    "b = temp\n",
    "print(a, b)\n"
   ]
  },
  {
   "cell_type": "code",
   "execution_count": 87,
   "id": "f5abf96f",
   "metadata": {},
   "outputs": [
    {
     "name": "stdout",
     "output_type": "stream",
     "text": [
      "before swap: 2 3\n",
      "after swap: 3 2\n"
     ]
    }
   ],
   "source": [
    "print(\"before swap:\", a,b)\n",
    "a = a^b\n",
    "b = a^b\n",
    "a = a^b\n",
    "print(\"after swap:\", a, b)"
   ]
  },
  {
   "cell_type": "code",
   "execution_count": 88,
   "id": "3d7f61c8",
   "metadata": {},
   "outputs": [
    {
     "name": "stdout",
     "output_type": "stream",
     "text": [
      "3 2\n",
      "2 3\n"
     ]
    }
   ],
   "source": [
    "print(a, b)\n",
    "a, b = b, a \n",
    "print(a, b)"
   ]
  },
  {
   "cell_type": "markdown",
   "id": "9cc590a1",
   "metadata": {},
   "source": [
    "### 5. Reverse a list inplace."
   ]
  },
  {
   "cell_type": "code",
   "execution_count": 94,
   "id": "a30395e1",
   "metadata": {},
   "outputs": [
    {
     "name": "stdout",
     "output_type": "stream",
     "text": [
      "[60, 50, 40, 30, 20, 10]\n"
     ]
    }
   ],
   "source": [
    "# if inplace condition is not there\n",
    "l = [10, 20, 30 , 40 , 50, 60]\n",
    "ans = []\n",
    "for i in range(len(l)-1, -1, -1):\n",
    "    ans.append(l[i])\n",
    "print(ans)"
   ]
  },
  {
   "cell_type": "code",
   "execution_count": 95,
   "id": "e9907bc6",
   "metadata": {},
   "outputs": [
    {
     "name": "stdout",
     "output_type": "stream",
     "text": [
      "[10, 20, 30, 40, 50, 60]\n",
      "[60, 50, 40, 30, 20, 10]\n"
     ]
    }
   ],
   "source": [
    "# reversing inplace\n",
    "print(l)\n",
    "i = 0\n",
    "j = len(l)-1\n",
    "while i<j:\n",
    "    l[i], l[j] = l[j], l[i]\n",
    "    i+=1\n",
    "    j -= 1\n",
    "print(l)"
   ]
  },
  {
   "cell_type": "code",
   "execution_count": 96,
   "id": "73dfc2f6",
   "metadata": {},
   "outputs": [
    {
     "name": "stdout",
     "output_type": "stream",
     "text": [
      "[10, 20, 30, 40, 50, 60]\n"
     ]
    }
   ],
   "source": [
    "l.reverse()\n",
    "print(l)"
   ]
  },
  {
   "cell_type": "markdown",
   "id": "8601a203",
   "metadata": {},
   "source": [
    "## Sorting"
   ]
  },
  {
   "cell_type": "code",
   "execution_count": 99,
   "id": "dde43fc0",
   "metadata": {},
   "outputs": [],
   "source": [
    "\n",
    "l = [1, 5, 2, -1, 0, 6, 7]\n",
    "# o/p: [-1, 0, 1 ,2, 5, 6, 7]"
   ]
  },
  {
   "cell_type": "code",
   "execution_count": 100,
   "id": "57890e75",
   "metadata": {},
   "outputs": [
    {
     "name": "stdout",
     "output_type": "stream",
     "text": [
      "[1, 5, 2, -1, 0, 6, 7]\n",
      "[-1, 0, 1, 2, 5, 6, 7]\n"
     ]
    }
   ],
   "source": [
    "print(l)\n",
    "l.sort() # changes the list inplace\n",
    "print(l)"
   ]
  },
  {
   "cell_type": "code",
   "execution_count": 101,
   "id": "d0fac1c7",
   "metadata": {},
   "outputs": [
    {
     "name": "stdout",
     "output_type": "stream",
     "text": [
      "None\n"
     ]
    }
   ],
   "source": [
    "o = l.sort()\n",
    "print(o)"
   ]
  },
  {
   "cell_type": "code",
   "execution_count": 102,
   "id": "359a80ea",
   "metadata": {},
   "outputs": [
    {
     "name": "stdout",
     "output_type": "stream",
     "text": [
      "[-1, 0, 1, 2, 5, 6, 7]\n"
     ]
    }
   ],
   "source": [
    "o = sorted(l)\n",
    "print(o)"
   ]
  },
  {
   "cell_type": "code",
   "execution_count": null,
   "id": "07611e20",
   "metadata": {},
   "outputs": [],
   "source": []
  }
 ],
 "metadata": {
  "kernelspec": {
   "display_name": "Python 3",
   "language": "python",
   "name": "python3"
  },
  "language_info": {
   "codemirror_mode": {
    "name": "ipython",
    "version": 3
   },
   "file_extension": ".py",
   "mimetype": "text/x-python",
   "name": "python",
   "nbconvert_exporter": "python",
   "pygments_lexer": "ipython3",
   "version": "3.9.4"
  }
 },
 "nbformat": 4,
 "nbformat_minor": 5
}
