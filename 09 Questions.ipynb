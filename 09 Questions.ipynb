{
 "cells": [
  {
   "cell_type": "markdown",
   "id": "244ddb65",
   "metadata": {},
   "source": [
    "## Day 09 Questions\n",
    "12/Nov/2021 Friday\n",
    "## Bit Manipulation"
   ]
  },
  {
   "cell_type": "markdown",
   "id": "2be1b771",
   "metadata": {},
   "source": [
    "### 0. Check if a number is odd or even"
   ]
  },
  {
   "cell_type": "code",
   "execution_count": null,
   "id": "d85ad4ef",
   "metadata": {},
   "outputs": [],
   "source": [
    "def check_even(n):\n",
    "    if n&1>0:\n",
    "        return True\n",
    "    else:\n",
    "        return False"
   ]
  },
  {
   "cell_type": "markdown",
   "id": "bb7792f9",
   "metadata": {},
   "source": [
    "### 1. Check if ith bit of a number is set or not"
   ]
  },
  {
   "cell_type": "code",
   "execution_count": null,
   "id": "2e8af44f",
   "metadata": {},
   "outputs": [],
   "source": [
    "def check_ith_bit(n, i):\n",
    "    pass"
   ]
  },
  {
   "cell_type": "markdown",
   "id": "f211e0cc",
   "metadata": {},
   "source": [
    "### 2. Count total set bits of a number\n",
    "Constraint: 0<num<10^9"
   ]
  },
  {
   "cell_type": "code",
   "execution_count": 110,
   "id": "351e31a0",
   "metadata": {},
   "outputs": [
    {
     "data": {
      "text/plain": [
       "2"
      ]
     },
     "execution_count": 110,
     "metadata": {},
     "output_type": "execute_result"
    }
   ],
   "source": [
    "def count_set_bits(n):\n",
    "    count = 0\n",
    "    for i in range(0,31):\n",
    "        if (n>>i)&1 == 1:\n",
    "            count += 1\n",
    "    return count\n",
    "\n",
    "count_set_bits(20)\n",
    "# TC: O(1): looping 31 times\n",
    "# SC: O(1)"
   ]
  },
  {
   "cell_type": "code",
   "execution_count": 111,
   "id": "436e6e41",
   "metadata": {},
   "outputs": [
    {
     "name": "stdout",
     "output_type": "stream",
     "text": [
      "x: 13, count of set bits: 3\n",
      "x: 15, count of set bits: 4\n",
      "x: 72, count of set bits: 2\n",
      "x: 8, count of set bits: 1\n"
     ]
    }
   ],
   "source": [
    "def count_set_bits2(n):\n",
    "    count = 0\n",
    "    while n>0:\n",
    "        count += 1\n",
    "        n = n&(n-1)\n",
    "    return count\n",
    "\n",
    "for x in [13, 15, 72, 8]:\n",
    "    print(f\"x: {x}, count of set bits: {count_set_bits2(x)}\")\n",
    "\n",
    "# TC: O(1): the number of set bits in n\n",
    "# SC: O(1)"
   ]
  },
  {
   "cell_type": "markdown",
   "id": "c9e808bb",
   "metadata": {},
   "source": [
    "### 3. Unique Element I\n",
    "Given an array of positive integers. Given all elements occur twice except one. Find the unique element  \n",
    "Input: [1, 5, 3, 8, 5, 8, 1]  \n",
    "Output: 3"
   ]
  },
  {
   "cell_type": "code",
   "execution_count": null,
   "id": "5ed95127",
   "metadata": {},
   "outputs": [],
   "source": []
  },
  {
   "cell_type": "markdown",
   "id": "8895e41b",
   "metadata": {},
   "source": [
    "### 4. Given a and b, find x such that a^x = b\n",
    "Example 1:  \n",
    "Input: a = 5, b = 10  \n",
    "Output: 15\n"
   ]
  },
  {
   "cell_type": "code",
   "execution_count": 112,
   "id": "d0faf6e9",
   "metadata": {},
   "outputs": [
    {
     "data": {
      "text/plain": [
       "15"
      ]
     },
     "execution_count": 112,
     "metadata": {},
     "output_type": "execute_result"
    }
   ],
   "source": [
    "def solve(a,b):\n",
    "    return a^b\n",
    "\n",
    "solve(10, 5)"
   ]
  },
  {
   "cell_type": "markdown",
   "id": "50748aa4",
   "metadata": {},
   "source": [
    "### 5. Unique element II\n",
    "Given an array of n elements. Every element is repeated thrice except one element. Find that element.  \n",
    "Input: [1, 3, 1, 8, 1, 8]  \n",
    "Output: 3\n"
   ]
  },
  {
   "cell_type": "code",
   "execution_count": null,
   "id": "a2dbfa94",
   "metadata": {},
   "outputs": [],
   "source": [
    "## Homework"
   ]
  },
  {
   "cell_type": "code",
   "execution_count": null,
   "id": "47103ea7",
   "metadata": {},
   "outputs": [],
   "source": []
  },
  {
   "cell_type": "markdown",
   "id": "e4413c85",
   "metadata": {},
   "source": [
    "### 6. Given a list of integers. Find $A_{i}, A_{j}$ such that $A_{i}{\\oplus} A_{j}=k$.\n",
    "Example:\n",
    "Input:  \n",
    "A = [3, 5, 8, 1, 11]  \n",
    "k = 11  \n",
    "Output: [3,8]"
   ]
  },
  {
   "cell_type": "markdown",
   "id": "44f5ea43",
   "metadata": {},
   "source": [
    "Homework:   \n",
    "Approach 1: Brute force  \n",
    "    Find all pairs and compute xor, TC: O(N^2), SC: O(1)  \n",
    "Approach 2: Use a hashset  \n",
    "    1. Insert all elements in hashset  \n",
    "    2. Iterate on array, search for Ai^k in the hashset  \n",
    "    TC: O(n), SC: O(n)"
   ]
  },
  {
   "cell_type": "code",
   "execution_count": null,
   "id": "71a3d99a",
   "metadata": {},
   "outputs": [],
   "source": []
  },
  {
   "cell_type": "markdown",
   "id": "deb4c71c",
   "metadata": {},
   "source": [
    "### 7. Unique Elements III\n",
    "Given an array of numbers, where every number is repeated twice except two numbers which occur only once. Find those two elements.  \n",
    "Example:  \n",
    "Input: [1, 5, 1, 5, 3, 2, 7, 2]  \n",
    "Output: [3, 7]\n",
    "  \n",
    "Note: Output array should be sorted.\n",
    "\n"
   ]
  },
  {
   "cell_type": "code",
   "execution_count": null,
   "id": "6d5eac5a",
   "metadata": {},
   "outputs": [],
   "source": [
    "## Code on your own"
   ]
  },
  {
   "cell_type": "code",
   "execution_count": null,
   "id": "910715f4",
   "metadata": {},
   "outputs": [],
   "source": []
  },
  {
   "cell_type": "markdown",
   "id": "eb2bbe95",
   "metadata": {},
   "source": [
    "## Generators\n",
    "- Generators are a special class of functions that simplify the task of writing iterators.   \n",
    "- Regular functions compute a value and return it, but generators return an iterator that returns a stream of values.  \n",
    "- Use them when you don't want to create an in-memory list and exhaust all the input iterators before returning; instead values are constructed and returned only if they’re requested. This behaviour is known as _**lazy-evaluation**_ or call-by-need strategy. \n",
    "  \n",
    "**Read more on Iterators, Generators, Comprehensions below**  \n",
    "-    https://docs.python.org/3/howto/functional.html"
   ]
  },
  {
   "cell_type": "markdown",
   "id": "2815cbac",
   "metadata": {},
   "source": [
    "### 8. Generate n fibonacci numbers"
   ]
  },
  {
   "cell_type": "code",
   "execution_count": 113,
   "id": "d303e1dc",
   "metadata": {},
   "outputs": [],
   "source": [
    "def fibonacci(n):\n",
    "    a = 0\n",
    "    b = 1\n",
    "    for i in range(n+1):\n",
    "        yield a\n",
    "        a, b = b, a+b\n"
   ]
  },
  {
   "cell_type": "code",
   "execution_count": 114,
   "id": "d0ccf7da",
   "metadata": {},
   "outputs": [
    {
     "name": "stdout",
     "output_type": "stream",
     "text": [
      "0 1 1 2 3 5 8 13 21 34 55 "
     ]
    }
   ],
   "source": [
    "for i in fibonacci(10):\n",
    "    print(i, end=\" \")"
   ]
  },
  {
   "cell_type": "code",
   "execution_count": 115,
   "id": "6e6f2133",
   "metadata": {},
   "outputs": [],
   "source": [
    "itr = fibonacci(5)"
   ]
  },
  {
   "cell_type": "code",
   "execution_count": 122,
   "id": "721fe00b",
   "metadata": {},
   "outputs": [
    {
     "ename": "StopIteration",
     "evalue": "",
     "output_type": "error",
     "traceback": [
      "\u001b[1;31m---------------------------------------------------------------------------\u001b[0m",
      "\u001b[1;31mStopIteration\u001b[0m                             Traceback (most recent call last)",
      "\u001b[1;32m<ipython-input-122-6693cc261707>\u001b[0m in \u001b[0;36m<module>\u001b[1;34m\u001b[0m\n\u001b[1;32m----> 1\u001b[1;33m \u001b[0mnext\u001b[0m\u001b[1;33m(\u001b[0m\u001b[0mitr\u001b[0m\u001b[1;33m)\u001b[0m\u001b[1;33m\u001b[0m\u001b[1;33m\u001b[0m\u001b[0m\n\u001b[0m",
      "\u001b[1;31mStopIteration\u001b[0m: "
     ]
    }
   ],
   "source": [
    "next(itr)"
   ]
  },
  {
   "cell_type": "markdown",
   "id": "b657d07d",
   "metadata": {},
   "source": [
    "### 9. Generate square of all even numbers upto n\n",
    "use generator expressions"
   ]
  },
  {
   "cell_type": "code",
   "execution_count": 125,
   "id": "3ae42aeb",
   "metadata": {},
   "outputs": [],
   "source": [
    "def square(n):\n",
    "    for i in range(1,n):\n",
    "        if i&1==0:\n",
    "            yield i, i**2"
   ]
  },
  {
   "cell_type": "code",
   "execution_count": 126,
   "id": "51ab105b",
   "metadata": {},
   "outputs": [
    {
     "name": "stdout",
     "output_type": "stream",
     "text": [
      "(2, 4)\n",
      "(4, 16)\n"
     ]
    }
   ],
   "source": [
    "for i in square(5):\n",
    "    print(i)"
   ]
  },
  {
   "cell_type": "code",
   "execution_count": 128,
   "id": "69bc12dc",
   "metadata": {},
   "outputs": [
    {
     "name": "stdout",
     "output_type": "stream",
     "text": [
      "[(2, 4), (4, 16)]\n"
     ]
    }
   ],
   "source": [
    "## list comprehension: [(2,4), (2,16)]\n",
    "n = 5\n",
    "squared_list = [(i,i**2) for i in range(1,n) if i&1==0]\n",
    "print(squared_list)"
   ]
  },
  {
   "cell_type": "code",
   "execution_count": 129,
   "id": "61b57364",
   "metadata": {},
   "outputs": [],
   "source": [
    "## Generator expression -> it returns a iterator\n",
    "sqr = ((i,i**2) for i in range(1,n) if i&1==0)"
   ]
  },
  {
   "cell_type": "code",
   "execution_count": 130,
   "id": "46fdcff5",
   "metadata": {},
   "outputs": [
    {
     "data": {
      "text/plain": [
       "<generator object <genexpr> at 0x000001EABFC4F2E0>"
      ]
     },
     "execution_count": 130,
     "metadata": {},
     "output_type": "execute_result"
    }
   ],
   "source": [
    "sqr"
   ]
  },
  {
   "cell_type": "code",
   "execution_count": 131,
   "id": "20ee47c6",
   "metadata": {},
   "outputs": [
    {
     "name": "stdout",
     "output_type": "stream",
     "text": [
      "(2, 4)\n",
      "(4, 16)\n"
     ]
    }
   ],
   "source": [
    "for i in sqr:\n",
    "    print(i)"
   ]
  },
  {
   "cell_type": "code",
   "execution_count": 132,
   "id": "312e35a1",
   "metadata": {},
   "outputs": [
    {
     "data": {
      "text/plain": [
       "True"
      ]
     },
     "execution_count": 132,
     "metadata": {},
     "output_type": "execute_result"
    }
   ],
   "source": [
    "sqr == iter(sqr) # generators are iterators only"
   ]
  },
  {
   "cell_type": "code",
   "execution_count": null,
   "id": "de80d11a",
   "metadata": {},
   "outputs": [],
   "source": []
  }
 ],
 "metadata": {
  "kernelspec": {
   "display_name": "Python 3",
   "language": "python",
   "name": "python3"
  },
  "language_info": {
   "codemirror_mode": {
    "name": "ipython",
    "version": 3
   },
   "file_extension": ".py",
   "mimetype": "text/x-python",
   "name": "python",
   "nbconvert_exporter": "python",
   "pygments_lexer": "ipython3",
   "version": "3.9.4"
  }
 },
 "nbformat": 4,
 "nbformat_minor": 5
}
