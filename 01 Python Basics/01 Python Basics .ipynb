{
 "cells": [
  {
   "cell_type": "markdown",
   "id": "9686a7cb",
   "metadata": {},
   "source": [
    "## Day 1 25/Oct/2021\n",
    "Monday (7-10 pm)"
   ]
  },
  {
   "cell_type": "markdown",
   "id": "788c5bbb",
   "metadata": {},
   "source": [
    "### Python Installation\n",
    "https://www.python.org/downloads/\n",
    "\n",
    "### Jupyter Installation\n",
    "pip install jupyter\n",
    "\n",
    "### VS Code Installation\n",
    "- https://code.visualstudio.com/download  \n",
    "- Download Python, Jupyter extension"
   ]
  },
  {
   "cell_type": "markdown",
   "id": "26e07391",
   "metadata": {},
   "source": [
    "### Python\n",
    "- Python is more towards user as compared to C/C++/Java. It's High level Index is more.\n",
    "- Python is dynamically typed language. We need not specify the type of variable while creating it. It is decided on the run.\n",
    "- Python is interpreted language. Line by line execution.\n",
    "- No overflow issue as there is no specific range of numbers\n",
    "- Python is case sensitive language"
   ]
  },
  {
   "cell_type": "markdown",
   "id": "6fa5c41a",
   "metadata": {},
   "source": [
    "### Git/ Github discussion\n",
    "- Git is a version control system\n",
    "- Commands to get started with git:\n",
    "    1. git clone \n",
    "    2. git add\n",
    "    3. git commit -m \"type your message here\"\n",
    "    4. git push\n",
    "    5. git pull"
   ]
  },
  {
   "cell_type": "markdown",
   "id": "5aa31e9b",
   "metadata": {},
   "source": [
    "## Hello World\n",
    "- print()\n",
    "- print multiple messages\n",
    "- sep end parameters\n",
    "- end parameter decides how to end a line, by default end has a value of \"\\n\""
   ]
  },
  {
   "cell_type": "code",
   "execution_count": 5,
   "id": "c9f9a40f",
   "metadata": {},
   "outputs": [
    {
     "name": "stdout",
     "output_type": "stream",
     "text": [
      "Hello world\n",
      "hello world it's chilly today string3 string4\n"
     ]
    }
   ],
   "source": [
    "print(\"Hello world\")\n",
    "print(\"hello world\", \"it's chilly today\", \"string3\", \"string4\")"
   ]
  },
  {
   "cell_type": "code",
   "execution_count": 10,
   "id": "3018f0ae",
   "metadata": {},
   "outputs": [
    {
     "name": "stdout",
     "output_type": "stream",
     "text": [
      "The value of a is 23 and value of b is 34\n",
      "23, 34\n"
     ]
    }
   ],
   "source": [
    "a = 23\n",
    "b = 34\n",
    "print(\"The value of a is\", a, \"and value of b is\", b)\n",
    "print(a,b, sep=\", \")"
   ]
  },
  {
   "cell_type": "code",
   "execution_count": 15,
   "id": "193985a7",
   "metadata": {},
   "outputs": [
    {
     "name": "stdout",
     "output_type": "stream",
     "text": [
      "23\t\t34\t\t56\n"
     ]
    }
   ],
   "source": [
    "c = 56\n",
    "print(a, b, c, sep=\"\\t\\t\")"
   ]
  },
  {
   "cell_type": "code",
   "execution_count": 19,
   "id": "4d9c0790",
   "metadata": {},
   "outputs": [
    {
     "name": "stdout",
     "output_type": "stream",
     "text": [
      "line 1 string 2 string 2\tline 2\n",
      "line 3\n"
     ]
    }
   ],
   "source": [
    "print(\"line 1\", \"string 2\", \"string 2\", end=\"\\t\")\n",
    "print(\"line 2\")\n",
    "print(\"line 3\")"
   ]
  },
  {
   "cell_type": "markdown",
   "id": "d28bab46",
   "metadata": {},
   "source": [
    "## Variables, Data types, type() function\n",
    "- int \n",
    "- float \n",
    "- str \n",
    "- bool"
   ]
  },
  {
   "cell_type": "code",
   "execution_count": 21,
   "id": "57324d4e",
   "metadata": {},
   "outputs": [
    {
     "name": "stdout",
     "output_type": "stream",
     "text": [
      "34 Princey\n",
      "<class 'int'>\n"
     ]
    }
   ],
   "source": [
    "\n",
    "a = 34\n",
    "print(a, name)\n",
    "print(type(a))"
   ]
  },
  {
   "cell_type": "code",
   "execution_count": 23,
   "id": "b735f286",
   "metadata": {},
   "outputs": [
    {
     "data": {
      "text/plain": [
       "float"
      ]
     },
     "execution_count": 23,
     "metadata": {},
     "output_type": "execute_result"
    }
   ],
   "source": [
    "pi = 3.14\n",
    "type(pi)"
   ]
  },
  {
   "cell_type": "code",
   "execution_count": 27,
   "id": "0c2420c9",
   "metadata": {},
   "outputs": [
    {
     "name": "stdout",
     "output_type": "stream",
     "text": [
      "Princey Princey\n",
      "<class 'str'> <class 'str'>\n"
     ]
    }
   ],
   "source": [
    "name = \"Princey\"\n",
    "name1 = 'Princey'\n",
    "\n",
    "print(name, name1)\n",
    "\n",
    "print(type(name), type(name1))"
   ]
  },
  {
   "cell_type": "code",
   "execution_count": 32,
   "id": "b1ad023d",
   "metadata": {},
   "outputs": [
    {
     "name": "stdout",
     "output_type": "stream",
     "text": [
      "This is \n",
      "a multiline\n",
      "\n",
      "string.\n",
      "\n",
      "This is \n",
      "a multiline\n",
      "\n",
      "string.\n",
      "\n"
     ]
    },
    {
     "data": {
      "text/plain": [
       "str"
      ]
     },
     "execution_count": 32,
     "metadata": {},
     "output_type": "execute_result"
    }
   ],
   "source": [
    "## multiline strings\n",
    "s = \"\"\"This is \n",
    "a multiline\n",
    "\n",
    "string.\"\"\"\n",
    "\n",
    "print(s)\n",
    "s2 = '''\n",
    "This is \n",
    "a multiline\n",
    "\n",
    "string.\n",
    "'''\n",
    "print(s2)\n",
    "type(s2)"
   ]
  },
  {
   "cell_type": "code",
   "execution_count": 34,
   "id": "c49b88da",
   "metadata": {},
   "outputs": [
    {
     "data": {
      "text/plain": [
       "(bool, bool)"
      ]
     },
     "execution_count": 34,
     "metadata": {},
     "output_type": "execute_result"
    }
   ],
   "source": [
    "flag = True\n",
    "flag2 = False\n",
    "type(flag), type(flag2)\n"
   ]
  },
  {
   "cell_type": "markdown",
   "id": "6dbf1ca1",
   "metadata": {},
   "source": [
    "# Arithmetic Operators\n",
    "```\n",
    "ADD + SUBTRACT - DIVIDE / MULTIPLY * INTEGER DIVISION // MODULO % POWER **\n",
    "```"
   ]
  },
  {
   "cell_type": "code",
   "execution_count": 35,
   "id": "59962af1",
   "metadata": {},
   "outputs": [],
   "source": [
    "a = 4\n",
    "b = 5"
   ]
  },
  {
   "cell_type": "code",
   "execution_count": 36,
   "id": "860b6213",
   "metadata": {},
   "outputs": [
    {
     "data": {
      "text/plain": [
       "9"
      ]
     },
     "execution_count": 36,
     "metadata": {},
     "output_type": "execute_result"
    }
   ],
   "source": [
    "a+b"
   ]
  },
  {
   "cell_type": "code",
   "execution_count": 37,
   "id": "83fcdd12",
   "metadata": {},
   "outputs": [
    {
     "data": {
      "text/plain": [
       "-1"
      ]
     },
     "execution_count": 37,
     "metadata": {},
     "output_type": "execute_result"
    }
   ],
   "source": [
    "a-b"
   ]
  },
  {
   "cell_type": "code",
   "execution_count": 38,
   "id": "495ea43f",
   "metadata": {},
   "outputs": [
    {
     "data": {
      "text/plain": [
       "0.8"
      ]
     },
     "execution_count": 38,
     "metadata": {},
     "output_type": "execute_result"
    }
   ],
   "source": [
    "a/b"
   ]
  },
  {
   "cell_type": "code",
   "execution_count": 39,
   "id": "893ff981",
   "metadata": {},
   "outputs": [
    {
     "data": {
      "text/plain": [
       "20"
      ]
     },
     "execution_count": 39,
     "metadata": {},
     "output_type": "execute_result"
    }
   ],
   "source": [
    "a*b"
   ]
  },
  {
   "cell_type": "code",
   "execution_count": 40,
   "id": "d9ea94ab",
   "metadata": {},
   "outputs": [
    {
     "data": {
      "text/plain": [
       "4"
      ]
     },
     "execution_count": 40,
     "metadata": {},
     "output_type": "execute_result"
    }
   ],
   "source": [
    "a%b"
   ]
  },
  {
   "cell_type": "code",
   "execution_count": 41,
   "id": "ec309d42",
   "metadata": {},
   "outputs": [
    {
     "data": {
      "text/plain": [
       "1"
      ]
     },
     "execution_count": 41,
     "metadata": {},
     "output_type": "execute_result"
    }
   ],
   "source": [
    "5%4"
   ]
  },
  {
   "cell_type": "markdown",
   "id": "2127dd9e",
   "metadata": {},
   "source": [
    "### Modulus Operator %\n",
    "- gives you remainder\n",
    "- **n%a = n - (the greatest number <= n and divisible by a)**"
   ]
  },
  {
   "cell_type": "code",
   "execution_count": 42,
   "id": "b1c3c6db",
   "metadata": {},
   "outputs": [
    {
     "data": {
      "text/plain": [
       "3"
      ]
     },
     "execution_count": 42,
     "metadata": {},
     "output_type": "execute_result"
    }
   ],
   "source": [
    "-5%4"
   ]
  },
  {
   "cell_type": "code",
   "execution_count": 43,
   "id": "54faf597",
   "metadata": {},
   "outputs": [
    {
     "data": {
      "text/plain": [
       "2"
      ]
     },
     "execution_count": 43,
     "metadata": {},
     "output_type": "execute_result"
    }
   ],
   "source": [
    "-7%3"
   ]
  },
  {
   "cell_type": "code",
   "execution_count": 1,
   "id": "4d2a45f1",
   "metadata": {},
   "outputs": [
    {
     "name": "stdout",
     "output_type": "stream",
     "text": [
      "2\n",
      "1\n",
      "0\n"
     ]
    }
   ],
   "source": [
    "print(7//3) # floor division - floor(n) returns the largest integer <= n\n",
    "print(5//4)\n",
    "print(4//5)"
   ]
  },
  {
   "cell_type": "code",
   "execution_count": 48,
   "id": "d63bfdf8",
   "metadata": {},
   "outputs": [
    {
     "name": "stdout",
     "output_type": "stream",
     "text": [
      "8 64\n"
     ]
    }
   ],
   "source": [
    "# a raised to power b -> a**b\n",
    "print(2**3, 4**3)"
   ]
  }
 ],
 "metadata": {
  "kernelspec": {
   "display_name": "Python 3",
   "language": "python",
   "name": "python3"
  },
  "language_info": {
   "codemirror_mode": {
    "name": "ipython",
    "version": 3
   },
   "file_extension": ".py",
   "mimetype": "text/x-python",
   "name": "python",
   "nbconvert_exporter": "python",
   "pygments_lexer": "ipython3",
   "version": "3.9.4"
  }
 },
 "nbformat": 4,
 "nbformat_minor": 5
}
