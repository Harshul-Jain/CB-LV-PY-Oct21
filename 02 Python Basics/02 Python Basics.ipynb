{
 "cells": [
  {
   "cell_type": "markdown",
   "metadata": {},
   "source": [
    "## Day 2 (26/Oct/2021)\n",
    "Tuesday"
   ]
  },
  {
   "cell_type": "markdown",
   "metadata": {},
   "source": [
    "## Taking input from user and TypeCasting\n",
    "Write program to add two integers given by the user"
   ]
  },
  {
   "cell_type": "code",
   "execution_count": null,
   "metadata": {},
   "outputs": [],
   "source": [
    "## shortcut for comment/ uncomment -> ctrl+/"
   ]
  },
  {
   "cell_type": "code",
   "execution_count": 10,
   "metadata": {},
   "outputs": [
    {
     "name": "stdout",
     "output_type": "stream",
     "text": [
      "Enter first integer: 4\n",
      "Enter second integer: 6\n",
      "The sum of a and b is 10\n"
     ]
    }
   ],
   "source": [
    "a = int(input(\"Enter first integer: \"))\n",
    "b = int(input(\"Enter second integer: \"))\n",
    "# a = int(a)\n",
    "# b = int(b)\n",
    "print(\"The sum of a and b is\", a+b)"
   ]
  },
  {
   "cell_type": "code",
   "execution_count": 2,
   "metadata": {},
   "outputs": [
    {
     "data": {
      "text/plain": [
       "str"
      ]
     },
     "execution_count": 2,
     "metadata": {},
     "output_type": "execute_result"
    }
   ],
   "source": [
    "type(a)"
   ]
  },
  {
   "cell_type": "code",
   "execution_count": 3,
   "metadata": {},
   "outputs": [
    {
     "data": {
      "text/plain": [
       "str"
      ]
     },
     "execution_count": 3,
     "metadata": {},
     "output_type": "execute_result"
    }
   ],
   "source": [
    "type(b)"
   ]
  },
  {
   "cell_type": "code",
   "execution_count": 4,
   "metadata": {},
   "outputs": [
    {
     "data": {
      "text/plain": [
       "'43578'"
      ]
     },
     "execution_count": 4,
     "metadata": {},
     "output_type": "execute_result"
    }
   ],
   "source": [
    "s1 = \"435\"\n",
    "s2 = \"78\"\n",
    "s1+s2"
   ]
  },
  {
   "cell_type": "code",
   "execution_count": 9,
   "metadata": {},
   "outputs": [
    {
     "name": "stdout",
     "output_type": "stream",
     "text": [
      "4 7\n"
     ]
    },
    {
     "data": {
      "text/plain": [
       "4"
      ]
     },
     "execution_count": 9,
     "metadata": {},
     "output_type": "execute_result"
    }
   ],
   "source": [
    "print(a, b)\n",
    "int(a)"
   ]
  },
  {
   "cell_type": "code",
   "execution_count": 11,
   "metadata": {},
   "outputs": [
    {
     "name": "stdout",
     "output_type": "stream",
     "text": [
      "67 <class 'int'>\n",
      "67 <class 'str'>\n"
     ]
    }
   ],
   "source": [
    "c = 67\n",
    "print(c, type(c))\n",
    "c = str(c)\n",
    "print(c, type(c))"
   ]
  },
  {
   "cell_type": "code",
   "execution_count": 12,
   "metadata": {},
   "outputs": [],
   "source": [
    "# float(), bool()"
   ]
  },
  {
   "cell_type": "markdown",
   "metadata": {},
   "source": [
    "## String Formatting\n",
    "- Concatenate using +\n",
    "- .format()\n",
    "- %()\n",
    "- f strings"
   ]
  },
  {
   "cell_type": "code",
   "execution_count": 13,
   "metadata": {},
   "outputs": [],
   "source": [
    "# Expected output: \"My name is Princey. I graduated in 2020. I work at Coding Blocks\""
   ]
  },
  {
   "cell_type": "code",
   "execution_count": 14,
   "metadata": {},
   "outputs": [],
   "source": [
    "name = \"Princey\"\n",
    "year = 2020\n",
    "company = \"Coding Blocks\""
   ]
  },
  {
   "cell_type": "code",
   "execution_count": 16,
   "metadata": {},
   "outputs": [
    {
     "name": "stdout",
     "output_type": "stream",
     "text": [
      "My name is Princey. I graduated in 2020. I work at Coding Blocks\n"
     ]
    }
   ],
   "source": [
    "s = \"My name is \"+name+\". I graduated in \"+str(year)+\". I work at \"+company\n",
    "print(s)"
   ]
  },
  {
   "cell_type": "code",
   "execution_count": 17,
   "metadata": {},
   "outputs": [
    {
     "name": "stdout",
     "output_type": "stream",
     "text": [
      "My name is Princey. I graduated in 2020. I work at Coding Blocks\n"
     ]
    }
   ],
   "source": [
    "s = \"My name is {}. I graduated in {}. I work at {}\".format(name, year, company)\n",
    "print(s)"
   ]
  },
  {
   "cell_type": "code",
   "execution_count": 18,
   "metadata": {},
   "outputs": [
    {
     "name": "stdout",
     "output_type": "stream",
     "text": [
      "My name is Princey. I graduated in 2020. I work at Coding Blocks\n"
     ]
    }
   ],
   "source": [
    "s = \"My name is {0}. I graduated in {1}. I work at {2}\".format(name, year, company)\n",
    "print(s)"
   ]
  },
  {
   "cell_type": "code",
   "execution_count": 21,
   "metadata": {},
   "outputs": [
    {
     "name": "stdout",
     "output_type": "stream",
     "text": [
      "My name is Princey. I graduated in 2020. I work at Coding Blocks\n"
     ]
    }
   ],
   "source": [
    "s = \"My name is {a}. I graduated in {b}. I work at {c}\".format(b=year, a=name, c=company)\n",
    "print(s)"
   ]
  },
  {
   "cell_type": "code",
   "execution_count": 22,
   "metadata": {},
   "outputs": [
    {
     "name": "stdout",
     "output_type": "stream",
     "text": [
      "My name is Princey. I graduated in 2020. I work at Coding Blocks\n"
     ]
    }
   ],
   "source": [
    "s = \"My name is {name}. I graduated in {year}. I work at {company}\".format(year=year, name=name, company=company)\n",
    "print(s)"
   ]
  },
  {
   "cell_type": "markdown",
   "metadata": {},
   "source": [
    "### f-strings"
   ]
  },
  {
   "cell_type": "code",
   "execution_count": 25,
   "metadata": {},
   "outputs": [
    {
     "name": "stdout",
     "output_type": "stream",
     "text": [
      "My name is Ashish. I graduated in 2020. I work at Coding Blocks\n"
     ]
    }
   ],
   "source": [
    "name = \"Ashish\"\n",
    "s1 = f\"My name is {name}. I graduated in {year}. I work at {company}\" # f-strings\n",
    "print(s1)"
   ]
  },
  {
   "cell_type": "code",
   "execution_count": 26,
   "metadata": {},
   "outputs": [
    {
     "name": "stdout",
     "output_type": "stream",
     "text": [
      "My name is Ashish. I graduated in 2020. I work at Coding Blocks\n"
     ]
    }
   ],
   "source": [
    "s2 = \"My name is %s. I graduated in %d. I work at %s\"%(name, year, company)\n",
    "print(s2)"
   ]
  },
  {
   "cell_type": "code",
   "execution_count": 15,
   "metadata": {},
   "outputs": [
    {
     "ename": "TypeError",
     "evalue": "can only concatenate str (not \"int\") to str",
     "output_type": "error",
     "traceback": [
      "\u001b[1;31m---------------------------------------------------------------------------\u001b[0m",
      "\u001b[1;31mTypeError\u001b[0m                                 Traceback (most recent call last)",
      "\u001b[1;32m<ipython-input-15-9bd2100a3cff>\u001b[0m in \u001b[0;36m<module>\u001b[1;34m\u001b[0m\n\u001b[0;32m      1\u001b[0m \u001b[0ma\u001b[0m \u001b[1;33m=\u001b[0m \u001b[1;34m\"hello\"\u001b[0m\u001b[1;33m\u001b[0m\u001b[1;33m\u001b[0m\u001b[0m\n\u001b[0;32m      2\u001b[0m \u001b[0mb\u001b[0m \u001b[1;33m=\u001b[0m \u001b[1;36m67\u001b[0m\u001b[1;33m\u001b[0m\u001b[1;33m\u001b[0m\u001b[0m\n\u001b[1;32m----> 3\u001b[1;33m \u001b[0ma\u001b[0m\u001b[1;33m+\u001b[0m\u001b[0mb\u001b[0m\u001b[1;33m\u001b[0m\u001b[1;33m\u001b[0m\u001b[0m\n\u001b[0m",
      "\u001b[1;31mTypeError\u001b[0m: can only concatenate str (not \"int\") to str"
     ]
    }
   ],
   "source": [
    "a = \"hello\"\n",
    "b = 67\n",
    "a+b"
   ]
  },
  {
   "cell_type": "markdown",
   "metadata": {},
   "source": [
    "## Comparison Operators\n",
    "```\n",
    ">= <= > < == !=\n",
    "```"
   ]
  },
  {
   "cell_type": "code",
   "execution_count": 32,
   "metadata": {},
   "outputs": [
    {
     "name": "stdout",
     "output_type": "stream",
     "text": [
      "True\n"
     ]
    }
   ],
   "source": [
    "a=4\n",
    "b = 6\n",
    "print(a<=b)"
   ]
  },
  {
   "cell_type": "code",
   "execution_count": 33,
   "metadata": {},
   "outputs": [
    {
     "name": "stdout",
     "output_type": "stream",
     "text": [
      "False\n"
     ]
    }
   ],
   "source": [
    "print(a==b)"
   ]
  },
  {
   "cell_type": "code",
   "execution_count": 34,
   "metadata": {},
   "outputs": [
    {
     "name": "stdout",
     "output_type": "stream",
     "text": [
      "True\n"
     ]
    }
   ],
   "source": [
    "print(a!=b)\n"
   ]
  },
  {
   "cell_type": "markdown",
   "metadata": {},
   "source": [
    "## Logical Operators\n",
    "- and\n",
    "- or\n",
    "- not"
   ]
  },
  {
   "cell_type": "code",
   "execution_count": 38,
   "metadata": {},
   "outputs": [
    {
     "name": "stdout",
     "output_type": "stream",
     "text": [
      "False\n",
      "True\n",
      "True\n"
     ]
    }
   ],
   "source": [
    "x = 60\n",
    "print(x>0 and x<50)\n",
    "print(x>0 or x<50 or x==50)\n",
    "print(not(x==50))"
   ]
  },
  {
   "cell_type": "markdown",
   "metadata": {},
   "source": [
    "## Condiditional Statements\n",
    "if  \n",
    "else  \n",
    "elif"
   ]
  },
  {
   "cell_type": "code",
   "execution_count": 42,
   "metadata": {},
   "outputs": [
    {
     "ename": "IndentationError",
     "evalue": "unexpected indent (<ipython-input-42-03dd5f3d2d35>, line 4)",
     "output_type": "error",
     "traceback": [
      "\u001b[1;36m  File \u001b[1;32m\"<ipython-input-42-03dd5f3d2d35>\"\u001b[1;36m, line \u001b[1;32m4\u001b[0m\n\u001b[1;33m    print(\"This is inside if block\")\u001b[0m\n\u001b[1;37m    ^\u001b[0m\n\u001b[1;31mIndentationError\u001b[0m\u001b[1;31m:\u001b[0m unexpected indent\n"
     ]
    }
   ],
   "source": [
    "age = 30\n",
    "if age<=18:\n",
    "    print(\"You can vote\")\n",
    "        print(\"This is inside if block\")\n",
    "else:\n",
    "    print(\"Can't vote\")\n",
    "    print(\"This is inside else block\")\n",
    "print(\"This is outside any block\")"
   ]
  },
  {
   "cell_type": "code",
   "execution_count": 46,
   "metadata": {},
   "outputs": [
    {
     "ename": "IndentationError",
     "evalue": "unindent does not match any outer indentation level (<tokenize>, line 4)",
     "output_type": "error",
     "traceback": [
      "\u001b[1;36m  File \u001b[1;32m\"<tokenize>\"\u001b[1;36m, line \u001b[1;32m4\u001b[0m\n\u001b[1;33m    print(\"This is inside if block\")\u001b[0m\n\u001b[1;37m    ^\u001b[0m\n\u001b[1;31mIndentationError\u001b[0m\u001b[1;31m:\u001b[0m unindent does not match any outer indentation level\n"
     ]
    }
   ],
   "source": [
    "age = 30\n",
    "if age<=18:\n",
    "        print(\"You can vote\")\n",
    "    print(\"This is inside if block\")\n",
    "else:\n",
    "    print(\"Can't vote\")\n",
    "    print(\"This is inside else block\")\n",
    "print(\"This is outside any block\")"
   ]
  },
  {
   "cell_type": "code",
   "execution_count": 52,
   "metadata": {},
   "outputs": [
    {
     "name": "stdout",
     "output_type": "stream",
     "text": [
      "Can't vote\n"
     ]
    }
   ],
   "source": [
    "age = 17\n",
    "if age<18:\n",
    "    print(\"Can't vote\")\n",
    "elif age==18:\n",
    "    print(\"Yayy!! ypur first voting\")\n",
    "else:\n",
    "    print(\"Can vote\")"
   ]
  },
  {
   "cell_type": "code",
   "execution_count": 50,
   "metadata": {},
   "outputs": [
    {
     "name": "stdout",
     "output_type": "stream",
     "text": [
      "zero\n"
     ]
    }
   ],
   "source": [
    "x = 0\n",
    "if x>0:\n",
    "    print(\"positive\")\n",
    "elif x == 0:\n",
    "    print(\"zero\")\n",
    "else:\n",
    "    print(\"Negative\")"
   ]
  },
  {
   "cell_type": "markdown",
   "metadata": {},
   "source": [
    "## Loops\n",
    "- while\n",
    "- for\n",
    "- range()"
   ]
  },
  {
   "cell_type": "code",
   "execution_count": 54,
   "metadata": {},
   "outputs": [
    {
     "name": "stdout",
     "output_type": "stream",
     "text": [
      "1 2 3 4 5 6 7 8 9 10 "
     ]
    }
   ],
   "source": [
    "## print numbers 1 to 10\n",
    "i = 1\n",
    "while i<=10:\n",
    "    print(i,  end=\" \")\n",
    "    i += 1 # eqt to i=i+1"
   ]
  },
  {
   "cell_type": "code",
   "execution_count": 58,
   "metadata": {},
   "outputs": [],
   "source": [
    "for i in range(11, 2):\n",
    "    print(i, end=\" \")\n",
    "    "
   ]
  },
  {
   "cell_type": "code",
   "execution_count": 68,
   "metadata": {},
   "outputs": [
    {
     "name": "stdout",
     "output_type": "stream",
     "text": [
      "1 3\n",
      "2 4\n",
      "3 5\n",
      "4 6\n",
      "5 7\n",
      "6 8\n",
      "7 9\n",
      "8 10\n",
      "9 11\n",
      "10 12\n"
     ]
    }
   ],
   "source": [
    "for i in range(1,11):\n",
    "    print(i, end=\" \")\n",
    "    i += 2\n",
    "    print(i)"
   ]
  },
  {
   "cell_type": "code",
   "execution_count": 69,
   "metadata": {},
   "outputs": [
    {
     "name": "stdout",
     "output_type": "stream",
     "text": [
      "10 9 8 7 6 5 4 3 2 1 "
     ]
    }
   ],
   "source": [
    "# print numbers from 10 to 1\n",
    "for i in range(10, 0, -1):\n",
    "    print(i, end=\" \")"
   ]
  },
  {
   "cell_type": "markdown",
   "metadata": {},
   "source": [
    "## Questions:"
   ]
  },
  {
   "cell_type": "markdown",
   "metadata": {},
   "source": [
    "### 1. Pattern 1\n",
    "For given input N, draw the following pattern:\n",
    "N=5\n",
    "```\n",
    "*\n",
    "**\n",
    "***\n",
    "****\n",
    "*****\n",
    "```\n"
   ]
  },
  {
   "cell_type": "code",
   "execution_count": 71,
   "metadata": {},
   "outputs": [
    {
     "name": "stdout",
     "output_type": "stream",
     "text": [
      "*\n",
      "**\n",
      "***\n",
      "****\n",
      "*****\n",
      "******\n",
      "*******\n",
      "********\n"
     ]
    }
   ],
   "source": [
    "n = 8\n",
    "for i in range(1,n+1): # i-> 0 to n\n",
    "    # print stars\n",
    "    for j in range(i):\n",
    "        print(\"*\", end=\"\")\n",
    "    print()"
   ]
  },
  {
   "cell_type": "markdown",
   "metadata": {},
   "source": [
    "### 2. Pattern 2\n",
    "```\n",
    "    *\n",
    "   **\n",
    "  ***\n",
    " ****\n",
    "*****\n",
    "```"
   ]
  },
  {
   "cell_type": "code",
   "execution_count": 76,
   "metadata": {},
   "outputs": [
    {
     "name": "stdout",
     "output_type": "stream",
     "text": [
      "         *\n",
      "        **\n",
      "       ***\n",
      "      ****\n",
      "     *****\n",
      "    ******\n",
      "   *******\n",
      "  ********\n",
      " *********\n",
      "**********\n"
     ]
    }
   ],
   "source": [
    "n = 10\n",
    "for i in range(1,n+1):\n",
    "    # print spaces\n",
    "    for j in range(n-i):\n",
    "        print(\" \", end=\"\")\n",
    "    # print stars\n",
    "    for j in range(i):\n",
    "        print(\"*\", end=\"\")\n",
    "    print()"
   ]
  },
  {
   "cell_type": "markdown",
   "metadata": {},
   "source": [
    "### 3. Pattern 3: Number Pyramid\n",
    "```\n",
    "   1\n",
    "  232\n",
    " 34543\n",
    "4567654\n",
    "```"
   ]
  },
  {
   "cell_type": "code",
   "execution_count": 79,
   "metadata": {},
   "outputs": [
    {
     "name": "stdout",
     "output_type": "stream",
     "text": [
      "    1\n",
      "   232\n",
      "  34543\n",
      " 4567654\n",
      "567898765\n"
     ]
    }
   ],
   "source": [
    "n = 5\n",
    "for i in range(1,n+1):\n",
    "    # print spaces\n",
    "    for j in range(n-i):\n",
    "        print(\" \", end=\"\")\n",
    "        \n",
    "    # print num in increasing order\n",
    "    num = i\n",
    "    for j in range(i):\n",
    "        print(num, end=\"\")\n",
    "        num += 1\n",
    "    num = num-2\n",
    "    \n",
    "    # print num in decreasing order\n",
    "    for j in range(i-1):\n",
    "        print(num, end=\"\")\n",
    "        num -= 1\n",
    "        \n",
    "    print()"
   ]
  },
  {
   "cell_type": "markdown",
   "metadata": {},
   "source": [
    "## Day 3 (28/Oct/2021)\n",
    "Thursday"
   ]
  },
  {
   "cell_type": "markdown",
   "metadata": {},
   "source": [
    "### 4. Find the min and max of n integers input by the user"
   ]
  },
  {
   "cell_type": "code",
   "execution_count": 5,
   "metadata": {},
   "outputs": [
    {
     "name": "stdout",
     "output_type": "stream",
     "text": [
      "5\n",
      "0th iteration: min: 5 max: 5\n",
      "3\n",
      "1th iteration: min: 3 max: 5\n",
      "6\n",
      "2th iteration: min: 3 max: 6\n",
      "5\n",
      "3th iteration: min: 3 max: 6\n",
      "-3\n",
      "4th iteration: min: -3 max: 6\n",
      "100\n",
      "5th iteration: min: -3 max: 100\n",
      "-2345\n",
      "6th iteration: min: -2345 max: 100\n",
      "-2345 100\n"
     ]
    }
   ],
   "source": [
    "import math\n",
    "\n",
    "N = 7\n",
    "min_ = math.inf\n",
    "max_ = -math.inf\n",
    "\n",
    "for i in range(N):\n",
    "    num = int(input())\n",
    "    if num < min_:\n",
    "        min_ = num\n",
    "    if num > max_:\n",
    "        max_ = num\n",
    "    print(f\"{i}th iteration: min: {min_} max: {max_}\")\n",
    "print(min_, max_)"
   ]
  },
  {
   "cell_type": "markdown",
   "metadata": {},
   "source": [
    "### 5. Given a number n, check if it's prime or not "
   ]
  },
  {
   "cell_type": "code",
   "execution_count": 23,
   "metadata": {},
   "outputs": [
    {
     "name": "stdout",
     "output_type": "stream",
     "text": [
      "57\n",
      "Not prime\n"
     ]
    }
   ],
   "source": [
    "n = int(input())\n",
    "\n",
    "if n==1:\n",
    "    print(\"Not prime\")\n",
    "if n==2:\n",
    "    print(\"prime\")\n",
    "for i in range(2, n):\n",
    "    if n%i == 0:\n",
    "        print(\"Not prime\")\n",
    "        break\n",
    "if i+1==n:\n",
    "    print(i,\"Prime\")"
   ]
  },
  {
   "cell_type": "code",
   "execution_count": 37,
   "metadata": {},
   "outputs": [
    {
     "data": {
      "text/plain": [
       "1000000007"
      ]
     },
     "execution_count": 37,
     "metadata": {},
     "output_type": "execute_result"
    }
   ],
   "source": [
    "int(1e9+7) # 10**9 + 7 # prime"
   ]
  },
  {
   "cell_type": "code",
   "execution_count": 35,
   "metadata": {},
   "outputs": [
    {
     "name": "stdout",
     "output_type": "stream",
     "text": [
      "1000000007\n",
      "Prime\n"
     ]
    }
   ],
   "source": [
    "n = int(input())\n",
    "flag = False\n",
    "for i in range(2,int(math.sqrt(n))+1):\n",
    "    if n%i == 0:\n",
    "        flag = True\n",
    "        break\n",
    "if flag:\n",
    "    print(\"Not prime\")\n",
    "else:\n",
    "    print(\"Prime\")"
   ]
  },
  {
   "cell_type": "code",
   "execution_count": 28,
   "metadata": {},
   "outputs": [
    {
     "data": {
      "text/plain": [
       "3"
      ]
     },
     "execution_count": 28,
     "metadata": {},
     "output_type": "execute_result"
    }
   ],
   "source": [
    "int(math.sqrt(10))"
   ]
  },
  {
   "cell_type": "markdown",
   "metadata": {},
   "source": [
    "### 6. Find the sum of odd and even digits of a number"
   ]
  },
  {
   "cell_type": "code",
   "execution_count": 39,
   "metadata": {},
   "outputs": [
    {
     "name": "stdout",
     "output_type": "stream",
     "text": [
      "number: 9874632 last digit: 2 even sum: 2, odd sum: 0\n",
      "number: 987463 last digit: 3 even sum: 2, odd sum: 3\n",
      "number: 98746 last digit: 6 even sum: 8, odd sum: 3\n",
      "number: 9874 last digit: 4 even sum: 12, odd sum: 3\n",
      "number: 987 last digit: 7 even sum: 12, odd sum: 10\n",
      "number: 98 last digit: 8 even sum: 20, odd sum: 10\n",
      "number: 9 last digit: 9 even sum: 20, odd sum: 19\n",
      "even sum: 20, odd sum: 19\n"
     ]
    }
   ],
   "source": [
    "n = 9874632\n",
    "\n",
    "even_sum = 0\n",
    "odd_sum =  0\n",
    "while n>0:\n",
    "    rem = n%10 # last digit of the number\n",
    "    if rem%2 == 0:\n",
    "        even_sum += rem\n",
    "    else:\n",
    "        odd_sum += rem\n",
    "    print(f\"number: {n} last digit: {rem} even sum: {even_sum}, odd sum: {odd_sum}\")    \n",
    "    # update the num\n",
    "    n = n//10\n",
    "    \n",
    "print(f\"even sum: {even_sum}, odd sum: {odd_sum}\")"
   ]
  },
  {
   "cell_type": "markdown",
   "metadata": {},
   "source": [
    "### 6.5 Find the sum of all digits of given number\n",
    "Example,   \n",
    "n = 378  \n",
    "output: 3+7+8 = 18  \n",
    "  \n",
    "n = 673927  \n",
    "output = 6+7+3+9+2+7 = 34  "
   ]
  },
  {
   "cell_type": "code",
   "execution_count": null,
   "metadata": {},
   "outputs": [],
   "source": []
  },
  {
   "cell_type": "markdown",
   "metadata": {},
   "source": [
    "### 7. Reverse a given number\n",
    "n = 1234  \n",
    "output: 4321"
   ]
  },
  {
   "cell_type": "code",
   "execution_count": 44,
   "metadata": {},
   "outputs": [
    {
     "name": "stdout",
     "output_type": "stream",
     "text": [
      "n: 1234, last digit: 4, ans = 0 * 10 + 4 = 4\n",
      "n: 123, last digit: 3, ans = 4 * 10 + 3 = 43\n",
      "n: 12, last digit: 2, ans = 43 * 10 + 2 = 432\n",
      "n: 1, last digit: 1, ans = 432 * 10 + 1 = 4321\n",
      "4321\n"
     ]
    }
   ],
   "source": [
    "\n",
    "n = 1234\n",
    "\n",
    "ans = 0\n",
    "while n>0:\n",
    "    last_digit = n%10\n",
    "    \n",
    "    print(f\"n: {n}, last digit: {last_digit}, ans = {ans} * {10} + {last_digit} = {ans*10 + last_digit}\")\n",
    "    ans = ans*10 + last_digit\n",
    "    n = n//10 # update the number n\n",
    "print(ans)"
   ]
  },
  {
   "cell_type": "markdown",
   "metadata": {},
   "source": [
    "### 8. Check if a given integer is palindrome or not. Constraint N > 0."
   ]
  },
  {
   "cell_type": "code",
   "execution_count": 5,
   "metadata": {},
   "outputs": [
    {
     "name": "stdout",
     "output_type": "stream",
     "text": [
      "Count of digits: 5\n",
      "12325 is not Palindrome\n"
     ]
    }
   ],
   "source": [
    "n = 12325\n",
    "\n",
    "\n",
    "a = n # save the number in a variable\n",
    "# count the digits\n",
    "count = 0\n",
    "while a>0:\n",
    "    count += 1\n",
    "    a //= 10\n",
    "print(\"Count of digits:\", count)\n",
    "\n",
    "a = n\n",
    "# reverse the number\n",
    "rev = 0\n",
    "for i in range(count//2):\n",
    "    last_digit = n%10\n",
    "    rev = rev*10 + last_digit\n",
    "    n //= 10 # n = n//10\n",
    "if count%2==1:\n",
    "    n //= 10\n",
    "if n==rev:\n",
    "    print(a, \"is Palindrome\")\n",
    "else:\n",
    "    print(a, \"is not Palindrome\")\n"
   ]
  },
  {
   "cell_type": "markdown",
   "metadata": {},
   "source": [
    "### 9. Print the below pattern: Satiya \n",
    "\n",
    "N = 7\n",
    "```\n",
    "*     * * * * \n",
    "*     *\n",
    "*     *\n",
    "* * * * * * *\n",
    "      *     * \n",
    "      *     *\n",
    "* * * *     *      \n",
    "```"
   ]
  },
  {
   "cell_type": "code",
   "execution_count": 2,
   "metadata": {},
   "outputs": [
    {
     "name": "stdout",
     "output_type": "stream",
     "text": [
      "7\n",
      "*     * * * * \n",
      "*     *       \n",
      "*     *       \n",
      "* * * * * * * \n",
      "      *     * \n",
      "      *     * \n",
      "* * * *     * \n"
     ]
    }
   ],
   "source": [
    "n=int(input())\n",
    "for i in range(n):\n",
    "    for j in range(n):\n",
    "        # update the conditions for swastik pattern \n",
    "        if i==n//2 or j==n//2 or (j==0 and i<n//2) or (i==0 and j>n//2) or (i==n-1 and j<n//2) or(j==n-1 and i>n//2):\n",
    "            print(\"*\",end=\" \")\n",
    "        else:\n",
    "            print(\" \",end=\" \")\n",
    "    print()"
   ]
  },
  {
   "cell_type": "code",
   "execution_count": null,
   "metadata": {},
   "outputs": [],
   "source": []
  }
 ],
 "metadata": {
  "kernelspec": {
   "display_name": "Python 3",
   "language": "python",
   "name": "python3"
  },
  "language_info": {
   "codemirror_mode": {
    "name": "ipython",
    "version": 3
   },
   "file_extension": ".py",
   "mimetype": "text/x-python",
   "name": "python",
   "nbconvert_exporter": "python",
   "pygments_lexer": "ipython3",
   "version": "3.7.3"
  }
 },
 "nbformat": 4,
 "nbformat_minor": 5
}
