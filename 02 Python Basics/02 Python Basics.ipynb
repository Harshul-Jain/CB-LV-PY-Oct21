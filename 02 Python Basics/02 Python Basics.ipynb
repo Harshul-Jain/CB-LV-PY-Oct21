{
 "cells": [
  {
   "cell_type": "markdown",
   "id": "9686a7cb",
   "metadata": {},
   "source": [
    "## Day 2 (26/Oct/2021)\n",
    "Tuesday"
   ]
  },
  {
   "cell_type": "markdown",
   "id": "bc225354",
   "metadata": {},
   "source": [
    "## Taking input from user and TypeCasting\n",
    "Write program to add two integers given by the user"
   ]
  },
  {
   "cell_type": "code",
   "execution_count": null,
   "id": "d1665a87",
   "metadata": {},
   "outputs": [],
   "source": [
    "## shortcut for comment/ uncomment -> ctrl+/"
   ]
  },
  {
   "cell_type": "code",
   "execution_count": 10,
   "id": "f918aa15",
   "metadata": {},
   "outputs": [
    {
     "name": "stdout",
     "output_type": "stream",
     "text": [
      "Enter first integer: 4\n",
      "Enter second integer: 6\n",
      "The sum of a and b is 10\n"
     ]
    }
   ],
   "source": [
    "a = int(input(\"Enter first integer: \"))\n",
    "b = int(input(\"Enter second integer: \"))\n",
    "# a = int(a)\n",
    "# b = int(b)\n",
    "print(\"The sum of a and b is\", a+b)"
   ]
  },
  {
   "cell_type": "code",
   "execution_count": 2,
   "id": "da0c2718",
   "metadata": {},
   "outputs": [
    {
     "data": {
      "text/plain": [
       "str"
      ]
     },
     "execution_count": 2,
     "metadata": {},
     "output_type": "execute_result"
    }
   ],
   "source": [
    "type(a)"
   ]
  },
  {
   "cell_type": "code",
   "execution_count": 3,
   "id": "74f3f6c1",
   "metadata": {},
   "outputs": [
    {
     "data": {
      "text/plain": [
       "str"
      ]
     },
     "execution_count": 3,
     "metadata": {},
     "output_type": "execute_result"
    }
   ],
   "source": [
    "type(b)"
   ]
  },
  {
   "cell_type": "code",
   "execution_count": 4,
   "id": "6efa9d8c",
   "metadata": {},
   "outputs": [
    {
     "data": {
      "text/plain": [
       "'43578'"
      ]
     },
     "execution_count": 4,
     "metadata": {},
     "output_type": "execute_result"
    }
   ],
   "source": [
    "s1 = \"435\"\n",
    "s2 = \"78\"\n",
    "s1+s2"
   ]
  },
  {
   "cell_type": "code",
   "execution_count": 9,
   "id": "7a34daa4",
   "metadata": {},
   "outputs": [
    {
     "name": "stdout",
     "output_type": "stream",
     "text": [
      "4 7\n"
     ]
    },
    {
     "data": {
      "text/plain": [
       "4"
      ]
     },
     "execution_count": 9,
     "metadata": {},
     "output_type": "execute_result"
    }
   ],
   "source": [
    "print(a, b)\n",
    "int(a)"
   ]
  },
  {
   "cell_type": "code",
   "execution_count": 11,
   "id": "f2c5c324",
   "metadata": {},
   "outputs": [
    {
     "name": "stdout",
     "output_type": "stream",
     "text": [
      "67 <class 'int'>\n",
      "67 <class 'str'>\n"
     ]
    }
   ],
   "source": [
    "c = 67\n",
    "print(c, type(c))\n",
    "c = str(c)\n",
    "print(c, type(c))"
   ]
  },
  {
   "cell_type": "code",
   "execution_count": 12,
   "id": "4c33a9b8",
   "metadata": {},
   "outputs": [],
   "source": [
    "# float(), bool()"
   ]
  },
  {
   "cell_type": "markdown",
   "id": "c4ba7b45",
   "metadata": {},
   "source": [
    "## String Formatting\n",
    "- Concatenate using +\n",
    "- .format()\n",
    "- %()\n",
    "- f strings"
   ]
  },
  {
   "cell_type": "code",
   "execution_count": 13,
   "id": "c286eb64",
   "metadata": {},
   "outputs": [],
   "source": [
    "# Expected output: \"My name is Princey. I graduated in 2020. I work at Coding Blocks\""
   ]
  },
  {
   "cell_type": "code",
   "execution_count": 14,
   "id": "64301657",
   "metadata": {},
   "outputs": [],
   "source": [
    "name = \"Princey\"\n",
    "year = 2020\n",
    "company = \"Coding Blocks\""
   ]
  },
  {
   "cell_type": "code",
   "execution_count": 16,
   "id": "24edae3e",
   "metadata": {},
   "outputs": [
    {
     "name": "stdout",
     "output_type": "stream",
     "text": [
      "My name is Princey. I graduated in 2020. I work at Coding Blocks\n"
     ]
    }
   ],
   "source": [
    "s = \"My name is \"+name+\". I graduated in \"+str(year)+\". I work at \"+company\n",
    "print(s)"
   ]
  },
  {
   "cell_type": "code",
   "execution_count": 17,
   "id": "1e73997e",
   "metadata": {},
   "outputs": [
    {
     "name": "stdout",
     "output_type": "stream",
     "text": [
      "My name is Princey. I graduated in 2020. I work at Coding Blocks\n"
     ]
    }
   ],
   "source": [
    "s = \"My name is {}. I graduated in {}. I work at {}\".format(name, year, company)\n",
    "print(s)"
   ]
  },
  {
   "cell_type": "code",
   "execution_count": 18,
   "id": "a758244f",
   "metadata": {},
   "outputs": [
    {
     "name": "stdout",
     "output_type": "stream",
     "text": [
      "My name is Princey. I graduated in 2020. I work at Coding Blocks\n"
     ]
    }
   ],
   "source": [
    "s = \"My name is {0}. I graduated in {1}. I work at {2}\".format(name, year, company)\n",
    "print(s)"
   ]
  },
  {
   "cell_type": "code",
   "execution_count": 21,
   "id": "363a415d",
   "metadata": {},
   "outputs": [
    {
     "name": "stdout",
     "output_type": "stream",
     "text": [
      "My name is Princey. I graduated in 2020. I work at Coding Blocks\n"
     ]
    }
   ],
   "source": [
    "s = \"My name is {a}. I graduated in {b}. I work at {c}\".format(b=year, a=name, c=company)\n",
    "print(s)"
   ]
  },
  {
   "cell_type": "code",
   "execution_count": 22,
   "id": "64bd042a",
   "metadata": {},
   "outputs": [
    {
     "name": "stdout",
     "output_type": "stream",
     "text": [
      "My name is Princey. I graduated in 2020. I work at Coding Blocks\n"
     ]
    }
   ],
   "source": [
    "s = \"My name is {name}. I graduated in {year}. I work at {company}\".format(year=year, name=name, company=company)\n",
    "print(s)"
   ]
  },
  {
   "cell_type": "markdown",
   "id": "07be2a2d",
   "metadata": {},
   "source": [
    "### f-strings"
   ]
  },
  {
   "cell_type": "code",
   "execution_count": 25,
   "id": "864f5dc8",
   "metadata": {},
   "outputs": [
    {
     "name": "stdout",
     "output_type": "stream",
     "text": [
      "My name is Ashish. I graduated in 2020. I work at Coding Blocks\n"
     ]
    }
   ],
   "source": [
    "name = \"Ashish\"\n",
    "s1 = f\"My name is {name}. I graduated in {year}. I work at {company}\" # f-strings\n",
    "print(s1)"
   ]
  },
  {
   "cell_type": "code",
   "execution_count": 26,
   "id": "61f7daa8",
   "metadata": {},
   "outputs": [
    {
     "name": "stdout",
     "output_type": "stream",
     "text": [
      "My name is Ashish. I graduated in 2020. I work at Coding Blocks\n"
     ]
    }
   ],
   "source": [
    "s2 = \"My name is %s. I graduated in %d. I work at %s\"%(name, year, company)\n",
    "print(s2)"
   ]
  },
  {
   "cell_type": "code",
   "execution_count": 15,
   "id": "9b0c4c09",
   "metadata": {},
   "outputs": [
    {
     "ename": "TypeError",
     "evalue": "can only concatenate str (not \"int\") to str",
     "output_type": "error",
     "traceback": [
      "\u001b[1;31m---------------------------------------------------------------------------\u001b[0m",
      "\u001b[1;31mTypeError\u001b[0m                                 Traceback (most recent call last)",
      "\u001b[1;32m<ipython-input-15-9bd2100a3cff>\u001b[0m in \u001b[0;36m<module>\u001b[1;34m\u001b[0m\n\u001b[0;32m      1\u001b[0m \u001b[0ma\u001b[0m \u001b[1;33m=\u001b[0m \u001b[1;34m\"hello\"\u001b[0m\u001b[1;33m\u001b[0m\u001b[1;33m\u001b[0m\u001b[0m\n\u001b[0;32m      2\u001b[0m \u001b[0mb\u001b[0m \u001b[1;33m=\u001b[0m \u001b[1;36m67\u001b[0m\u001b[1;33m\u001b[0m\u001b[1;33m\u001b[0m\u001b[0m\n\u001b[1;32m----> 3\u001b[1;33m \u001b[0ma\u001b[0m\u001b[1;33m+\u001b[0m\u001b[0mb\u001b[0m\u001b[1;33m\u001b[0m\u001b[1;33m\u001b[0m\u001b[0m\n\u001b[0m",
      "\u001b[1;31mTypeError\u001b[0m: can only concatenate str (not \"int\") to str"
     ]
    }
   ],
   "source": [
    "a = \"hello\"\n",
    "b = 67\n",
    "a+b"
   ]
  },
  {
   "cell_type": "markdown",
   "id": "d1df9a79",
   "metadata": {},
   "source": [
    "## Comparison Operators\n",
    "```\n",
    ">= <= > < == !=\n",
    "```"
   ]
  },
  {
   "cell_type": "code",
   "execution_count": 32,
   "id": "0dc1e364",
   "metadata": {},
   "outputs": [
    {
     "name": "stdout",
     "output_type": "stream",
     "text": [
      "True\n"
     ]
    }
   ],
   "source": [
    "a=4\n",
    "b = 6\n",
    "print(a<=b)"
   ]
  },
  {
   "cell_type": "code",
   "execution_count": 33,
   "id": "d7f8af3b",
   "metadata": {},
   "outputs": [
    {
     "name": "stdout",
     "output_type": "stream",
     "text": [
      "False\n"
     ]
    }
   ],
   "source": [
    "print(a==b)"
   ]
  },
  {
   "cell_type": "code",
   "execution_count": 34,
   "id": "b8e04feb",
   "metadata": {},
   "outputs": [
    {
     "name": "stdout",
     "output_type": "stream",
     "text": [
      "True\n"
     ]
    }
   ],
   "source": [
    "print(a!=b)\n"
   ]
  },
  {
   "cell_type": "markdown",
   "id": "e65b3bcc",
   "metadata": {},
   "source": [
    "## Logical Operators\n",
    "- and\n",
    "- or\n",
    "- not"
   ]
  },
  {
   "cell_type": "code",
   "execution_count": 38,
   "id": "23722183",
   "metadata": {},
   "outputs": [
    {
     "name": "stdout",
     "output_type": "stream",
     "text": [
      "False\n",
      "True\n",
      "True\n"
     ]
    }
   ],
   "source": [
    "x = 60\n",
    "print(x>0 and x<50)\n",
    "print(x>0 or x<50 or x==50)\n",
    "print(not(x==50))"
   ]
  },
  {
   "cell_type": "markdown",
   "id": "003b33fe",
   "metadata": {},
   "source": [
    "## Condiditional Statements\n",
    "if  \n",
    "else  \n",
    "elif"
   ]
  },
  {
   "cell_type": "code",
   "execution_count": 42,
   "id": "b04bf909",
   "metadata": {},
   "outputs": [
    {
     "ename": "IndentationError",
     "evalue": "unexpected indent (<ipython-input-42-03dd5f3d2d35>, line 4)",
     "output_type": "error",
     "traceback": [
      "\u001b[1;36m  File \u001b[1;32m\"<ipython-input-42-03dd5f3d2d35>\"\u001b[1;36m, line \u001b[1;32m4\u001b[0m\n\u001b[1;33m    print(\"This is inside if block\")\u001b[0m\n\u001b[1;37m    ^\u001b[0m\n\u001b[1;31mIndentationError\u001b[0m\u001b[1;31m:\u001b[0m unexpected indent\n"
     ]
    }
   ],
   "source": [
    "age = 30\n",
    "if age<=18:\n",
    "    print(\"You can vote\")\n",
    "        print(\"This is inside if block\")\n",
    "else:\n",
    "    print(\"Can't vote\")\n",
    "    print(\"This is inside else block\")\n",
    "print(\"This is outside any block\")"
   ]
  },
  {
   "cell_type": "code",
   "execution_count": 46,
   "id": "dc56a192",
   "metadata": {},
   "outputs": [
    {
     "ename": "IndentationError",
     "evalue": "unindent does not match any outer indentation level (<tokenize>, line 4)",
     "output_type": "error",
     "traceback": [
      "\u001b[1;36m  File \u001b[1;32m\"<tokenize>\"\u001b[1;36m, line \u001b[1;32m4\u001b[0m\n\u001b[1;33m    print(\"This is inside if block\")\u001b[0m\n\u001b[1;37m    ^\u001b[0m\n\u001b[1;31mIndentationError\u001b[0m\u001b[1;31m:\u001b[0m unindent does not match any outer indentation level\n"
     ]
    }
   ],
   "source": [
    "age = 30\n",
    "if age<=18:\n",
    "        print(\"You can vote\")\n",
    "    print(\"This is inside if block\")\n",
    "else:\n",
    "    print(\"Can't vote\")\n",
    "    print(\"This is inside else block\")\n",
    "print(\"This is outside any block\")"
   ]
  },
  {
   "cell_type": "code",
   "execution_count": 52,
   "id": "873dbe8b",
   "metadata": {},
   "outputs": [
    {
     "name": "stdout",
     "output_type": "stream",
     "text": [
      "Can't vote\n"
     ]
    }
   ],
   "source": [
    "age = 17\n",
    "if age<18:\n",
    "    print(\"Can't vote\")\n",
    "elif age==18:\n",
    "    print(\"Yayy!! ypur first voting\")\n",
    "else:\n",
    "    print(\"Can vote\")"
   ]
  },
  {
   "cell_type": "code",
   "execution_count": 50,
   "id": "c640f99f",
   "metadata": {},
   "outputs": [
    {
     "name": "stdout",
     "output_type": "stream",
     "text": [
      "zero\n"
     ]
    }
   ],
   "source": [
    "x = 0\n",
    "if x>0:\n",
    "    print(\"positive\")\n",
    "elif x == 0:\n",
    "    print(\"zero\")\n",
    "else:\n",
    "    print(\"Negative\")"
   ]
  },
  {
   "cell_type": "markdown",
   "id": "ac50385b",
   "metadata": {},
   "source": [
    "## Loops\n",
    "- while\n",
    "- for\n",
    "- range()"
   ]
  },
  {
   "cell_type": "code",
   "execution_count": 54,
   "id": "a83daea6",
   "metadata": {},
   "outputs": [
    {
     "name": "stdout",
     "output_type": "stream",
     "text": [
      "1 2 3 4 5 6 7 8 9 10 "
     ]
    }
   ],
   "source": [
    "## print numbers 1 to 10\n",
    "i = 1\n",
    "while i<=10:\n",
    "    print(i,  end=\" \")\n",
    "    i += 1 # eqt to i=i+1"
   ]
  },
  {
   "cell_type": "code",
   "execution_count": 58,
   "id": "f5787cec",
   "metadata": {},
   "outputs": [],
   "source": [
    "for i in range(11, 2):\n",
    "    print(i, end=\" \")\n",
    "    "
   ]
  },
  {
   "cell_type": "code",
   "execution_count": 68,
   "id": "a0d8b0eb",
   "metadata": {},
   "outputs": [
    {
     "name": "stdout",
     "output_type": "stream",
     "text": [
      "1 3\n",
      "2 4\n",
      "3 5\n",
      "4 6\n",
      "5 7\n",
      "6 8\n",
      "7 9\n",
      "8 10\n",
      "9 11\n",
      "10 12\n"
     ]
    }
   ],
   "source": [
    "for i in range(1,11):\n",
    "    print(i, end=\" \")\n",
    "    i += 2\n",
    "    print(i)"
   ]
  },
  {
   "cell_type": "code",
   "execution_count": 69,
   "id": "0855e38e",
   "metadata": {},
   "outputs": [
    {
     "name": "stdout",
     "output_type": "stream",
     "text": [
      "10 9 8 7 6 5 4 3 2 1 "
     ]
    }
   ],
   "source": [
    "# print numbers from 10 to 1\n",
    "for i in range(10, 0, -1):\n",
    "    print(i, end=\" \")"
   ]
  },
  {
   "cell_type": "markdown",
   "id": "6a300ada",
   "metadata": {},
   "source": [
    "## Questions:"
   ]
  },
  {
   "cell_type": "markdown",
   "id": "1b7a7f29",
   "metadata": {},
   "source": [
    "### 1. Pattern 1\n",
    "For given input N, draw the following pattern:\n",
    "N=5\n",
    "```\n",
    "*\n",
    "**\n",
    "***\n",
    "****\n",
    "*****\n",
    "```\n"
   ]
  },
  {
   "cell_type": "code",
   "execution_count": 71,
   "id": "7b4681ec",
   "metadata": {},
   "outputs": [
    {
     "name": "stdout",
     "output_type": "stream",
     "text": [
      "*\n",
      "**\n",
      "***\n",
      "****\n",
      "*****\n",
      "******\n",
      "*******\n",
      "********\n"
     ]
    }
   ],
   "source": [
    "n = 8\n",
    "for i in range(1,n+1): # i-> 0 to n\n",
    "    # print stars\n",
    "    for j in range(i):\n",
    "        print(\"*\", end=\"\")\n",
    "    print()"
   ]
  },
  {
   "cell_type": "markdown",
   "id": "ce7094b9",
   "metadata": {},
   "source": [
    "### 2. Pattern 2\n",
    "```\n",
    "    *\n",
    "   **\n",
    "  ***\n",
    " ****\n",
    "*****\n",
    "```"
   ]
  },
  {
   "cell_type": "code",
   "execution_count": 76,
   "id": "25e634ea",
   "metadata": {},
   "outputs": [
    {
     "name": "stdout",
     "output_type": "stream",
     "text": [
      "         *\n",
      "        **\n",
      "       ***\n",
      "      ****\n",
      "     *****\n",
      "    ******\n",
      "   *******\n",
      "  ********\n",
      " *********\n",
      "**********\n"
     ]
    }
   ],
   "source": [
    "n = 10\n",
    "for i in range(1,n+1):\n",
    "    # print spaces\n",
    "    for j in range(n-i):\n",
    "        print(\" \", end=\"\")\n",
    "    # print stars\n",
    "    for j in range(i):\n",
    "        print(\"*\", end=\"\")\n",
    "    print()"
   ]
  },
  {
   "cell_type": "markdown",
   "id": "dbf9f22c",
   "metadata": {},
   "source": [
    "### 3. Pattern 3: Number Pyramid\n",
    "```\n",
    "   1\n",
    "  232\n",
    " 34543\n",
    "4567654\n",
    "```"
   ]
  },
  {
   "cell_type": "code",
   "execution_count": 79,
   "id": "196e6397",
   "metadata": {},
   "outputs": [
    {
     "name": "stdout",
     "output_type": "stream",
     "text": [
      "    1\n",
      "   232\n",
      "  34543\n",
      " 4567654\n",
      "567898765\n"
     ]
    }
   ],
   "source": [
    "n = 5\n",
    "for i in range(1,n+1):\n",
    "    # print spaces\n",
    "    for j in range(n-i):\n",
    "        print(\" \", end=\"\")\n",
    "        \n",
    "    # print num in increasing order\n",
    "    num = i\n",
    "    for j in range(i):\n",
    "        print(num, end=\"\")\n",
    "        num += 1\n",
    "    num = num-2\n",
    "    \n",
    "    # print num in decreasing order\n",
    "    for j in range(i-1):\n",
    "        print(num, end=\"\")\n",
    "        num -= 1\n",
    "        \n",
    "    print()"
   ]
  },
  {
   "cell_type": "markdown",
   "id": "627ae067",
   "metadata": {},
   "source": [
    "### 4. Find the min and max of n integers input by the user"
   ]
  },
  {
   "cell_type": "code",
   "execution_count": null,
   "id": "bbc753af",
   "metadata": {},
   "outputs": [],
   "source": []
  },
  {
   "cell_type": "code",
   "execution_count": null,
   "id": "a133d6b3",
   "metadata": {},
   "outputs": [],
   "source": []
  },
  {
   "cell_type": "markdown",
   "id": "6a6be9cd",
   "metadata": {},
   "source": [
    "### 5. Given a number n, check if it's prime or not "
   ]
  },
  {
   "cell_type": "code",
   "execution_count": null,
   "id": "70a5cf7b",
   "metadata": {},
   "outputs": [],
   "source": []
  },
  {
   "cell_type": "code",
   "execution_count": null,
   "id": "dc368932",
   "metadata": {},
   "outputs": [],
   "source": []
  },
  {
   "cell_type": "markdown",
   "id": "da378157",
   "metadata": {},
   "source": [
    "### 6. Find the sum of odd and even digits of a number"
   ]
  },
  {
   "cell_type": "code",
   "execution_count": null,
   "id": "a9fa32da",
   "metadata": {},
   "outputs": [],
   "source": []
  },
  {
   "cell_type": "markdown",
   "id": "bfc716f4",
   "metadata": {},
   "source": [
    "### 7. Check if a given integer is palindrome or not. Constraint N > 0."
   ]
  },
  {
   "cell_type": "code",
   "execution_count": null,
   "id": "3d1cfbc6",
   "metadata": {},
   "outputs": [],
   "source": []
  },
  {
   "cell_type": "markdown",
   "id": "52b5831b",
   "metadata": {},
   "source": [
    "### 8. Print the below pattern: Satiya \n",
    "    "
   ]
  },
  {
   "cell_type": "code",
   "execution_count": null,
   "id": "c5d683fd",
   "metadata": {},
   "outputs": [],
   "source": []
  }
 ],
 "metadata": {
  "kernelspec": {
   "display_name": "Python 3",
   "language": "python",
   "name": "python3"
  },
  "language_info": {
   "codemirror_mode": {
    "name": "ipython",
    "version": 3
   },
   "file_extension": ".py",
   "mimetype": "text/x-python",
   "name": "python",
   "nbconvert_exporter": "python",
   "pygments_lexer": "ipython3",
   "version": "3.9.4"
  }
 },
 "nbformat": 4,
 "nbformat_minor": 5
}
