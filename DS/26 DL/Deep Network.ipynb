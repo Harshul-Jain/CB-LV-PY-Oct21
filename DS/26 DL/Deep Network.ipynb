{
 "cells": [
  {
   "cell_type": "code",
   "execution_count": 1,
   "id": "c01e02af",
   "metadata": {},
   "outputs": [],
   "source": [
    "import numpy as np"
   ]
  },
  {
   "cell_type": "code",
   "execution_count": 2,
   "id": "fcaac089",
   "metadata": {},
   "outputs": [],
   "source": [
    "x = np.random.rand(2,1)\n",
    "y = np.ones((1,1))"
   ]
  },
  {
   "cell_type": "code",
   "execution_count": 3,
   "id": "d13bda78",
   "metadata": {},
   "outputs": [
    {
     "data": {
      "text/plain": [
       "(array([[0.25332887],\n",
       "        [0.29207688]]),\n",
       " array([[1.]]))"
      ]
     },
     "execution_count": 3,
     "metadata": {},
     "output_type": "execute_result"
    }
   ],
   "source": [
    "x, y"
   ]
  },
  {
   "cell_type": "code",
   "execution_count": 61,
   "id": "63bf1e8c",
   "metadata": {},
   "outputs": [],
   "source": [
    "# Activation Entity\n",
    "class ReLU: \n",
    "    \n",
    "    def __init__(self):\n",
    "        pass\n",
    "    \n",
    "    def forward(self, Z):\n",
    "        return np.where(Z>0, Z, np.zeros_like(Z))\n",
    "        \n",
    "    def __call__(self, Z):\n",
    "        return self.forward(Z)\n",
    "    \n",
    "    def grad(self, Z):\n",
    "        return {\"i\": self.grad_i(Z)}\n",
    "        \n",
    "    def grad_i(self, Z):\n",
    "        return np.diag(np.where(Z>0, np.ones_like(Z), np.zeros_like(Z)).reshape(-1))\n",
    "        \n",
    "    def update(self, *args, **kwargs):\n",
    "        pass\n",
    "    \n",
    "class Sigmoid:\n",
    "    def  __init__(self):\n",
    "        pass\n",
    "    \n",
    "    def forward(self, Z):\n",
    "        return 1/(1+np.exp(-Z))\n",
    "    \n",
    "    def __call__(self, Z):\n",
    "        return self.forward(Z)\n",
    "    \n",
    "    def grad(self, Z):\n",
    "        return {\"i\": self.grad_i(Z)}\n",
    "    \n",
    "    def grad_i(self, Z):\n",
    "        y = self(Z)\n",
    "        return np.diag((y*(1-y)).reshape(-1))\n",
    "    \n",
    "    def update(self, *args, **kwargs):\n",
    "        pass"
   ]
  },
  {
   "cell_type": "code",
   "execution_count": 234,
   "id": "46385d89",
   "metadata": {},
   "outputs": [],
   "source": [
    "# Layer entity\n",
    "class Dense: \n",
    "    \n",
    "    def __init__(self, no_of_neurons, input_size):\n",
    "        \n",
    "        self.W = np.random.randn(input_size, no_of_neurons)\n",
    "        self.b = np.random.randn(no_of_neurons, 1)\n",
    "    \n",
    "    def __call__(self, X):\n",
    "        return self.forward(X)\n",
    "    \n",
    "    def grad(self, X):\n",
    "        return {\"i\": self.grad_i(X), \"b\": self.grad_b(X), \"w\": self.grad_w(X)}\n",
    "    \n",
    "    def grad_i(self, X):\n",
    "        return self.W.T\n",
    "    \n",
    "    def grad_b(self, X):\n",
    "        return np.identity(X.shape[0])\n",
    "    \n",
    "    def grad_w(self, X):\n",
    "        m, n = self.W.shape\n",
    "        return (np.repeat(np.eye(n), repeats=m, axis=0)*np.repeat(np.expand_dims(X, 0), repeats=n, axis=0).reshape(m*n, 1)).reshape(n,m,n)\n",
    "        \n",
    "    def forward(self, X):\n",
    "        return np.matmul(self.W.T, X) + self.b        \n",
    "    \n",
    "    def update(self, grad, func):\n",
    "        \n",
    "        self.W = func(self.W, grad[\"w\"])\n",
    "        self.b = func(self.b, grad[\"b\"])"
   ]
  },
  {
   "cell_type": "code",
   "execution_count": 235,
   "id": "0534ab1d",
   "metadata": {},
   "outputs": [],
   "source": [
    "# Model entity \n",
    "class Sequential:\n",
    "    \n",
    "    def __init__(self, layers=[]):\n",
    "        self.layers = layers\n",
    "        \n",
    "    def __call__(self, X):\n",
    "        return self.forward(X)\n",
    "    \n",
    "    def forward(self, X, with_grad=False):\n",
    "        grads = []\n",
    "        for layer in self.layers:\n",
    "            if with_grad:\n",
    "                grads.append(layer.grad(X))\n",
    "            X = layer.forward(X)\n",
    "        return (X, grads) if with_grad else X\n",
    "    \n",
    "    def backward(self, grads, loss_grad):\n",
    "        loss_grads = []\n",
    "        grads.reverse()\n",
    "        \n",
    "        for grad in grads:\n",
    "            g = {}\n",
    "            if grad.get(\"w\", None) is not None: \n",
    "                g[\"w\"] = np.matmul(loss_grad, grad[\"w\"])\n",
    "            if grad.get(\"b\", None) is not None:\n",
    "                g[\"b\"] = np.matmul(loss_grad, grad[\"b\"])\n",
    "                \n",
    "            g[\"i\"] = np.matmul(loss_grad, grad[\"i\"])\n",
    "            loss_grads.append(g)\n",
    "            loss_grad = g[\"i\"]\n",
    "        \n",
    "        loss_grads.reverse()\n",
    "        \n",
    "        return loss_grads        \n",
    "    \n",
    "    def fit(self, X, y_true, loss, optim):\n",
    "        y_pred, grads = self.forward(X, with_grad=True)\n",
    "        l = loss(y_pred=y_pred, y_true=y_true)\n",
    "        loss_grads = self.backward(grads, loss.grad_i(y_pred=y_pred, y_true=y_true))\n",
    "        \n",
    "        for (layer, grad) in zip(self.layers, loss_grads):\n",
    "            optim.step(layer, grad)\n",
    "        \n",
    "    def add(self, layer):\n",
    "        self.layers.append(layer)\n",
    "        return self"
   ]
  },
  {
   "cell_type": "code",
   "execution_count": 236,
   "id": "6b52a0bb",
   "metadata": {},
   "outputs": [],
   "source": [
    "class Optimizer:\n",
    "    \n",
    "    def __init__(self):\n",
    "        self.optim = self.optimizer()\n",
    "   \n",
    "    def optimizer(self):\n",
    "        raise NotImplementedError(\"optimizer method not defined\")\n",
    "        \n",
    "    def step(self, layer, grad):\n",
    "        layer.update(grad, self.optim)\n",
    "    \n",
    "\n",
    "class SGD(Optimizer):\n",
    "    \n",
    "    def __init__(self, lr):\n",
    "        self.lr = lr\n",
    "        super().__init__()\n",
    "    \n",
    "    def optimizer(self):\n",
    "        def func(w, dw):\n",
    "            return w - self.lr*dw\n",
    "        return func"
   ]
  },
  {
   "cell_type": "code",
   "execution_count": 237,
   "id": "261d3aba",
   "metadata": {},
   "outputs": [],
   "source": [
    "# Loss entity\n",
    "class BinaryCrossEntropy:\n",
    "    \n",
    "    def __init__(self):\n",
    "        pass\n",
    "    \n",
    "    def __call__(self, y_pred, y_true):\n",
    "        return self.forward(y_pred, y_true)\n",
    "    \n",
    "    def forward(self, y_pred, y_true):\n",
    "        return np.where(y_true == 0, -np.log(1-y_pred), -np.log(y_pred))\n",
    "    \n",
    "    def grad_i(self, y_pred, y_true):\n",
    "        return np.where(y_true == 0, -1/(1-y_pred), -1/y_pred)\n",
    "        "
   ]
  },
  {
   "cell_type": "code",
   "execution_count": 238,
   "id": "1591c456",
   "metadata": {},
   "outputs": [],
   "source": [
    "layer1 = Dense(2, 2)\n",
    "act1 = ReLU()\n",
    "layer2 = Dense(2, 2)\n",
    "act2 = ReLU()\n",
    "layer3 = Dense(1, 2)\n",
    "act3 = Sigmoid()"
   ]
  },
  {
   "cell_type": "code",
   "execution_count": 239,
   "id": "21b3648b",
   "metadata": {},
   "outputs": [],
   "source": [
    "model = Sequential(layers=[layer1, act1, layer2, act2, layer3, act3])"
   ]
  },
  {
   "cell_type": "code",
   "execution_count": 240,
   "id": "89a1101c",
   "metadata": {},
   "outputs": [],
   "source": [
    "loss = BinaryCrossEntropy()\n",
    "optim = SGD(0.001)"
   ]
  },
  {
   "cell_type": "code",
   "execution_count": 241,
   "id": "ba8c9852",
   "metadata": {},
   "outputs": [],
   "source": [
    "y_pred, grads = model.forward(x, with_grad=True)"
   ]
  },
  {
   "cell_type": "code",
   "execution_count": 242,
   "id": "cc948573",
   "metadata": {},
   "outputs": [],
   "source": [
    "g1 = np.matmul(loss.grad_i(y_pred, y), grads[-1][\"i\"])"
   ]
  },
  {
   "cell_type": "code",
   "execution_count": 243,
   "id": "95bed3fa",
   "metadata": {},
   "outputs": [],
   "source": [
    "g2 = np.matmul(g1, grads[-2][\"i\"])"
   ]
  },
  {
   "cell_type": "code",
   "execution_count": 244,
   "id": "23b9b2f9",
   "metadata": {},
   "outputs": [],
   "source": [
    "g3 = np.matmul(g2, grads[-3][\"i\"])"
   ]
  },
  {
   "cell_type": "code",
   "execution_count": 245,
   "id": "9038b8b8",
   "metadata": {},
   "outputs": [],
   "source": [
    "g4 = np.matmul(g3, grads[-4][\"i\"])\n",
    "g5 = np.matmul(g4, grads[-5][\"i\"])"
   ]
  },
  {
   "cell_type": "code",
   "execution_count": 246,
   "id": "5a049661",
   "metadata": {},
   "outputs": [
    {
     "data": {
      "text/plain": [
       "(array([[-0.68422635]]), array([[0., 0.]]), array([[0., 0.]]))"
      ]
     },
     "execution_count": 246,
     "metadata": {},
     "output_type": "execute_result"
    }
   ],
   "source": [
    "g1, g3, g5"
   ]
  },
  {
   "cell_type": "code",
   "execution_count": 159,
   "id": "c7be8549",
   "metadata": {},
   "outputs": [
    {
     "data": {
      "text/plain": [
       "array([[0.02495379, 0.06187208]])"
      ]
     },
     "execution_count": 159,
     "metadata": {},
     "output_type": "execute_result"
    }
   ],
   "source": [
    "np.matmul(grads[-1][\"i\"], grads[-2][\"i\"])"
   ]
  },
  {
   "cell_type": "code",
   "execution_count": 257,
   "id": "f4904f7a",
   "metadata": {},
   "outputs": [
    {
     "data": {
      "text/plain": [
       "(1, 1)"
      ]
     },
     "execution_count": 257,
     "metadata": {},
     "output_type": "execute_result"
    }
   ],
   "source": [
    "g1.shape"
   ]
  },
  {
   "cell_type": "code",
   "execution_count": 259,
   "id": "a5a10a95",
   "metadata": {},
   "outputs": [
    {
     "data": {
      "text/plain": [
       "(1, 2, 1)"
      ]
     },
     "execution_count": 259,
     "metadata": {},
     "output_type": "execute_result"
    }
   ],
   "source": [
    "grads[-2][\"w\"].shape"
   ]
  },
  {
   "cell_type": "code",
   "execution_count": 279,
   "id": "9ec0c4d1",
   "metadata": {},
   "outputs": [],
   "source": [
    "np.einsum?"
   ]
  },
  {
   "cell_type": "code",
   "execution_count": 274,
   "id": "29424930",
   "metadata": {},
   "outputs": [],
   "source": [
    "a = np.random.randint(1, 3, size=(1,2))\n",
    "b = np.random.randint(1, 3, size=(3, 2, 1))"
   ]
  },
  {
   "cell_type": "code",
   "execution_count": 275,
   "id": "f189a419",
   "metadata": {},
   "outputs": [
    {
     "data": {
      "text/plain": [
       "array([[2, 2]])"
      ]
     },
     "execution_count": 275,
     "metadata": {},
     "output_type": "execute_result"
    }
   ],
   "source": [
    "a"
   ]
  },
  {
   "cell_type": "code",
   "execution_count": 276,
   "id": "a6a8f419",
   "metadata": {},
   "outputs": [
    {
     "data": {
      "text/plain": [
       "array([[[1],\n",
       "        [2]],\n",
       "\n",
       "       [[2],\n",
       "        [2]],\n",
       "\n",
       "       [[1],\n",
       "        [1]]])"
      ]
     },
     "execution_count": 276,
     "metadata": {},
     "output_type": "execute_result"
    }
   ],
   "source": [
    "b"
   ]
  },
  {
   "cell_type": "code",
   "execution_count": 277,
   "id": "c194f4cf",
   "metadata": {},
   "outputs": [
    {
     "data": {
      "text/plain": [
       "array([[[6]],\n",
       "\n",
       "       [[8]],\n",
       "\n",
       "       [[4]]])"
      ]
     },
     "execution_count": 277,
     "metadata": {},
     "output_type": "execute_result"
    }
   ],
   "source": [
    "np.matmul(a, b)"
   ]
  },
  {
   "cell_type": "code",
   "execution_count": null,
   "id": "9b7a16e5",
   "metadata": {},
   "outputs": [],
   "source": []
  },
  {
   "cell_type": "code",
   "execution_count": 255,
   "id": "154f2a97",
   "metadata": {},
   "outputs": [
    {
     "ename": "ValueError",
     "evalue": "matmul: Input operand 1 has a mismatch in its core dimension 0, with gufunc signature (n?,k),(k,m?)->(n?,m?) (size 2 is different from 1)",
     "output_type": "error",
     "traceback": [
      "\u001b[0;31m---------------------------------------------------------------------------\u001b[0m",
      "\u001b[0;31mValueError\u001b[0m                                Traceback (most recent call last)",
      "\u001b[0;32m/tmp/ipykernel_9908/2831820266.py\u001b[0m in \u001b[0;36m<module>\u001b[0;34m\u001b[0m\n\u001b[0;32m----> 1\u001b[0;31m \u001b[0mnp\u001b[0m\u001b[0;34m.\u001b[0m\u001b[0mmatmul\u001b[0m\u001b[0;34m(\u001b[0m\u001b[0mg1\u001b[0m\u001b[0;34m,\u001b[0m \u001b[0mgrads\u001b[0m\u001b[0;34m[\u001b[0m\u001b[0;34m-\u001b[0m\u001b[0;36m2\u001b[0m\u001b[0;34m]\u001b[0m\u001b[0;34m[\u001b[0m\u001b[0;34m\"w\"\u001b[0m\u001b[0;34m]\u001b[0m\u001b[0;34m)\u001b[0m\u001b[0;34m\u001b[0m\u001b[0;34m\u001b[0m\u001b[0m\n\u001b[0m",
      "\u001b[0;31mValueError\u001b[0m: matmul: Input operand 1 has a mismatch in its core dimension 0, with gufunc signature (n?,k),(k,m?)->(n?,m?) (size 2 is different from 1)"
     ]
    }
   ],
   "source": [
    "np.matmul(g1, grads[-2][\"w\"])"
   ]
  },
  {
   "cell_type": "code",
   "execution_count": 249,
   "id": "978fecba",
   "metadata": {},
   "outputs": [
    {
     "data": {
      "text/plain": [
       "(1, 2, 1)"
      ]
     },
     "execution_count": 249,
     "metadata": {},
     "output_type": "execute_result"
    }
   ],
   "source": [
    "grads[-2][\"w\"].shape"
   ]
  },
  {
   "cell_type": "code",
   "execution_count": null,
   "id": "90cbf906",
   "metadata": {},
   "outputs": [],
   "source": []
  },
  {
   "cell_type": "code",
   "execution_count": null,
   "id": "1068545a",
   "metadata": {},
   "outputs": [],
   "source": []
  },
  {
   "cell_type": "code",
   "execution_count": 104,
   "id": "71fab645",
   "metadata": {},
   "outputs": [
    {
     "ename": "ValueError",
     "evalue": "matmul: Input operand 1 has a mismatch in its core dimension 0, with gufunc signature (n?,k),(k,m?)->(n?,m?) (size 10 is different from 1)",
     "output_type": "error",
     "traceback": [
      "\u001b[0;31m---------------------------------------------------------------------------\u001b[0m",
      "\u001b[0;31mValueError\u001b[0m                                Traceback (most recent call last)",
      "\u001b[0;32m/tmp/ipykernel_9908/3736957850.py\u001b[0m in \u001b[0;36m<module>\u001b[0;34m\u001b[0m\n\u001b[0;32m----> 1\u001b[0;31m \u001b[0mmodel\u001b[0m\u001b[0;34m.\u001b[0m\u001b[0mfit\u001b[0m\u001b[0;34m(\u001b[0m\u001b[0mx\u001b[0m\u001b[0;34m,\u001b[0m \u001b[0my\u001b[0m\u001b[0;34m,\u001b[0m \u001b[0mloss\u001b[0m\u001b[0;34m,\u001b[0m \u001b[0moptim\u001b[0m\u001b[0;34m)\u001b[0m\u001b[0;34m\u001b[0m\u001b[0;34m\u001b[0m\u001b[0m\n\u001b[0m",
      "\u001b[0;32m/tmp/ipykernel_9908/1408994607.py\u001b[0m in \u001b[0;36mfit\u001b[0;34m(self, X, y_true, loss, optim)\u001b[0m\n\u001b[1;32m     38\u001b[0m         \u001b[0my_pred\u001b[0m\u001b[0;34m,\u001b[0m \u001b[0mgrads\u001b[0m \u001b[0;34m=\u001b[0m \u001b[0mself\u001b[0m\u001b[0;34m.\u001b[0m\u001b[0mforward\u001b[0m\u001b[0;34m(\u001b[0m\u001b[0mX\u001b[0m\u001b[0;34m,\u001b[0m \u001b[0mwith_grad\u001b[0m\u001b[0;34m=\u001b[0m\u001b[0;32mTrue\u001b[0m\u001b[0;34m)\u001b[0m\u001b[0;34m\u001b[0m\u001b[0;34m\u001b[0m\u001b[0m\n\u001b[1;32m     39\u001b[0m         \u001b[0ml\u001b[0m \u001b[0;34m=\u001b[0m \u001b[0mloss\u001b[0m\u001b[0;34m(\u001b[0m\u001b[0my_pred\u001b[0m\u001b[0;34m=\u001b[0m\u001b[0my_pred\u001b[0m\u001b[0;34m,\u001b[0m \u001b[0my_true\u001b[0m\u001b[0;34m=\u001b[0m\u001b[0my_true\u001b[0m\u001b[0;34m)\u001b[0m\u001b[0;34m\u001b[0m\u001b[0;34m\u001b[0m\u001b[0m\n\u001b[0;32m---> 40\u001b[0;31m         \u001b[0mloss_grads\u001b[0m \u001b[0;34m=\u001b[0m \u001b[0mself\u001b[0m\u001b[0;34m.\u001b[0m\u001b[0mbackward\u001b[0m\u001b[0;34m(\u001b[0m\u001b[0mgrads\u001b[0m\u001b[0;34m,\u001b[0m \u001b[0mloss\u001b[0m\u001b[0;34m.\u001b[0m\u001b[0mgrad_i\u001b[0m\u001b[0;34m(\u001b[0m\u001b[0my_pred\u001b[0m\u001b[0;34m=\u001b[0m\u001b[0my_pred\u001b[0m\u001b[0;34m,\u001b[0m \u001b[0my_true\u001b[0m\u001b[0;34m=\u001b[0m\u001b[0my_true\u001b[0m\u001b[0;34m)\u001b[0m\u001b[0;34m)\u001b[0m\u001b[0;34m\u001b[0m\u001b[0;34m\u001b[0m\u001b[0m\n\u001b[0m\u001b[1;32m     41\u001b[0m \u001b[0;34m\u001b[0m\u001b[0m\n\u001b[1;32m     42\u001b[0m         \u001b[0;32mfor\u001b[0m \u001b[0;34m(\u001b[0m\u001b[0mlayer\u001b[0m\u001b[0;34m,\u001b[0m \u001b[0mgrad\u001b[0m\u001b[0;34m)\u001b[0m \u001b[0;32min\u001b[0m \u001b[0mzip\u001b[0m\u001b[0;34m(\u001b[0m\u001b[0mself\u001b[0m\u001b[0;34m.\u001b[0m\u001b[0mlayers\u001b[0m\u001b[0;34m,\u001b[0m \u001b[0mloss_grads\u001b[0m\u001b[0;34m)\u001b[0m\u001b[0;34m:\u001b[0m\u001b[0;34m\u001b[0m\u001b[0;34m\u001b[0m\u001b[0m\n",
      "\u001b[0;32m/tmp/ipykernel_9908/1408994607.py\u001b[0m in \u001b[0;36mbackward\u001b[0;34m(self, grads, loss_grad)\u001b[0m\n\u001b[1;32m     23\u001b[0m             \u001b[0mg\u001b[0m \u001b[0;34m=\u001b[0m \u001b[0;34m{\u001b[0m\u001b[0;34m}\u001b[0m\u001b[0;34m\u001b[0m\u001b[0;34m\u001b[0m\u001b[0m\n\u001b[1;32m     24\u001b[0m             \u001b[0;32mif\u001b[0m \u001b[0mgrad\u001b[0m\u001b[0;34m.\u001b[0m\u001b[0mget\u001b[0m\u001b[0;34m(\u001b[0m\u001b[0;34m\"w\"\u001b[0m\u001b[0;34m,\u001b[0m \u001b[0;32mNone\u001b[0m\u001b[0;34m)\u001b[0m \u001b[0;32mis\u001b[0m \u001b[0;32mnot\u001b[0m \u001b[0;32mNone\u001b[0m\u001b[0;34m:\u001b[0m\u001b[0;34m\u001b[0m\u001b[0;34m\u001b[0m\u001b[0m\n\u001b[0;32m---> 25\u001b[0;31m                 \u001b[0mg\u001b[0m\u001b[0;34m[\u001b[0m\u001b[0;34m\"w\"\u001b[0m\u001b[0;34m]\u001b[0m \u001b[0;34m=\u001b[0m \u001b[0mnp\u001b[0m\u001b[0;34m.\u001b[0m\u001b[0mmatmul\u001b[0m\u001b[0;34m(\u001b[0m\u001b[0mloss_grad\u001b[0m\u001b[0;34m,\u001b[0m \u001b[0mgrad\u001b[0m\u001b[0;34m[\u001b[0m\u001b[0;34m\"w\"\u001b[0m\u001b[0;34m]\u001b[0m\u001b[0;34m)\u001b[0m\u001b[0;34m\u001b[0m\u001b[0;34m\u001b[0m\u001b[0m\n\u001b[0m\u001b[1;32m     26\u001b[0m             \u001b[0;32mif\u001b[0m \u001b[0mgrad\u001b[0m\u001b[0;34m.\u001b[0m\u001b[0mget\u001b[0m\u001b[0;34m(\u001b[0m\u001b[0;34m\"b\"\u001b[0m\u001b[0;34m,\u001b[0m \u001b[0;32mNone\u001b[0m\u001b[0;34m)\u001b[0m \u001b[0;32mis\u001b[0m \u001b[0;32mnot\u001b[0m \u001b[0;32mNone\u001b[0m\u001b[0;34m:\u001b[0m\u001b[0;34m\u001b[0m\u001b[0;34m\u001b[0m\u001b[0m\n\u001b[1;32m     27\u001b[0m                 \u001b[0mg\u001b[0m\u001b[0;34m[\u001b[0m\u001b[0;34m\"b\"\u001b[0m\u001b[0;34m]\u001b[0m \u001b[0;34m=\u001b[0m \u001b[0mnp\u001b[0m\u001b[0;34m.\u001b[0m\u001b[0mmatmul\u001b[0m\u001b[0;34m(\u001b[0m\u001b[0mloss_grad\u001b[0m\u001b[0;34m,\u001b[0m \u001b[0mgrad\u001b[0m\u001b[0;34m[\u001b[0m\u001b[0;34m\"b\"\u001b[0m\u001b[0;34m]\u001b[0m\u001b[0;34m)\u001b[0m\u001b[0;34m\u001b[0m\u001b[0;34m\u001b[0m\u001b[0m\n",
      "\u001b[0;31mValueError\u001b[0m: matmul: Input operand 1 has a mismatch in its core dimension 0, with gufunc signature (n?,k),(k,m?)->(n?,m?) (size 10 is different from 1)"
     ]
    }
   ],
   "source": [
    "model.fit(x, y, loss, optim)"
   ]
  },
  {
   "cell_type": "code",
   "execution_count": null,
   "id": "d80f911f",
   "metadata": {},
   "outputs": [],
   "source": []
  },
  {
   "cell_type": "code",
   "execution_count": null,
   "id": "be39fb97",
   "metadata": {},
   "outputs": [],
   "source": []
  },
  {
   "cell_type": "code",
   "execution_count": 18,
   "id": "3155d97c",
   "metadata": {},
   "outputs": [],
   "source": []
  },
  {
   "cell_type": "code",
   "execution_count": 19,
   "id": "b4fe0526",
   "metadata": {},
   "outputs": [
    {
     "data": {
      "text/plain": [
       "array([[8.36289363e-05]])"
      ]
     },
     "execution_count": 19,
     "metadata": {},
     "output_type": "execute_result"
    }
   ],
   "source": [
    "y_pred"
   ]
  },
  {
   "cell_type": "code",
   "execution_count": 20,
   "id": "87835529",
   "metadata": {},
   "outputs": [
    {
     "data": {
      "text/plain": [
       "array([[9.38912097]])"
      ]
     },
     "execution_count": 20,
     "metadata": {},
     "output_type": "execute_result"
    }
   ],
   "source": [
    "bce(y_pred, y)"
   ]
  },
  {
   "cell_type": "code",
   "execution_count": 21,
   "id": "e0373945",
   "metadata": {},
   "outputs": [
    {
     "data": {
      "text/plain": [
       "array([[-11957.58362862]])"
      ]
     },
     "execution_count": 21,
     "metadata": {},
     "output_type": "execute_result"
    }
   ],
   "source": [
    "bce.grad_i(y_pred, y)"
   ]
  },
  {
   "cell_type": "code",
   "execution_count": 23,
   "id": "f179b64a",
   "metadata": {},
   "outputs": [
    {
     "data": {
      "text/plain": [
       "array([[1.]])"
      ]
     },
     "execution_count": 23,
     "metadata": {},
     "output_type": "execute_result"
    }
   ],
   "source": [
    "y"
   ]
  },
  {
   "cell_type": "code",
   "execution_count": null,
   "id": "44a94b18",
   "metadata": {},
   "outputs": [],
   "source": []
  }
 ],
 "metadata": {
  "kernelspec": {
   "display_name": "ml",
   "language": "python",
   "name": "ml"
  },
  "language_info": {
   "codemirror_mode": {
    "name": "ipython",
    "version": 3
   },
   "file_extension": ".py",
   "mimetype": "text/x-python",
   "name": "python",
   "nbconvert_exporter": "python",
   "pygments_lexer": "ipython3",
   "version": "3.9.2"
  }
 },
 "nbformat": 4,
 "nbformat_minor": 5
}
