{
 "cells": [
  {
   "cell_type": "code",
   "execution_count": 1,
   "id": "c01e02af",
   "metadata": {},
   "outputs": [],
   "source": [
    "import numpy as np"
   ]
  },
  {
   "cell_type": "code",
   "execution_count": 224,
   "id": "fcaac089",
   "metadata": {},
   "outputs": [],
   "source": [
    "x = np.random.rand(2,1)\n",
    "y = np.ones((1,1))"
   ]
  },
  {
   "cell_type": "code",
   "execution_count": 225,
   "id": "d13bda78",
   "metadata": {},
   "outputs": [
    {
     "data": {
      "text/plain": [
       "(array([[0.13707232],\n",
       "        [0.78398136]]),\n",
       " array([[1.]]))"
      ]
     },
     "execution_count": 225,
     "metadata": {},
     "output_type": "execute_result"
    }
   ],
   "source": [
    "x, y"
   ]
  },
  {
   "cell_type": "code",
   "execution_count": 260,
   "id": "63bf1e8c",
   "metadata": {},
   "outputs": [],
   "source": [
    "# Activation Entity\n",
    "class ReLU: \n",
    "    \n",
    "    def __init__(self):\n",
    "        pass\n",
    "    \n",
    "    def forward(self, Z):\n",
    "        return np.where(Z>0, Z, np.zeros_like(Z))\n",
    "        \n",
    "    def __call__(self, Z):\n",
    "        return self.forward(Z)\n",
    "    \n",
    "    def grad(self, Z):\n",
    "        return {\"i\": self.grad_i(Z)}\n",
    "        \n",
    "    def grad_i(self, Z):\n",
    "        return np.diag(np.where(Z>0, np.ones_like(Z), np.zeros_like(Z)).reshape(-1))\n",
    "    \n",
    "class Sigmoid:\n",
    "    def  __init__(self):\n",
    "        pass\n",
    "    \n",
    "    def forward(self, Z):\n",
    "        return 1/(1+np.exp(-Z))\n",
    "    \n",
    "    def __call__(self, Z):\n",
    "        return self.forward(Z)\n",
    "    \n",
    "    def grad(self, Z):\n",
    "        return {\"i\": self.grad_i(Z)}\n",
    "    \n",
    "    def grad_i(self, Z):\n",
    "        y = self(Z)\n",
    "        return np.diag((y*(1-y)).reshape(-1))\n",
    "    "
   ]
  },
  {
   "cell_type": "code",
   "execution_count": 427,
   "id": "46385d89",
   "metadata": {},
   "outputs": [],
   "source": [
    "# Layer entity\n",
    "class Dense: \n",
    "    \n",
    "    def __init__(self, no_of_neurons, input_size):\n",
    "        \n",
    "        self.W = np.random.randn(input_size, no_of_neurons)\n",
    "        self.b = np.random.randn(no_of_neurons, 1)\n",
    "    \n",
    "    def __call__(self, X):\n",
    "        return self.forward(X)\n",
    "    \n",
    "    def grad(self, X):\n",
    "        return {\"i\": self.grad_i(X), \"b\": self.grad_b(X), \"w\": self.grad_w(X)}\n",
    "    \n",
    "    def grad_i(self, X):\n",
    "        return self.W.T\n",
    "    \n",
    "    def grad_b(self, X):\n",
    "        return np.identity(X.shape[0])\n",
    "    \n",
    "    def grad_w(self, X):\n",
    "        m, n = self.W.shape\n",
    "        return np.repeat(np.eye(n), repeats=m, axis=0)*np.repeat(np.expand_dims(X, 0), repeats=n, axis=0).reshape(m*n, 1)\n",
    "        \n",
    "    def forward(self, X):\n",
    "        return np.matmul(self.W.T, X) + self.b        "
   ]
  },
  {
   "cell_type": "code",
   "execution_count": 262,
   "id": "0534ab1d",
   "metadata": {},
   "outputs": [],
   "source": [
    "# Model entity \n",
    "class Sequential:\n",
    "    \n",
    "    def __init__(self, layers=[]):\n",
    "        self.layers = layers\n",
    "        \n",
    "    def __call__(self, X):\n",
    "        return self.forward(X)\n",
    "    \n",
    "    def forward(self, X):\n",
    "        for layer in self.layers:\n",
    "            X = layer.forward(X)\n",
    "            #gradient calculate\n",
    "        return X\n",
    "    \n",
    "    def add(self, layer):\n",
    "        self.layers.append(layer)\n",
    "        return self"
   ]
  },
  {
   "cell_type": "code",
   "execution_count": 263,
   "id": "261d3aba",
   "metadata": {},
   "outputs": [],
   "source": [
    "# Loss entity\n",
    "class BinaryCrossEntropy:\n",
    "    \n",
    "    def __init__(self):\n",
    "        pass\n",
    "    \n",
    "    def __call__(self, y_pred, y_true):\n",
    "        return self.forward(y_pred, y_true)\n",
    "    \n",
    "    def forward(self, y_pred, y_true):\n",
    "        return np.mean(np.where(y_true == 0, -np.log(1-y_pred), -np.log(y_pred)))\n",
    "    \n",
    "    # grad_i\n",
    "        "
   ]
  },
  {
   "cell_type": "code",
   "execution_count": 264,
   "id": "1591c456",
   "metadata": {},
   "outputs": [],
   "source": [
    "layer1 = Dense(10, 2)\n",
    "act1 = ReLU()\n",
    "layer2 = Dense(10, 10)\n",
    "act2 = ReLU()\n",
    "layer3 = Dense(10, 10)\n",
    "act3 = ReLU()\n",
    "layer4 = Dense(1, 10)"
   ]
  },
  {
   "cell_type": "code",
   "execution_count": 265,
   "id": "21b3648b",
   "metadata": {},
   "outputs": [],
   "source": [
    "model = Sequential(layers=[layer1, act1, layer2, act2, layer3, act3, layer4])"
   ]
  },
  {
   "cell_type": "code",
   "execution_count": 266,
   "id": "0d961164",
   "metadata": {},
   "outputs": [
    {
     "data": {
      "text/plain": [
       "<__main__.Sequential at 0x7f6bfd4196d0>"
      ]
     },
     "execution_count": 266,
     "metadata": {},
     "output_type": "execute_result"
    }
   ],
   "source": [
    "model.add(Sigmoid())"
   ]
  },
  {
   "cell_type": "code",
   "execution_count": 275,
   "id": "71fab645",
   "metadata": {},
   "outputs": [],
   "source": [
    "y_pred = model(x)"
   ]
  },
  {
   "cell_type": "code",
   "execution_count": 276,
   "id": "3155d97c",
   "metadata": {},
   "outputs": [],
   "source": [
    "bce = BinaryCrossEntropy()"
   ]
  },
  {
   "cell_type": "code",
   "execution_count": 277,
   "id": "b4fe0526",
   "metadata": {},
   "outputs": [
    {
     "data": {
      "text/plain": [
       "array([[0.22362302]])"
      ]
     },
     "execution_count": 277,
     "metadata": {},
     "output_type": "execute_result"
    }
   ],
   "source": [
    "y_pred"
   ]
  },
  {
   "cell_type": "code",
   "execution_count": 278,
   "id": "87835529",
   "metadata": {},
   "outputs": [
    {
     "data": {
      "text/plain": [
       "1.4977935991544746"
      ]
     },
     "execution_count": 278,
     "metadata": {},
     "output_type": "execute_result"
    }
   ],
   "source": [
    "bce(y_pred, y)"
   ]
  },
  {
   "cell_type": "code",
   "execution_count": 358,
   "id": "7b595dc0",
   "metadata": {},
   "outputs": [],
   "source": [
    "n = 3\n",
    "m = 5"
   ]
  },
  {
   "cell_type": "code",
   "execution_count": 359,
   "id": "3f918f5c",
   "metadata": {},
   "outputs": [],
   "source": [
    "X = np.random.randint(0, m, size=(m,1))"
   ]
  },
  {
   "cell_type": "code",
   "execution_count": 360,
   "id": "13d9154b",
   "metadata": {},
   "outputs": [],
   "source": [
    "mat = np.empty((n, m, n))"
   ]
  },
  {
   "cell_type": "code",
   "execution_count": 361,
   "id": "8f4bd5e2",
   "metadata": {},
   "outputs": [],
   "source": [
    "eye = np.eye(n)"
   ]
  },
  {
   "cell_type": "code",
   "execution_count": 362,
   "id": "465f64e4",
   "metadata": {},
   "outputs": [],
   "source": [
    "for i in range(n):\n",
    "    for j in range(m):\n",
    "        mat[i, j] = eye[i]*X[j]"
   ]
  },
  {
   "cell_type": "code",
   "execution_count": 363,
   "id": "950b932d",
   "metadata": {},
   "outputs": [
    {
     "data": {
      "text/plain": [
       "array([[[1., 0., 0.],\n",
       "        [4., 0., 0.],\n",
       "        [3., 0., 0.],\n",
       "        [2., 0., 0.],\n",
       "        [4., 0., 0.]],\n",
       "\n",
       "       [[0., 1., 0.],\n",
       "        [0., 4., 0.],\n",
       "        [0., 3., 0.],\n",
       "        [0., 2., 0.],\n",
       "        [0., 4., 0.]],\n",
       "\n",
       "       [[0., 0., 1.],\n",
       "        [0., 0., 4.],\n",
       "        [0., 0., 3.],\n",
       "        [0., 0., 2.],\n",
       "        [0., 0., 4.]]])"
      ]
     },
     "execution_count": 363,
     "metadata": {},
     "output_type": "execute_result"
    }
   ],
   "source": [
    "mat"
   ]
  },
  {
   "cell_type": "code",
   "execution_count": 364,
   "id": "b1662e6a",
   "metadata": {},
   "outputs": [
    {
     "data": {
      "text/plain": [
       "(3, 3)"
      ]
     },
     "execution_count": 364,
     "metadata": {},
     "output_type": "execute_result"
    }
   ],
   "source": [
    "eye.shape"
   ]
  },
  {
   "cell_type": "code",
   "execution_count": 388,
   "id": "f1b04ef3",
   "metadata": {},
   "outputs": [
    {
     "data": {
      "text/plain": [
       "array([[1., 0., 0.],\n",
       "       [0., 1., 0.],\n",
       "       [0., 0., 1.]])"
      ]
     },
     "execution_count": 388,
     "metadata": {},
     "output_type": "execute_result"
    }
   ],
   "source": [
    "eye"
   ]
  },
  {
   "cell_type": "code",
   "execution_count": 424,
   "id": "705e0184",
   "metadata": {},
   "outputs": [
    {
     "data": {
      "text/plain": [
       "(1, 5, 1)"
      ]
     },
     "execution_count": 424,
     "metadata": {},
     "output_type": "execute_result"
    }
   ],
   "source": [
    "np.expand_dims(X, 0).shape"
   ]
  },
  {
   "cell_type": "code",
   "execution_count": 426,
   "id": "6cb8e984",
   "metadata": {},
   "outputs": [
    {
     "data": {
      "text/plain": [
       "array([[1],\n",
       "       [4],\n",
       "       [3],\n",
       "       [2],\n",
       "       [4],\n",
       "       [1],\n",
       "       [4],\n",
       "       [3],\n",
       "       [2],\n",
       "       [4],\n",
       "       [1],\n",
       "       [4],\n",
       "       [3],\n",
       "       [2],\n",
       "       [4]])"
      ]
     },
     "execution_count": 426,
     "metadata": {},
     "output_type": "execute_result"
    }
   ],
   "source": [
    "np.repeat(np.expand_dims(X, 0), repeats=n, axis=0).reshape(m*n, 1)"
   ]
  },
  {
   "cell_type": "code",
   "execution_count": null,
   "id": "61d063f0",
   "metadata": {},
   "outputs": [],
   "source": []
  },
  {
   "cell_type": "code",
   "execution_count": 418,
   "id": "8bbd1df2",
   "metadata": {},
   "outputs": [
    {
     "data": {
      "text/plain": [
       "array([[1., 0., 0.],\n",
       "       [4., 0., 0.],\n",
       "       [3., 0., 0.],\n",
       "       [2., 0., 0.],\n",
       "       [4., 0., 0.],\n",
       "       [0., 1., 0.],\n",
       "       [0., 4., 0.],\n",
       "       [0., 3., 0.],\n",
       "       [0., 2., 0.],\n",
       "       [0., 4., 0.],\n",
       "       [0., 0., 1.],\n",
       "       [0., 0., 4.],\n",
       "       [0., 0., 3.],\n",
       "       [0., 0., 2.],\n",
       "       [0., 0., 4.]])"
      ]
     },
     "execution_count": 418,
     "metadata": {},
     "output_type": "execute_result"
    }
   ],
   "source": [
    "np.repeat(eye, repeats=m, axis=0)*np.repeat(np.expand_dims(X, 0), repeats=n, axis=0).reshape(m*n, 1)"
   ]
  },
  {
   "cell_type": "code",
   "execution_count": 391,
   "id": "7581b036",
   "metadata": {},
   "outputs": [
    {
     "data": {
      "text/plain": [
       "array([[[1., 0., 0.],\n",
       "        [1., 0., 0.],\n",
       "        [1., 0., 0.],\n",
       "        [1., 0., 0.],\n",
       "        [1., 0., 0.]],\n",
       "\n",
       "       [[0., 1., 0.],\n",
       "        [0., 1., 0.],\n",
       "        [0., 1., 0.],\n",
       "        [0., 1., 0.],\n",
       "        [0., 1., 0.]],\n",
       "\n",
       "       [[0., 0., 1.],\n",
       "        [0., 0., 1.],\n",
       "        [0., 0., 1.],\n",
       "        [0., 0., 1.],\n",
       "        [0., 0., 1.]]])"
      ]
     },
     "execution_count": 391,
     "metadata": {},
     "output_type": "execute_result"
    }
   ],
   "source": [
    "np.repeat(eye, repeats=m, axis=0).reshape(n,m,n)"
   ]
  }
 ],
 "metadata": {
  "kernelspec": {
   "display_name": "ml",
   "language": "python",
   "name": "ml"
  },
  "language_info": {
   "codemirror_mode": {
    "name": "ipython",
    "version": 3
   },
   "file_extension": ".py",
   "mimetype": "text/x-python",
   "name": "python",
   "nbconvert_exporter": "python",
   "pygments_lexer": "ipython3",
   "version": "3.9.2"
  }
 },
 "nbformat": 4,
 "nbformat_minor": 5
}
