{
 "cells": [
  {
   "cell_type": "markdown",
   "id": "390faa86",
   "metadata": {},
   "source": [
    "## Day 05 - KNN Regressor\n",
    "**7-Dec-2021, Tuesday**"
   ]
  },
  {
   "cell_type": "code",
   "execution_count": 1,
   "id": "0501f57a",
   "metadata": {},
   "outputs": [],
   "source": [
    "import numpy as np\n",
    "import matplotlib.pyplot as plt"
   ]
  },
  {
   "cell_type": "code",
   "execution_count": 2,
   "id": "3eae93d5",
   "metadata": {},
   "outputs": [
    {
     "name": "stdout",
     "output_type": "stream",
     "text": [
      "(50, 1) (50,)\n"
     ]
    }
   ],
   "source": [
    "dirpath = \"../data/knn/regression/\"\n",
    "X = np.load(dirpath+\"X_data.npy\")\n",
    "y = np.load(dirpath+\"Y_data.npy\")\n",
    "print(X.shape, y.shape)"
   ]
  },
  {
   "cell_type": "code",
   "execution_count": 4,
   "id": "fe3e5361",
   "metadata": {},
   "outputs": [
    {
     "data": {
      "image/png": "[encoded data removed]",
      "text/plain": [
       "<Figure size 432x288 with 1 Axes>"
      ]
     },
     "metadata": {
      "needs_background": "light"
     },
     "output_type": "display_data"
    }
   ],
   "source": [
    "plt.scatter(X, y)\n",
    "plt.xlabel(\"Feature\")\n",
    "plt.ylabel(\"Label/ Output\")\n",
    "plt.title(\"Label vs Feature\")\n",
    "plt.show()"
   ]
  },
  {
   "cell_type": "code",
   "execution_count": 12,
   "id": "75f56f34",
   "metadata": {},
   "outputs": [],
   "source": [
    "class KNNregressor:\n",
    "    \n",
    "    def __init__(self, k=3):\n",
    "        self.k = k\n",
    "        \n",
    "    def fit(self, Xtrain, ytrain):\n",
    "        self.xtrain = Xtrain\n",
    "        self.ytrain = ytrain\n",
    "        \n",
    "    def predict(self, X_test):\n",
    "        prediction = np.empty((len(X_test)))\n",
    "        idx = []\n",
    "        for i in range(len(X_test)):\n",
    "            # compute the distance\n",
    "            distance = np.linalg.norm(X_test[i] - self.xtrain, ord=2, axis=1)\n",
    "            knn_idx = np.argsort(distance)[:self.k]\n",
    "            idx.append(knn_idx)\n",
    "            prediction[i] = self.ytrain[knn_idx].mean()\n",
    "        return prediction, idx"
   ]
  },
  {
   "cell_type": "code",
   "execution_count": 13,
   "id": "501dc3f7",
   "metadata": {},
   "outputs": [
    {
     "name": "stdout",
     "output_type": "stream",
     "text": [
      "[[0.45]]\n",
      "[22.41368721] [array([34, 43, 14], dtype=int64)]\n"
     ]
    }
   ],
   "source": [
    "model = KNNregressor()\n",
    "model.fit(X, y)\n",
    "test_point = np.array([[0.45]])\n",
    "print(test_point)\n",
    "pred, knn_idx = model.predict(test_point)\n",
    "print(pred, knn_idx)"
   ]
  },
  {
   "cell_type": "code",
   "execution_count": 16,
   "id": "2c1aacb3",
   "metadata": {},
   "outputs": [
    {
     "data": {
      "text/plain": [
       "(list, numpy.ndarray, array([34, 43, 14], dtype=int64))"
      ]
     },
     "execution_count": 16,
     "metadata": {},
     "output_type": "execute_result"
    }
   ],
   "source": [
    "type(knn_idx), type(knn_idx[0]), knn_idx[0]"
   ]
  },
  {
   "cell_type": "code",
   "execution_count": 25,
   "id": "628428bc",
   "metadata": {},
   "outputs": [
    {
     "data": {
      "image/png": "[encoded data removed]",
      "text/plain": [
       "<Figure size 432x288 with 1 Axes>"
      ]
     },
     "metadata": {
      "needs_background": "light"
     },
     "output_type": "display_data"
    }
   ],
   "source": [
    "plt.scatter(X, y)\n",
    "plt.scatter(test_point, pred, c=\"red\")\n",
    "plt.scatter(X[knn_idx[0]], y[knn_idx[0]], c='yellow') # nearest points to my X_test\n",
    "plt.xlabel(\"Feature\")\n",
    "plt.ylabel(\"Label/ Output\")\n",
    "plt.title(\"Label vs Feature\")\n",
    "plt.show()"
   ]
  },
  {
   "cell_type": "code",
   "execution_count": 23,
   "id": "e1be0837",
   "metadata": {},
   "outputs": [
    {
     "data": {
      "text/plain": [
       "array([[0.54500464],\n",
       "       [0.54820748],\n",
       "       [0.55003505]])"
      ]
     },
     "execution_count": 23,
     "metadata": {},
     "output_type": "execute_result"
    }
   ],
   "source": [
    "idx = [34, 43, 14]\n",
    "X[idx]"
   ]
  },
  {
   "cell_type": "code",
   "execution_count": 24,
   "id": "274f12b8",
   "metadata": {},
   "outputs": [
    {
     "data": {
      "text/plain": [
       "array([32.40155139, 23.15440311, 11.68510712])"
      ]
     },
     "execution_count": 24,
     "metadata": {},
     "output_type": "execute_result"
    }
   ],
   "source": [
    "y[idx]"
   ]
  },
  {
   "cell_type": "markdown",
   "id": "470e015d",
   "metadata": {},
   "source": [
    "## Plotting prediction line"
   ]
  },
  {
   "cell_type": "code",
   "execution_count": 38,
   "id": "086a0370",
   "metadata": {},
   "outputs": [
    {
     "name": "stdout",
     "output_type": "stream",
     "text": [
      "(100, 1)\n",
      "(100,)\n"
     ]
    }
   ],
   "source": [
    "model = KNNregressor(k=3)\n",
    "model.fit(X, y)\n",
    "f1 = np.linspace(X[:,0].min(), X[:,0].max(), 100).reshape(-1,1)\n",
    "print(f1.shape)\n",
    "prediction = model.predict(f1)[0]\n",
    "print(prediction.shape)"
   ]
  },
  {
   "cell_type": "code",
   "execution_count": 39,
   "id": "d9364f57",
   "metadata": {},
   "outputs": [
    {
     "data": {
      "text/plain": [
       "Text(0.5, 1.0, 'Label vs Feature, (K=3)')"
      ]
     },
     "execution_count": 39,
     "metadata": {},
     "output_type": "execute_result"
    },
    {
     "data": {
      "image/png": "[encoded data removed]",
      "text/plain": [
       "<Figure size 432x288 with 1 Axes>"
      ]
     },
     "metadata": {
      "needs_background": "light"
     },
     "output_type": "display_data"
    }
   ],
   "source": [
    "plt.scatter(X, y)\n",
    "plt.plot(f1, prediction, c='red')\n",
    "plt.xlabel(\"Feature\")\n",
    "plt.ylabel(\"Label/ Output\")\n",
    "plt.title(f\"Label vs Feature, (K={model.k})\")"
   ]
  },
  {
   "cell_type": "markdown",
   "id": "47eb3714",
   "metadata": {},
   "source": [
    "### Sklearn"
   ]
  },
  {
   "cell_type": "code",
   "execution_count": 40,
   "id": "d085b60a",
   "metadata": {},
   "outputs": [],
   "source": [
    "from sklearn.neighbors import KNeighborsClassifier, KNeighborsRegressor"
   ]
  },
  {
   "cell_type": "code",
   "execution_count": 41,
   "id": "c3e5665c",
   "metadata": {},
   "outputs": [
    {
     "name": "stdout",
     "output_type": "stream",
     "text": [
      "(50,)\n"
     ]
    }
   ],
   "source": [
    "knnr = KNeighborsRegressor()\n",
    "knnr.fit(X, y)\n",
    "pred = knnr.predict(X)\n",
    "print(pred.shape)"
   ]
  },
  {
   "cell_type": "code",
   "execution_count": 43,
   "id": "f27e6692",
   "metadata": {},
   "outputs": [
    {
     "data": {
      "text/plain": [
       "array([-63.54978048, -63.54978048,  34.58064063,  -4.31615606,\n",
       "        25.71726167, -63.54978048, -28.49957336,  52.79687242,\n",
       "        52.79687242,  25.53201326, -15.52262574,  -7.05622892,\n",
       "       -41.45016547,  -7.05622892,  25.53201326, -41.7441446 ,\n",
       "       -35.80937315, -41.45016547, -24.29497191, -53.14209469,\n",
       "       -41.7441446 , -19.5242773 ,  29.56248143, -56.90099784,\n",
       "        37.76564004,   1.10822167,  32.50602481,  -4.31615606,\n",
       "        -5.62408137, -41.7441446 ,  -5.62408137,  34.58064063,\n",
       "        -5.09011485, -63.54978048,  25.53201326,  27.72285871,\n",
       "         1.10822167, -41.45016547,  32.50602481,  -5.62408137,\n",
       "        37.76564004,  -9.01136688,  30.61177034,  25.53201326,\n",
       "         1.10822167,  25.71726167,  46.03841992, -38.52724635,\n",
       "        25.53201326,  25.98424384])"
      ]
     },
     "execution_count": 43,
     "metadata": {},
     "output_type": "execute_result"
    }
   ],
   "source": [
    "pred"
   ]
  },
  {
   "cell_type": "code",
   "execution_count": null,
   "id": "9494ac24",
   "metadata": {},
   "outputs": [],
   "source": [
    "knnc = KNeighborsClassifier()\n",
    "knnc.fit(Xtrain, ytrain)\n",
    "knnc.predict(X_test)"
   ]
  },
  {
   "cell_type": "code",
   "execution_count": 42,
   "id": "17271fc6",
   "metadata": {},
   "outputs": [],
   "source": [
    "KNeighborsClassifier?"
   ]
  },
  {
   "cell_type": "code",
   "execution_count": null,
   "id": "de941217",
   "metadata": {},
   "outputs": [],
   "source": []
  }
 ],
 "metadata": {
  "kernelspec": {
   "display_name": "Python 3",
   "language": "python",
   "name": "python3"
  },
  "language_info": {
   "codemirror_mode": {
    "name": "ipython",
    "version": 3
   },
   "file_extension": ".py",
   "mimetype": "text/x-python",
   "name": "python",
   "nbconvert_exporter": "python",
   "pygments_lexer": "ipython3",
   "version": "3.9.4"
  }
 },
 "nbformat": 4,
 "nbformat_minor": 5
}
