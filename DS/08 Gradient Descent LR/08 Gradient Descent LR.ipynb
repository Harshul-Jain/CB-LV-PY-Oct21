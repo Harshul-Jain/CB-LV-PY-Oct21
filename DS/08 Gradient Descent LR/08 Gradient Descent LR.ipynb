{
 "cells": [
  {
   "cell_type": "markdown",
   "id": "f3f58b1b",
   "metadata": {},
   "source": [
    "## Day 08\n",
    "14/Dec/2021"
   ]
  },
  {
   "cell_type": "code",
   "execution_count": 17,
   "id": "6cd6b3dd",
   "metadata": {},
   "outputs": [],
   "source": [
    "%matplotlib qt"
   ]
  },
  {
   "cell_type": "code",
   "execution_count": 18,
   "id": "8c5e7759",
   "metadata": {},
   "outputs": [],
   "source": [
    "import numpy as np\n",
    "import matplotlib.pyplot as plt\n",
    "from sklearn.datasets import make_regression\n",
    "from mpl_toolkits import mplot3d"
   ]
  },
  {
   "cell_type": "code",
   "execution_count": 38,
   "id": "e78a9d6d",
   "metadata": {},
   "outputs": [
    {
     "name": "stdout",
     "output_type": "stream",
     "text": [
      "(200, 2) (200,) [76.15469515 10.4422674 ]\n"
     ]
    }
   ],
   "source": [
    "X, y, coef  = make_regression(n_samples=200, n_features=2, bias=3, noise=12, coef=True)\n",
    "print(X.shape, y.shape, coef)"
   ]
  },
  {
   "cell_type": "code",
   "execution_count": 39,
   "id": "8c4fc43e",
   "metadata": {},
   "outputs": [
    {
     "data": {
      "text/plain": [
       "array([[-0.84068088,  0.53603388],\n",
       "       [-0.19185082, -0.84202881],\n",
       "       [-1.12923076, -0.87832134],\n",
       "       [ 1.35683016,  0.75518222],\n",
       "       [-1.21789182,  0.05885363]])"
      ]
     },
     "execution_count": 39,
     "metadata": {},
     "output_type": "execute_result"
    }
   ],
   "source": [
    "X[:5, :]"
   ]
  },
  {
   "cell_type": "code",
   "execution_count": 41,
   "id": "f4bc693b",
   "metadata": {},
   "outputs": [],
   "source": [
    "%matplotlib qt\n",
    "fig = plt.figure(figsize=(6,6))\n",
    "ax = fig.add_subplot(projection='3d')\n",
    "ax.scatter(X[:,0], X[:,1], y)\n",
    "ax.set_xlabel(\"X1\")\n",
    "ax.set_ylabel(\"X2\")\n",
    "ax.set_zlabel(\"Label y\")\n",
    "\n",
    "plt.show()"
   ]
  },
  {
   "cell_type": "code",
   "execution_count": null,
   "id": "99da3860",
   "metadata": {},
   "outputs": [],
   "source": [
    "class LinearRegressor:\n",
    "    \n",
    "    \n",
    "    def fit(self, X, y, epochs=1000, learning_rate=0.01, method='batch'):\n",
    "        X = X.copy()\n",
    "        ones_column = np.ones((len(X),1))\n",
    "        X = np.concatenate([ones_column, X], axis=1)\n",
    "        print(X.shape)\n",
    "        \n",
    "        self.w = np.random.rand(X.shape[1], 1)\n",
    "        \n",
    "        if method == 'batch':\n",
    "            batch_size = X.shape[0]\n",
    "        elif method == 'mini-batch':\n",
    "            batch_size = \n",
    "        ## to be continued\n",
    "        \n",
    "        "
   ]
  },
  {
   "cell_type": "code",
   "execution_count": 51,
   "id": "7dedcd0c",
   "metadata": {},
   "outputs": [
    {
     "name": "stdout",
     "output_type": "stream",
     "text": [
      "1\n",
      "2\n",
      "{'i': 20, 'j': 30, 'k': 45}\n"
     ]
    }
   ],
   "source": [
    "def func(a, b, **kwargs):\n",
    "    print(a)\n",
    "    print(b)\n",
    "    print(kwargs)\n",
    "    \n",
    "func(1, 2, i=20, j=30, k=45)"
   ]
  },
  {
   "cell_type": "code",
   "execution_count": 46,
   "id": "cadf657d",
   "metadata": {},
   "outputs": [
    {
     "data": {
      "text/plain": [
       "(200, 2)"
      ]
     },
     "execution_count": 46,
     "metadata": {},
     "output_type": "execute_result"
    }
   ],
   "source": [
    "X.shape"
   ]
  },
  {
   "cell_type": "code",
   "execution_count": null,
   "id": "3c640ee3",
   "metadata": {},
   "outputs": [],
   "source": []
  }
 ],
 "metadata": {
  "kernelspec": {
   "display_name": "Python 3",
   "language": "python",
   "name": "python3"
  },
  "language_info": {
   "codemirror_mode": {
    "name": "ipython",
    "version": 3
   },
   "file_extension": ".py",
   "mimetype": "text/x-python",
   "name": "python",
   "nbconvert_exporter": "python",
   "pygments_lexer": "ipython3",
   "version": "3.9.4"
  }
 },
 "nbformat": 4,
 "nbformat_minor": 5
}
