{
 "cells": [
  {
   "cell_type": "markdown",
   "id": "0232ba0c",
   "metadata": {},
   "source": [
    "## Day 21 Naive Bayes\n",
    "13/Jan/2022, Thursday"
   ]
  },
  {
   "cell_type": "code",
   "execution_count": 52,
   "id": "a665f03f",
   "metadata": {},
   "outputs": [],
   "source": [
    "import pandas as pd\n",
    "import numpy as np\n",
    "from sklearn.naive_bayes import CategoricalNB, GaussianNB, MultinomialNB, BernoulliNB "
   ]
  },
  {
   "cell_type": "code",
   "execution_count": 15,
   "id": "c4e4e98d",
   "metadata": {},
   "outputs": [],
   "source": [
    "from sklearn.model_selection import train_test_split"
   ]
  },
  {
   "cell_type": "code",
   "execution_count": 16,
   "id": "564a3291",
   "metadata": {},
   "outputs": [],
   "source": [
    "from sklearn.preprocessing import LabelEncoder"
   ]
  },
  {
   "cell_type": "markdown",
   "id": "41ac3744",
   "metadata": {},
   "source": [
    "## Load Data"
   ]
  },
  {
   "cell_type": "code",
   "execution_count": 5,
   "id": "5525c993",
   "metadata": {},
   "outputs": [],
   "source": [
    "data = pd.read_csv(\"./mushrooms.csv\")"
   ]
  },
  {
   "cell_type": "code",
   "execution_count": 6,
   "id": "441b2072",
   "metadata": {},
   "outputs": [
    {
     "data": {
      "text/plain": [
       "(8124, 23)"
      ]
     },
     "execution_count": 6,
     "metadata": {},
     "output_type": "execute_result"
    }
   ],
   "source": [
    "data.shape"
   ]
  },
  {
   "cell_type": "code",
   "execution_count": 7,
   "id": "2cdfb528",
   "metadata": {},
   "outputs": [
    {
     "data": {
      "text/html": [
       "<div>\n",
       "<style scoped>\n",
       "    .dataframe tbody tr th:only-of-type {\n",
       "        vertical-align: middle;\n",
       "    }\n",
       "\n",
       "    .dataframe tbody tr th {\n",
       "        vertical-align: top;\n",
       "    }\n",
       "\n",
       "    .dataframe thead th {\n",
       "        text-align: right;\n",
       "    }\n",
       "</style>\n",
       "<table border=\"1\" class=\"dataframe\">\n",
       "  <thead>\n",
       "    <tr style=\"text-align: right;\">\n",
       "      <th></th>\n",
       "      <th>class</th>\n",
       "      <th>cap-shape</th>\n",
       "      <th>cap-surface</th>\n",
       "      <th>cap-color</th>\n",
       "      <th>bruises</th>\n",
       "      <th>odor</th>\n",
       "      <th>gill-attachment</th>\n",
       "      <th>gill-spacing</th>\n",
       "      <th>gill-size</th>\n",
       "      <th>gill-color</th>\n",
       "      <th>...</th>\n",
       "      <th>stalk-surface-below-ring</th>\n",
       "      <th>stalk-color-above-ring</th>\n",
       "      <th>stalk-color-below-ring</th>\n",
       "      <th>veil-type</th>\n",
       "      <th>veil-color</th>\n",
       "      <th>ring-number</th>\n",
       "      <th>ring-type</th>\n",
       "      <th>spore-print-color</th>\n",
       "      <th>population</th>\n",
       "      <th>habitat</th>\n",
       "    </tr>\n",
       "  </thead>\n",
       "  <tbody>\n",
       "    <tr>\n",
       "      <th>0</th>\n",
       "      <td>p</td>\n",
       "      <td>x</td>\n",
       "      <td>s</td>\n",
       "      <td>n</td>\n",
       "      <td>t</td>\n",
       "      <td>p</td>\n",
       "      <td>f</td>\n",
       "      <td>c</td>\n",
       "      <td>n</td>\n",
       "      <td>k</td>\n",
       "      <td>...</td>\n",
       "      <td>s</td>\n",
       "      <td>w</td>\n",
       "      <td>w</td>\n",
       "      <td>p</td>\n",
       "      <td>w</td>\n",
       "      <td>o</td>\n",
       "      <td>p</td>\n",
       "      <td>k</td>\n",
       "      <td>s</td>\n",
       "      <td>u</td>\n",
       "    </tr>\n",
       "    <tr>\n",
       "      <th>1</th>\n",
       "      <td>e</td>\n",
       "      <td>x</td>\n",
       "      <td>s</td>\n",
       "      <td>y</td>\n",
       "      <td>t</td>\n",
       "      <td>a</td>\n",
       "      <td>f</td>\n",
       "      <td>c</td>\n",
       "      <td>b</td>\n",
       "      <td>k</td>\n",
       "      <td>...</td>\n",
       "      <td>s</td>\n",
       "      <td>w</td>\n",
       "      <td>w</td>\n",
       "      <td>p</td>\n",
       "      <td>w</td>\n",
       "      <td>o</td>\n",
       "      <td>p</td>\n",
       "      <td>n</td>\n",
       "      <td>n</td>\n",
       "      <td>g</td>\n",
       "    </tr>\n",
       "    <tr>\n",
       "      <th>2</th>\n",
       "      <td>e</td>\n",
       "      <td>b</td>\n",
       "      <td>s</td>\n",
       "      <td>w</td>\n",
       "      <td>t</td>\n",
       "      <td>l</td>\n",
       "      <td>f</td>\n",
       "      <td>c</td>\n",
       "      <td>b</td>\n",
       "      <td>n</td>\n",
       "      <td>...</td>\n",
       "      <td>s</td>\n",
       "      <td>w</td>\n",
       "      <td>w</td>\n",
       "      <td>p</td>\n",
       "      <td>w</td>\n",
       "      <td>o</td>\n",
       "      <td>p</td>\n",
       "      <td>n</td>\n",
       "      <td>n</td>\n",
       "      <td>m</td>\n",
       "    </tr>\n",
       "    <tr>\n",
       "      <th>3</th>\n",
       "      <td>p</td>\n",
       "      <td>x</td>\n",
       "      <td>y</td>\n",
       "      <td>w</td>\n",
       "      <td>t</td>\n",
       "      <td>p</td>\n",
       "      <td>f</td>\n",
       "      <td>c</td>\n",
       "      <td>n</td>\n",
       "      <td>n</td>\n",
       "      <td>...</td>\n",
       "      <td>s</td>\n",
       "      <td>w</td>\n",
       "      <td>w</td>\n",
       "      <td>p</td>\n",
       "      <td>w</td>\n",
       "      <td>o</td>\n",
       "      <td>p</td>\n",
       "      <td>k</td>\n",
       "      <td>s</td>\n",
       "      <td>u</td>\n",
       "    </tr>\n",
       "    <tr>\n",
       "      <th>4</th>\n",
       "      <td>e</td>\n",
       "      <td>x</td>\n",
       "      <td>s</td>\n",
       "      <td>g</td>\n",
       "      <td>f</td>\n",
       "      <td>n</td>\n",
       "      <td>f</td>\n",
       "      <td>w</td>\n",
       "      <td>b</td>\n",
       "      <td>k</td>\n",
       "      <td>...</td>\n",
       "      <td>s</td>\n",
       "      <td>w</td>\n",
       "      <td>w</td>\n",
       "      <td>p</td>\n",
       "      <td>w</td>\n",
       "      <td>o</td>\n",
       "      <td>e</td>\n",
       "      <td>n</td>\n",
       "      <td>a</td>\n",
       "      <td>g</td>\n",
       "    </tr>\n",
       "  </tbody>\n",
       "</table>\n",
       "<p>5 rows × 23 columns</p>\n",
       "</div>"
      ],
      "text/plain": [
       "  class cap-shape cap-surface cap-color bruises odor gill-attachment  \\\n",
       "0     p         x           s         n       t    p               f   \n",
       "1     e         x           s         y       t    a               f   \n",
       "2     e         b           s         w       t    l               f   \n",
       "3     p         x           y         w       t    p               f   \n",
       "4     e         x           s         g       f    n               f   \n",
       "\n",
       "  gill-spacing gill-size gill-color  ... stalk-surface-below-ring  \\\n",
       "0            c         n          k  ...                        s   \n",
       "1            c         b          k  ...                        s   \n",
       "2            c         b          n  ...                        s   \n",
       "3            c         n          n  ...                        s   \n",
       "4            w         b          k  ...                        s   \n",
       "\n",
       "  stalk-color-above-ring stalk-color-below-ring veil-type veil-color  \\\n",
       "0                      w                      w         p          w   \n",
       "1                      w                      w         p          w   \n",
       "2                      w                      w         p          w   \n",
       "3                      w                      w         p          w   \n",
       "4                      w                      w         p          w   \n",
       "\n",
       "  ring-number ring-type spore-print-color population habitat  \n",
       "0           o         p                 k          s       u  \n",
       "1           o         p                 n          n       g  \n",
       "2           o         p                 n          n       m  \n",
       "3           o         p                 k          s       u  \n",
       "4           o         e                 n          a       g  \n",
       "\n",
       "[5 rows x 23 columns]"
      ]
     },
     "execution_count": 7,
     "metadata": {},
     "output_type": "execute_result"
    }
   ],
   "source": [
    "data.head()"
   ]
  },
  {
   "cell_type": "markdown",
   "id": "9dd11b15",
   "metadata": {},
   "source": [
    "## Train test split"
   ]
  },
  {
   "cell_type": "code",
   "execution_count": 9,
   "id": "cb1d80ac",
   "metadata": {},
   "outputs": [],
   "source": [
    "labels = data['class']\n",
    "labels = labels.values"
   ]
  },
  {
   "cell_type": "code",
   "execution_count": 10,
   "id": "0e420b2d",
   "metadata": {},
   "outputs": [
    {
     "data": {
      "text/plain": [
       "numpy.ndarray"
      ]
     },
     "execution_count": 10,
     "metadata": {},
     "output_type": "execute_result"
    }
   ],
   "source": [
    "type(labels)"
   ]
  },
  {
   "cell_type": "code",
   "execution_count": 12,
   "id": "c02487c0",
   "metadata": {},
   "outputs": [
    {
     "name": "stdout",
     "output_type": "stream",
     "text": [
      "(8124, 22)\n"
     ]
    }
   ],
   "source": [
    "X = data.drop(['class'], axis=1).values\n",
    "print(X.shape)"
   ]
  },
  {
   "cell_type": "code",
   "execution_count": 13,
   "id": "06a3cf47",
   "metadata": {},
   "outputs": [
    {
     "data": {
      "text/plain": [
       "numpy.ndarray"
      ]
     },
     "execution_count": 13,
     "metadata": {},
     "output_type": "execute_result"
    }
   ],
   "source": [
    "type(X)"
   ]
  },
  {
   "cell_type": "code",
   "execution_count": 14,
   "id": "26c8fe1a",
   "metadata": {},
   "outputs": [
    {
     "data": {
      "text/plain": [
       "array([['x', 's', 'n', ..., 'k', 's', 'u'],\n",
       "       ['x', 's', 'y', ..., 'n', 'n', 'g'],\n",
       "       ['b', 's', 'w', ..., 'n', 'n', 'm'],\n",
       "       ...,\n",
       "       ['f', 's', 'n', ..., 'b', 'c', 'l'],\n",
       "       ['k', 'y', 'n', ..., 'w', 'v', 'l'],\n",
       "       ['x', 's', 'n', ..., 'o', 'c', 'l']], dtype=object)"
      ]
     },
     "execution_count": 14,
     "metadata": {},
     "output_type": "execute_result"
    }
   ],
   "source": [
    "X"
   ]
  },
  {
   "cell_type": "code",
   "execution_count": 18,
   "id": "80c2deb4",
   "metadata": {},
   "outputs": [
    {
     "name": "stdout",
     "output_type": "stream",
     "text": [
      "(6499, 22) (6499,)\n",
      "(1625, 22) (1625,)\n"
     ]
    }
   ],
   "source": [
    "X_train, X_test, y_train, y_test = train_test_split(X, labels, test_size=0.2, random_state=42)\n",
    "print(X_train.shape, y_train.shape)\n",
    "print(X_test.shape, y_test.shape)"
   ]
  },
  {
   "cell_type": "markdown",
   "id": "8f23a0df",
   "metadata": {},
   "source": [
    "## Label Encoding"
   ]
  },
  {
   "cell_type": "code",
   "execution_count": 20,
   "id": "09884394",
   "metadata": {},
   "outputs": [],
   "source": [
    "def label_encoding(d):\n",
    "    result = np.empty(d.shape)\n",
    "    l_encoders = []\n",
    "    for i in range(d.shape[1]):\n",
    "        le = LabelEncoder()\n",
    "        result[:,i] = le.fit_transform(d[:,i])\n",
    "        l_encoders.append(le)\n",
    "    return l_encoders, result"
   ]
  },
  {
   "cell_type": "code",
   "execution_count": 21,
   "id": "3a359dd1",
   "metadata": {},
   "outputs": [
    {
     "name": "stdout",
     "output_type": "stream",
     "text": [
      "(6499, 22)\n"
     ]
    }
   ],
   "source": [
    "## Label encoding of training data\n",
    "les, x_train = label_encoding(X_train)\n",
    "print(x_train.shape)"
   ]
  },
  {
   "cell_type": "code",
   "execution_count": 23,
   "id": "9b647bfd",
   "metadata": {},
   "outputs": [
    {
     "name": "stdout",
     "output_type": "stream",
     "text": [
      "[0. 1. 2. 3. 4. 5.]\n",
      "['b' 'c' 'f' 'k' 's' 'x']\n"
     ]
    }
   ],
   "source": [
    "print(np.unique(x_train[:,0]))\n",
    "print(np.unique(X_train[:,0]))"
   ]
  },
  {
   "cell_type": "code",
   "execution_count": 26,
   "id": "e2406c25",
   "metadata": {},
   "outputs": [
    {
     "name": "stdout",
     "output_type": "stream",
     "text": [
      "22\n",
      "0 ['b' 'c' 'f' 'k' 's' 'x']\n",
      "1 ['f' 'g' 's' 'y']\n",
      "2 ['b' 'c' 'e' 'g' 'n' 'p' 'r' 'u' 'w' 'y']\n",
      "3 ['f' 't']\n",
      "4 ['a' 'c' 'f' 'l' 'm' 'n' 'p' 's' 'y']\n",
      "5 ['a' 'f']\n",
      "6 ['c' 'w']\n",
      "7 ['b' 'n']\n",
      "8 ['b' 'e' 'g' 'h' 'k' 'n' 'o' 'p' 'r' 'u' 'w' 'y']\n",
      "9 ['e' 't']\n",
      "10 ['?' 'b' 'c' 'e' 'r']\n",
      "11 ['f' 'k' 's' 'y']\n",
      "12 ['f' 'k' 's' 'y']\n",
      "13 ['b' 'c' 'e' 'g' 'n' 'o' 'p' 'w' 'y']\n",
      "14 ['b' 'c' 'e' 'g' 'n' 'o' 'p' 'w' 'y']\n",
      "15 ['p']\n",
      "16 ['n' 'o' 'w' 'y']\n",
      "17 ['n' 'o' 't']\n",
      "18 ['e' 'f' 'l' 'n' 'p']\n",
      "19 ['b' 'h' 'k' 'n' 'o' 'r' 'u' 'w' 'y']\n",
      "20 ['a' 'c' 'n' 's' 'v' 'y']\n",
      "21 ['d' 'g' 'l' 'm' 'p' 'u' 'w']\n"
     ]
    }
   ],
   "source": [
    "print(len(les))\n",
    "for i, le in enumerate(les):\n",
    "    print(i, le.classes_)"
   ]
  },
  {
   "cell_type": "code",
   "execution_count": 27,
   "id": "f31cf49b",
   "metadata": {},
   "outputs": [],
   "source": [
    "## label encoding of X_test\n",
    "x_test = np.empty(X_test.shape)\n",
    "for i in range(X_test.shape[1]):\n",
    "    le = les[i]\n",
    "    x_test[:,i] = le.transform(X_test[:,i])    "
   ]
  },
  {
   "cell_type": "code",
   "execution_count": 28,
   "id": "b4461ccf",
   "metadata": {},
   "outputs": [
    {
     "data": {
      "text/plain": [
       "array([[2., 0., 4., ..., 3., 3., 1.],\n",
       "       [2., 2., 2., ..., 7., 4., 2.],\n",
       "       [5., 3., 4., ..., 7., 4., 2.],\n",
       "       ...,\n",
       "       [5., 3., 4., ..., 7., 4., 4.],\n",
       "       [3., 3., 4., ..., 7., 4., 4.],\n",
       "       [5., 0., 9., ..., 1., 5., 4.]])"
      ]
     },
     "execution_count": 28,
     "metadata": {},
     "output_type": "execute_result"
    }
   ],
   "source": [
    "x_test"
   ]
  },
  {
   "cell_type": "code",
   "execution_count": 38,
   "id": "47d9e63c",
   "metadata": {},
   "outputs": [],
   "source": [
    "np.unique(labels)\n",
    "map_ = {'e':0, 'p':1}\n",
    "Y_train = np.array([map_[el] for el in y_train])"
   ]
  },
  {
   "cell_type": "code",
   "execution_count": 39,
   "id": "9b971bdb",
   "metadata": {},
   "outputs": [
    {
     "data": {
      "text/plain": [
       "(6499,)"
      ]
     },
     "execution_count": 39,
     "metadata": {},
     "output_type": "execute_result"
    }
   ],
   "source": [
    "Y_train.shape"
   ]
  },
  {
   "cell_type": "code",
   "execution_count": 40,
   "id": "5c72b8be",
   "metadata": {},
   "outputs": [
    {
     "name": "stdout",
     "output_type": "stream",
     "text": [
      "(1625,)\n"
     ]
    }
   ],
   "source": [
    "Y_test = np.array([map_[el] for el in y_test])\n",
    "print(Y_test.shape)"
   ]
  },
  {
   "cell_type": "code",
   "execution_count": 41,
   "id": "f9f114a0",
   "metadata": {},
   "outputs": [
    {
     "name": "stdout",
     "output_type": "stream",
     "text": [
      "[0 1]\n",
      "['e' 'p']\n"
     ]
    }
   ],
   "source": [
    "print(np.unique(Y_test))\n",
    "print(np.unique(y_test))"
   ]
  },
  {
   "cell_type": "markdown",
   "id": "d8843c08",
   "metadata": {},
   "source": [
    "## Build the model"
   ]
  },
  {
   "cell_type": "code",
   "execution_count": 42,
   "id": "c25de09f",
   "metadata": {},
   "outputs": [],
   "source": [
    "nb = CategoricalNB()"
   ]
  },
  {
   "cell_type": "code",
   "execution_count": 43,
   "id": "42436cc4",
   "metadata": {},
   "outputs": [
    {
     "data": {
      "text/plain": [
       "CategoricalNB()"
      ]
     },
     "execution_count": 43,
     "metadata": {},
     "output_type": "execute_result"
    }
   ],
   "source": [
    "# train \n",
    "nb.fit(x_train, Y_train)"
   ]
  },
  {
   "cell_type": "code",
   "execution_count": 47,
   "id": "ab1a9927",
   "metadata": {},
   "outputs": [
    {
     "data": {
      "text/plain": [
       "array([0, 1])"
      ]
     },
     "execution_count": 47,
     "metadata": {},
     "output_type": "execute_result"
    }
   ],
   "source": [
    "nb.classes_"
   ]
  },
  {
   "cell_type": "code",
   "execution_count": 48,
   "id": "8557afae",
   "metadata": {},
   "outputs": [
    {
     "data": {
      "text/plain": [
       "array([-0.65822036, -0.72933817])"
      ]
     },
     "execution_count": 48,
     "metadata": {},
     "output_type": "execute_result"
    }
   ],
   "source": [
    "nb.class_log_prior_"
   ]
  },
  {
   "cell_type": "code",
   "execution_count": 50,
   "id": "b23450ed",
   "metadata": {},
   "outputs": [
    {
     "name": "stdout",
     "output_type": "stream",
     "text": [
      "Test accuracy 0.9507692307692308\n"
     ]
    }
   ],
   "source": [
    "test_pred = nb.predict(x_test)\n",
    "test_acc = nb.score(x_test, Y_test)\n",
    "print(\"Test accuracy\", test_acc)"
   ]
  },
  {
   "cell_type": "code",
   "execution_count": 51,
   "id": "5ffa7186",
   "metadata": {},
   "outputs": [
    {
     "name": "stdout",
     "output_type": "stream",
     "text": [
      "Training Accuracy 0.955377750423142\n"
     ]
    }
   ],
   "source": [
    "train_acc = nb.score(x_train, Y_train)\n",
    "print(\"Training Accuracy\", train_acc)"
   ]
  },
  {
   "cell_type": "markdown",
   "id": "2b02f3e4",
   "metadata": {},
   "source": [
    "## HW\n",
    "## Implement Naive Bayes"
   ]
  },
  {
   "cell_type": "code",
   "execution_count": null,
   "id": "7074e609",
   "metadata": {},
   "outputs": [],
   "source": [
    "class NaiveBayes:\n",
    "    \n",
    "    def __init__(self,):\n",
    "        pass\n",
    "    \n",
    "    # training\n",
    "    def fit(self, X, y):\n",
    "        # compute priors of each class\n",
    "        self.classes = [] \n",
    "        self.class_priors = []\n",
    "        \n",
    "        # compute likelihood, P(xi|y=c) for each feature\n",
    "        self.feature_prob = []\n",
    "        \n",
    "    def predict(self, X):\n",
    "        ## prediction for 1 sample\n",
    "        # compute posterior prob for each class, P(y=c|X)\n",
    "        post = []\n",
    "        for c in self.classes:\n",
    "            post_prob_c = 0\n",
    "            prior = self.priors[c]\n",
    "            likelihood = 1\n",
    "            for i in range(X.shape[1]):\n",
    "                likelihood *= self.feature_prob[i, c, X[i]]\n",
    "            pass"
   ]
  }
 ],
 "metadata": {
  "kernelspec": {
   "display_name": "Python 3",
   "language": "python",
   "name": "python3"
  },
  "language_info": {
   "codemirror_mode": {
    "name": "ipython",
    "version": 3
   },
   "file_extension": ".py",
   "mimetype": "text/x-python",
   "name": "python",
   "nbconvert_exporter": "python",
   "pygments_lexer": "ipython3",
   "version": "3.9.4"
  }
 },
 "nbformat": 4,
 "nbformat_minor": 5
}
