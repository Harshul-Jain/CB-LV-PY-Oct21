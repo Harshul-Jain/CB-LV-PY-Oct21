{
 "cells": [
  {
   "cell_type": "markdown",
   "id": "5566aba4",
   "metadata": {},
   "source": [
    "## Day 02: Numpy\n",
    "**2-Dec-2021**"
   ]
  },
  {
   "cell_type": "code",
   "execution_count": null,
   "id": "02a72eac",
   "metadata": {},
   "outputs": [],
   "source": [
    "!pip install numpy"
   ]
  },
  {
   "cell_type": "code",
   "execution_count": 1,
   "id": "96cc3582",
   "metadata": {},
   "outputs": [],
   "source": [
    "import numpy as np"
   ]
  },
  {
   "cell_type": "code",
   "execution_count": 2,
   "id": "e7d11cbb",
   "metadata": {},
   "outputs": [
    {
     "name": "stdout",
     "output_type": "stream",
     "text": [
      "[3, 5, 7]\n"
     ]
    }
   ],
   "source": [
    "l1 = [1,2,3]\n",
    "l2 = [2,3,4]\n",
    "\n",
    "o = []\n",
    "for i in range(len(l1)):\n",
    "    o.append(l1[i]+l2[i])\n",
    "print(o)"
   ]
  },
  {
   "cell_type": "markdown",
   "id": "5fa4ff4d",
   "metadata": {},
   "source": [
    "### Array Creation and attributes\n",
    "- creating array from a sequence: 1d, 2d\n",
    "- arithmetic operations on np array\n",
    "- num of dim, shape, size, dtype, itemsize"
   ]
  },
  {
   "cell_type": "code",
   "execution_count": 5,
   "id": "175f13ca",
   "metadata": {},
   "outputs": [
    {
     "name": "stdout",
     "output_type": "stream",
     "text": [
      "[1 3 4 5] <class 'numpy.ndarray'>\n",
      "[1 2 3 4] <class 'numpy.ndarray'>\n"
     ]
    }
   ],
   "source": [
    "l = [1, 3, 4, 5]\n",
    "\n",
    "a = np.array(l)\n",
    "b = np.array([1,2,3,4])\n",
    "print(a, type(a))\n",
    "print(b, type(b))"
   ]
  },
  {
   "cell_type": "code",
   "execution_count": 9,
   "id": "d1bce68f",
   "metadata": {},
   "outputs": [
    {
     "name": "stdout",
     "output_type": "stream",
     "text": [
      "[2 5 7 9]\n",
      "[ 1  6 12 20]\n",
      "[0 1 1 1]\n",
      "[ 1  9 16 25]\n"
     ]
    }
   ],
   "source": [
    "print(a+b)\n",
    "print(a*b)\n",
    "print(a-b)\n",
    "print(a**2) # arithmetic operations are performed elementwise"
   ]
  },
  {
   "cell_type": "code",
   "execution_count": 10,
   "id": "1cb32013",
   "metadata": {},
   "outputs": [
    {
     "name": "stdout",
     "output_type": "stream",
     "text": [
      "[[1 2 3]\n",
      " [4 5 6]]\n"
     ]
    }
   ],
   "source": [
    "l2 = [[1,2,3], [4,5,6]]\n",
    "a = np.array(l2)\n",
    "print(a)"
   ]
  },
  {
   "cell_type": "code",
   "execution_count": 11,
   "id": "0cbafa9b",
   "metadata": {},
   "outputs": [
    {
     "name": "stdout",
     "output_type": "stream",
     "text": [
      "(2, 3)\n"
     ]
    }
   ],
   "source": [
    "print(a.shape)"
   ]
  },
  {
   "cell_type": "code",
   "execution_count": 14,
   "id": "f479e07e",
   "metadata": {},
   "outputs": [
    {
     "data": {
      "text/plain": [
       "2"
      ]
     },
     "execution_count": 14,
     "metadata": {},
     "output_type": "execute_result"
    }
   ],
   "source": [
    "a.ndim"
   ]
  },
  {
   "cell_type": "code",
   "execution_count": 18,
   "id": "548f28e8",
   "metadata": {},
   "outputs": [
    {
     "name": "stdout",
     "output_type": "stream",
     "text": [
      "(4,) 1\n"
     ]
    }
   ],
   "source": [
    "b = np.array([1,2,3,4])\n",
    "print(b.shape, b.ndim)"
   ]
  },
  {
   "cell_type": "code",
   "execution_count": 19,
   "id": "6c953718",
   "metadata": {},
   "outputs": [
    {
     "data": {
      "text/plain": [
       "2"
      ]
     },
     "execution_count": 19,
     "metadata": {},
     "output_type": "execute_result"
    }
   ],
   "source": [
    "b.reshape(1,4).ndim"
   ]
  },
  {
   "cell_type": "code",
   "execution_count": 20,
   "id": "620ffd24",
   "metadata": {},
   "outputs": [
    {
     "data": {
      "text/plain": [
       "dtype('int32')"
      ]
     },
     "execution_count": 20,
     "metadata": {},
     "output_type": "execute_result"
    }
   ],
   "source": [
    "b.dtype"
   ]
  },
  {
   "cell_type": "code",
   "execution_count": 28,
   "id": "5a3ca4c3",
   "metadata": {},
   "outputs": [],
   "source": [
    "b = np.array([1,2,3,4], dtype=np.float32)"
   ]
  },
  {
   "cell_type": "code",
   "execution_count": 29,
   "id": "28723690",
   "metadata": {},
   "outputs": [
    {
     "data": {
      "text/plain": [
       "dtype('float32')"
      ]
     },
     "execution_count": 29,
     "metadata": {},
     "output_type": "execute_result"
    }
   ],
   "source": [
    "b.dtype"
   ]
  },
  {
   "cell_type": "code",
   "execution_count": 30,
   "id": "b08b011e",
   "metadata": {},
   "outputs": [
    {
     "data": {
      "text/plain": [
       "4"
      ]
     },
     "execution_count": 30,
     "metadata": {},
     "output_type": "execute_result"
    }
   ],
   "source": [
    "b.itemsize"
   ]
  },
  {
   "cell_type": "markdown",
   "id": "0121adfc",
   "metadata": {},
   "source": [
    "### Creating fixed size array\n",
    "- zeros, ones, empty"
   ]
  },
  {
   "cell_type": "code",
   "execution_count": 33,
   "id": "40a8d25c",
   "metadata": {},
   "outputs": [
    {
     "name": "stdout",
     "output_type": "stream",
     "text": [
      "[[0 0 0 0 0]\n",
      " [0 0 0 0 0]\n",
      " [0 0 0 0 0]\n",
      " [0 0 0 0 0]]\n",
      "int32\n"
     ]
    }
   ],
   "source": [
    "a = np.zeros((4,5), dtype=np.int32)\n",
    "print(a)\n",
    "print(a.dtype)"
   ]
  },
  {
   "cell_type": "code",
   "execution_count": 36,
   "id": "710ff239",
   "metadata": {},
   "outputs": [
    {
     "name": "stdout",
     "output_type": "stream",
     "text": [
      "[[[1 1 1 1 1 1]\n",
      "  [1 1 1 1 1 1]\n",
      "  [1 1 1 1 1 1]\n",
      "  [1 1 1 1 1 1]\n",
      "  [1 1 1 1 1 1]]\n",
      "\n",
      " [[1 1 1 1 1 1]\n",
      "  [1 1 1 1 1 1]\n",
      "  [1 1 1 1 1 1]\n",
      "  [1 1 1 1 1 1]\n",
      "  [1 1 1 1 1 1]]]\n"
     ]
    }
   ],
   "source": [
    "b = np.ones((2,5,6), dtype=np.int64)\n",
    "print(b)"
   ]
  },
  {
   "cell_type": "code",
   "execution_count": 44,
   "id": "b0cb73ce",
   "metadata": {},
   "outputs": [
    {
     "name": "stdout",
     "output_type": "stream",
     "text": [
      "[[1.17193869e-311 2.65673873e-311 0.00000000e+000 0.00000000e+000\n",
      "  1.17194680e-311 1.17194672e-311 1.17194680e-311]\n",
      " [1.17194672e-311 0.00000000e+000 6.95321843e-310 0.00000000e+000\n",
      "  0.00000000e+000 1.17191502e-311 1.17194675e-311]\n",
      " [1.17191502e-311 1.17194675e-311 0.00000000e+000 6.95321843e-310\n",
      "  0.00000000e+000 0.00000000e+000 0.00000000e+000]\n",
      " [6.95321843e-310 0.00000000e+000 0.00000000e+000 1.17192113e-311\n",
      "  6.95321843e-310 1.17192113e-311 0.00000000e+000]\n",
      " [0.00000000e+000 0.00000000e+000 0.00000000e+000 6.95321843e-310\n",
      "  1.17192113e-311 1.17193869e-311 1.17192175e-311]\n",
      " [1.17193729e-311 6.95321842e-310 0.00000000e+000 0.00000000e+000\n",
      "  1.17192113e-311 0.00000000e+000 0.00000000e+000]]\n"
     ]
    }
   ],
   "source": [
    "c = np.empty((6,7)) # uninitialized\n",
    "print(c)"
   ]
  },
  {
   "cell_type": "markdown",
   "id": "dc93fcf0",
   "metadata": {},
   "source": [
    "### Creating sequences of numbers\n",
    "- arange, linspace "
   ]
  },
  {
   "cell_type": "code",
   "execution_count": 45,
   "id": "9ed37647",
   "metadata": {},
   "outputs": [],
   "source": [
    "a = np.arange?"
   ]
  },
  {
   "cell_type": "code",
   "execution_count": 52,
   "id": "46482b55",
   "metadata": {},
   "outputs": [
    {
     "data": {
      "text/plain": [
       "array([[[100,  99,  98,  97,  96,  95,  94,  93,  92,  91,  90,  89,\n",
       "          88,  87,  86,  85],\n",
       "        [ 84,  83,  82,  81,  80,  79,  78,  77,  76,  75,  74,  73,\n",
       "          72,  71,  70,  69]],\n",
       "\n",
       "       [[ 68,  67,  66,  65,  64,  63,  62,  61,  60,  59,  58,  57,\n",
       "          56,  55,  54,  53],\n",
       "        [ 52,  51,  50,  49,  48,  47,  46,  45,  44,  43,  42,  41,\n",
       "          40,  39,  38,  37]],\n",
       "\n",
       "       [[ 36,  35,  34,  33,  32,  31,  30,  29,  28,  27,  26,  25,\n",
       "          24,  23,  22,  21],\n",
       "        [ 20,  19,  18,  17,  16,  15,  14,  13,  12,  11,  10,   9,\n",
       "           8,   7,   6,   5]]])"
      ]
     },
     "execution_count": 52,
     "metadata": {},
     "output_type": "execute_result"
    }
   ],
   "source": [
    "a = np.arange(100, 4, -1).reshape(3, 2,-1)\n",
    "a"
   ]
  },
  {
   "cell_type": "code",
   "execution_count": 53,
   "id": "e77c383b",
   "metadata": {},
   "outputs": [],
   "source": [
    "a = np.linspace?"
   ]
  },
  {
   "cell_type": "code",
   "execution_count": 76,
   "id": "7da2f0cf",
   "metadata": {},
   "outputs": [
    {
     "name": "stdout",
     "output_type": "stream",
     "text": [
      "[ 2.          2.48484848  2.96969697  3.45454545  3.93939394  4.42424242\n",
      "  4.90909091  5.39393939  5.87878788  6.36363636  6.84848485  7.33333333\n",
      "  7.81818182  8.3030303   8.78787879  9.27272727  9.75757576 10.24242424\n",
      " 10.72727273 11.21212121 11.6969697  12.18181818 12.66666667 13.15151515\n",
      " 13.63636364 14.12121212 14.60606061 15.09090909 15.57575758 16.06060606\n",
      " 16.54545455 17.03030303 17.51515152 18.         18.48484848 18.96969697\n",
      " 19.45454545 19.93939394 20.42424242 20.90909091 21.39393939 21.87878788\n",
      " 22.36363636 22.84848485 23.33333333 23.81818182 24.3030303  24.78787879\n",
      " 25.27272727 25.75757576 26.24242424 26.72727273 27.21212121 27.6969697\n",
      " 28.18181818 28.66666667 29.15151515 29.63636364 30.12121212 30.60606061\n",
      " 31.09090909 31.57575758 32.06060606 32.54545455 33.03030303 33.51515152\n",
      " 34.         34.48484848 34.96969697 35.45454545 35.93939394 36.42424242\n",
      " 36.90909091 37.39393939 37.87878788 38.36363636 38.84848485 39.33333333\n",
      " 39.81818182 40.3030303  40.78787879 41.27272727 41.75757576 42.24242424\n",
      " 42.72727273 43.21212121 43.6969697  44.18181818 44.66666667 45.15151515\n",
      " 45.63636364 46.12121212 46.60606061 47.09090909 47.57575758 48.06060606\n",
      " 48.54545455 49.03030303 49.51515152 50.        ]\n"
     ]
    }
   ],
   "source": [
    "a = np.linspace(2,50, 100)\n",
    "print(a)"
   ]
  },
  {
   "cell_type": "code",
   "execution_count": 75,
   "id": "ce6ac1f0",
   "metadata": {},
   "outputs": [
    {
     "data": {
      "text/plain": [
       "0.48484848484848486"
      ]
     },
     "execution_count": 75,
     "metadata": {},
     "output_type": "execute_result"
    }
   ],
   "source": [
    "(50-2)/99"
   ]
  },
  {
   "cell_type": "markdown",
   "id": "c71b9ee2",
   "metadata": {},
   "source": [
    "### Basic Operations\n",
    "- element-wise arithmatic and comparison operation with scaler and arrays\n",
    "- matrix multiplication\n",
    "- +=, -=, *= etc. changes value inplace \n",
    "- Resulting matrix has a more general/ precise dtype"
   ]
  },
  {
   "cell_type": "code",
   "execution_count": 79,
   "id": "dabad3e3",
   "metadata": {},
   "outputs": [
    {
     "name": "stdout",
     "output_type": "stream",
     "text": [
      "[ 1  2  3  4  5  6  7  8  9 10 11 12 13 14 15 16 17 18 19 20]\n"
     ]
    },
    {
     "data": {
      "text/plain": [
       "array([ True,  True,  True,  True,  True,  True,  True,  True,  True,\n",
       "       False, False, False, False, False, False, False, False, False,\n",
       "       False, False])"
      ]
     },
     "execution_count": 79,
     "metadata": {},
     "output_type": "execute_result"
    }
   ],
   "source": [
    "a = np.arange(1, 21)\n",
    "print(a)\n",
    "a < 10"
   ]
  },
  {
   "cell_type": "code",
   "execution_count": 80,
   "id": "1b34f257",
   "metadata": {},
   "outputs": [
    {
     "name": "stdout",
     "output_type": "stream",
     "text": [
      "[11 12 13 14 15 16 17 18 19 20 21 22 23 24 25 26 27 28 29 30]\n"
     ]
    }
   ],
   "source": [
    "b = np.arange(11, 31)\n",
    "print(b)"
   ]
  },
  {
   "cell_type": "code",
   "execution_count": 81,
   "id": "c24991e4",
   "metadata": {},
   "outputs": [
    {
     "data": {
      "text/plain": [
       "array([ 11,  24,  39,  56,  75,  96, 119, 144, 171, 200, 231, 264, 299,\n",
       "       336, 375, 416, 459, 504, 551, 600])"
      ]
     },
     "execution_count": 81,
     "metadata": {},
     "output_type": "execute_result"
    }
   ],
   "source": [
    "a*b"
   ]
  },
  {
   "cell_type": "code",
   "execution_count": 82,
   "id": "e534eea7",
   "metadata": {},
   "outputs": [
    {
     "data": {
      "text/plain": [
       "array([[ 175,  190,  205,  220],\n",
       "       [ 400,  440,  480,  520],\n",
       "       [ 625,  690,  755,  820],\n",
       "       [ 850,  940, 1030, 1120]])"
      ]
     },
     "execution_count": 82,
     "metadata": {},
     "output_type": "execute_result"
    }
   ],
   "source": [
    "a = a.reshape(4,5) # matrix multiplication\n",
    "b = a.reshape(5,4)\n",
    "a.dot(b)"
   ]
  },
  {
   "cell_type": "code",
   "execution_count": 83,
   "id": "bb582541",
   "metadata": {},
   "outputs": [
    {
     "data": {
      "text/plain": [
       "array([[ 175,  190,  205,  220],\n",
       "       [ 400,  440,  480,  520],\n",
       "       [ 625,  690,  755,  820],\n",
       "       [ 850,  940, 1030, 1120]])"
      ]
     },
     "execution_count": 83,
     "metadata": {},
     "output_type": "execute_result"
    }
   ],
   "source": [
    "a@b"
   ]
  },
  {
   "cell_type": "code",
   "execution_count": 84,
   "id": "2c7a9509",
   "metadata": {},
   "outputs": [
    {
     "data": {
      "text/plain": [
       "array([[ 1,  2,  3,  4,  5],\n",
       "       [ 6,  7,  8,  9, 10],\n",
       "       [11, 12, 13, 14, 15],\n",
       "       [16, 17, 18, 19, 20]])"
      ]
     },
     "execution_count": 84,
     "metadata": {},
     "output_type": "execute_result"
    }
   ],
   "source": [
    "a"
   ]
  },
  {
   "cell_type": "code",
   "execution_count": 85,
   "id": "7a224138",
   "metadata": {},
   "outputs": [],
   "source": [
    "a+=1"
   ]
  },
  {
   "cell_type": "code",
   "execution_count": 86,
   "id": "ca78672b",
   "metadata": {},
   "outputs": [
    {
     "name": "stdout",
     "output_type": "stream",
     "text": [
      "[[ 2  3  4  5  6]\n",
      " [ 7  8  9 10 11]\n",
      " [12 13 14 15 16]\n",
      " [17 18 19 20 21]]\n"
     ]
    }
   ],
   "source": [
    "print(a)"
   ]
  },
  {
   "cell_type": "code",
   "execution_count": 90,
   "id": "b3d6e0d8",
   "metadata": {},
   "outputs": [
    {
     "name": "stdout",
     "output_type": "stream",
     "text": [
      "[[2 4]\n",
      " [6 8]] int64\n"
     ]
    }
   ],
   "source": [
    "a = np.arange(1, 5, dtype=np.int32).reshape(2,-1)\n",
    "b = np.arange(1, 5, dtype=np.int64).reshape(2,-1)\n",
    "c = a+b\n",
    "print(c, c.dtype)"
   ]
  },
  {
   "cell_type": "code",
   "execution_count": 89,
   "id": "8c76085e",
   "metadata": {},
   "outputs": [
    {
     "name": "stdout",
     "output_type": "stream",
     "text": [
      "[[1 2]\n",
      " [3 4]]\n"
     ]
    }
   ],
   "source": [
    "print(a)"
   ]
  },
  {
   "cell_type": "markdown",
   "id": "171973a4",
   "metadata": {},
   "source": [
    "### Unary operations\n",
    "- sum, min, max"
   ]
  },
  {
   "cell_type": "code",
   "execution_count": 116,
   "id": "564bf43c",
   "metadata": {},
   "outputs": [
    {
     "name": "stdout",
     "output_type": "stream",
     "text": [
      "[[1 2 3]\n",
      " [4 5 6]\n",
      " [7 8 9]]\n"
     ]
    }
   ],
   "source": [
    "a = np.arange(1, 10, dtype=np.int32).reshape(3,-1)\n",
    "b = np.arange(1, 10, dtype=np.int64).reshape(3,-1)\n",
    "print(a)"
   ]
  },
  {
   "cell_type": "code",
   "execution_count": 117,
   "id": "cec57900",
   "metadata": {},
   "outputs": [
    {
     "name": "stdout",
     "output_type": "stream",
     "text": [
      "[12 15 18]\n"
     ]
    },
    {
     "data": {
      "text/plain": [
       "(3,)"
      ]
     },
     "execution_count": 117,
     "metadata": {},
     "output_type": "execute_result"
    }
   ],
   "source": [
    "print(np.sum(a, axis=0))\n",
    "np.sum(a, axis=0).shape"
   ]
  },
  {
   "cell_type": "code",
   "execution_count": 97,
   "id": "35168989",
   "metadata": {},
   "outputs": [
    {
     "data": {
      "text/plain": [
       "array([ 6, 15, 24])"
      ]
     },
     "execution_count": 97,
     "metadata": {},
     "output_type": "execute_result"
    }
   ],
   "source": [
    "np.sum(a, axis=1)"
   ]
  },
  {
   "cell_type": "code",
   "execution_count": 98,
   "id": "a37933f2",
   "metadata": {},
   "outputs": [
    {
     "data": {
      "text/plain": [
       "array([12, 15, 18])"
      ]
     },
     "execution_count": 98,
     "metadata": {},
     "output_type": "execute_result"
    }
   ],
   "source": [
    "a.sum(0)"
   ]
  },
  {
   "cell_type": "code",
   "execution_count": 99,
   "id": "62104a07",
   "metadata": {},
   "outputs": [
    {
     "data": {
      "text/plain": [
       "array([ 6, 15, 24])"
      ]
     },
     "execution_count": 99,
     "metadata": {},
     "output_type": "execute_result"
    }
   ],
   "source": [
    "a.sum(1)"
   ]
  },
  {
   "cell_type": "code",
   "execution_count": 100,
   "id": "12bfe1ca",
   "metadata": {},
   "outputs": [
    {
     "data": {
      "text/plain": [
       "45"
      ]
     },
     "execution_count": 100,
     "metadata": {},
     "output_type": "execute_result"
    }
   ],
   "source": [
    "a.sum()"
   ]
  },
  {
   "cell_type": "code",
   "execution_count": 101,
   "id": "2b67f3bf",
   "metadata": {},
   "outputs": [
    {
     "name": "stdout",
     "output_type": "stream",
     "text": [
      "[[1 2 3]\n",
      " [4 5 6]\n",
      " [7 8 9]]\n"
     ]
    }
   ],
   "source": [
    "print(a)"
   ]
  },
  {
   "cell_type": "code",
   "execution_count": 102,
   "id": "78f52e9e",
   "metadata": {},
   "outputs": [
    {
     "data": {
      "text/plain": [
       "array([1, 2, 3])"
      ]
     },
     "execution_count": 102,
     "metadata": {},
     "output_type": "execute_result"
    }
   ],
   "source": [
    "a.min(0)"
   ]
  },
  {
   "cell_type": "code",
   "execution_count": 103,
   "id": "0dea34b9",
   "metadata": {},
   "outputs": [
    {
     "data": {
      "text/plain": [
       "array([1, 4, 7])"
      ]
     },
     "execution_count": 103,
     "metadata": {},
     "output_type": "execute_result"
    }
   ],
   "source": [
    "a.min(1)"
   ]
  },
  {
   "cell_type": "code",
   "execution_count": 104,
   "id": "91ba6d89",
   "metadata": {},
   "outputs": [
    {
     "data": {
      "text/plain": [
       "array([7, 8, 9])"
      ]
     },
     "execution_count": 104,
     "metadata": {},
     "output_type": "execute_result"
    }
   ],
   "source": [
    "a.max(0)"
   ]
  },
  {
   "cell_type": "code",
   "execution_count": 112,
   "id": "9cd94083",
   "metadata": {},
   "outputs": [
    {
     "name": "stdout",
     "output_type": "stream",
     "text": [
      "[[[1. 1. 1. 1. 1.]\n",
      "  [1. 1. 1. 1. 1.]\n",
      "  [1. 1. 1. 1. 1.]\n",
      "  [1. 1. 1. 1. 1.]]\n",
      "\n",
      " [[1. 1. 1. 1. 1.]\n",
      "  [1. 1. 1. 1. 1.]\n",
      "  [1. 1. 1. 1. 1.]\n",
      "  [1. 1. 1. 1. 1.]]]\n",
      "(2, 4, 5)\n"
     ]
    }
   ],
   "source": [
    "a = np.ones((2, 4, 5))\n",
    "print(a)\n",
    "print(a.shape)"
   ]
  },
  {
   "cell_type": "code",
   "execution_count": 115,
   "id": "3b507885",
   "metadata": {},
   "outputs": [
    {
     "name": "stdout",
     "output_type": "stream",
     "text": [
      "(2, 4)\n"
     ]
    },
    {
     "data": {
      "text/plain": [
       "array([[5., 5., 5., 5.],\n",
       "       [5., 5., 5., 5.]])"
      ]
     },
     "execution_count": 115,
     "metadata": {},
     "output_type": "execute_result"
    }
   ],
   "source": [
    "print(a.sum(2).shape)\n",
    "a.sum(2)"
   ]
  },
  {
   "cell_type": "code",
   "execution_count": 109,
   "id": "62190779",
   "metadata": {},
   "outputs": [
    {
     "data": {
      "text/plain": [
       "array([[1., 1., 1., 1., 1.],\n",
       "       [1., 1., 1., 1., 1.],\n",
       "       [1., 1., 1., 1., 1.],\n",
       "       [1., 1., 1., 1., 1.]])"
      ]
     },
     "execution_count": 109,
     "metadata": {},
     "output_type": "execute_result"
    }
   ],
   "source": [
    "a.mean(0)"
   ]
  },
  {
   "cell_type": "markdown",
   "id": "554c123e",
   "metadata": {},
   "source": [
    "### Array indexing, slicing\n",
    "- similar to list slicing\n",
    "- slice is considered complete for missing slices, when fewer indices provided"
   ]
  },
  {
   "cell_type": "code",
   "execution_count": 119,
   "id": "0eacb017",
   "metadata": {},
   "outputs": [
    {
     "name": "stdout",
     "output_type": "stream",
     "text": [
      "[[ 1  2  3  4  5]\n",
      " [ 6  7  8  9 10]\n",
      " [11 12 13 14 15]\n",
      " [16 17 18 19 20]]\n"
     ]
    }
   ],
   "source": [
    "a = np.arange(1, 21).reshape(4,5)\n",
    "print(a)"
   ]
  },
  {
   "cell_type": "code",
   "execution_count": 120,
   "id": "4264b114",
   "metadata": {},
   "outputs": [
    {
     "data": {
      "text/plain": [
       "array([[ 3,  4,  5],\n",
       "       [ 8,  9, 10]])"
      ]
     },
     "execution_count": 120,
     "metadata": {},
     "output_type": "execute_result"
    }
   ],
   "source": [
    "a[:2, 2:]"
   ]
  },
  {
   "cell_type": "code",
   "execution_count": 123,
   "id": "97388b26",
   "metadata": {},
   "outputs": [
    {
     "data": {
      "text/plain": [
       "array([[ 1,  2,  3,  4,  5],\n",
       "       [ 6,  7,  8,  9, 10]])"
      ]
     },
     "execution_count": 123,
     "metadata": {},
     "output_type": "execute_result"
    }
   ],
   "source": [
    "a[:2]"
   ]
  },
  {
   "cell_type": "code",
   "execution_count": 124,
   "id": "ae27ac3e",
   "metadata": {},
   "outputs": [
    {
     "name": "stdout",
     "output_type": "stream",
     "text": [
      "[[[ 1  2  3  4  5]\n",
      "  [ 6  7  8  9 10]\n",
      "  [11 12 13 14 15]\n",
      "  [16 17 18 19 20]\n",
      "  [21 22 23 24 25]]\n",
      "\n",
      " [[26 27 28 29 30]\n",
      "  [31 32 33 34 35]\n",
      "  [36 37 38 39 40]\n",
      "  [41 42 43 44 45]\n",
      "  [46 47 48 49 50]]]\n"
     ]
    }
   ],
   "source": [
    "a = np.arange(1, 51).reshape(2,5,-1)\n",
    "print(a)"
   ]
  },
  {
   "cell_type": "code",
   "execution_count": 127,
   "id": "9b864d08",
   "metadata": {},
   "outputs": [
    {
     "data": {
      "text/plain": [
       "array([[41, 42, 43, 44, 45],\n",
       "       [46, 47, 48, 49, 50]])"
      ]
     },
     "execution_count": 127,
     "metadata": {},
     "output_type": "execute_result"
    }
   ],
   "source": [
    "a[1, 3:]"
   ]
  },
  {
   "cell_type": "code",
   "execution_count": 128,
   "id": "3e571b31",
   "metadata": {},
   "outputs": [
    {
     "data": {
      "text/plain": [
       "array([[ 1,  2,  3,  4,  5],\n",
       "       [ 6,  7,  8,  9, 10],\n",
       "       [11, 12, 13, 14, 15],\n",
       "       [16, 17, 18, 19, 20],\n",
       "       [21, 22, 23, 24, 25]])"
      ]
     },
     "execution_count": 128,
     "metadata": {},
     "output_type": "execute_result"
    }
   ],
   "source": [
    "a[0]"
   ]
  },
  {
   "cell_type": "markdown",
   "id": "25c4b242",
   "metadata": {},
   "source": [
    "### Stacking of arrays\n",
    "hstack, vstack, concatenate"
   ]
  },
  {
   "cell_type": "code",
   "execution_count": 131,
   "id": "655c2730",
   "metadata": {},
   "outputs": [
    {
     "name": "stdout",
     "output_type": "stream",
     "text": [
      "[[1 2 3]\n",
      " [4 5 6]] \n",
      " [[0 1 2]\n",
      " [3 4 5]]\n"
     ]
    }
   ],
   "source": [
    "a = np.arange(1, 7).reshape(2,3)\n",
    "b = np.arange(0, 6).reshape(2,3)\n",
    "print(a, \"\\n\", b)"
   ]
  },
  {
   "cell_type": "code",
   "execution_count": 136,
   "id": "56f12b4a",
   "metadata": {},
   "outputs": [
    {
     "data": {
      "text/plain": [
       "array([[1, 2, 3, 0, 1, 2],\n",
       "       [4, 5, 6, 3, 4, 5]])"
      ]
     },
     "execution_count": 136,
     "metadata": {},
     "output_type": "execute_result"
    }
   ],
   "source": [
    "np.hstack([a,b])"
   ]
  },
  {
   "cell_type": "code",
   "execution_count": 137,
   "id": "5b9ed15e",
   "metadata": {},
   "outputs": [
    {
     "data": {
      "text/plain": [
       "array([[1, 2, 3],\n",
       "       [4, 5, 6],\n",
       "       [0, 1, 2],\n",
       "       [3, 4, 5]])"
      ]
     },
     "execution_count": 137,
     "metadata": {},
     "output_type": "execute_result"
    }
   ],
   "source": [
    "np.vstack([a,b])"
   ]
  },
  {
   "cell_type": "code",
   "execution_count": 141,
   "id": "f98334b4",
   "metadata": {},
   "outputs": [
    {
     "data": {
      "text/plain": [
       "array([[1, 2, 3, 0, 1, 2],\n",
       "       [4, 5, 6, 3, 4, 5]])"
      ]
     },
     "execution_count": 141,
     "metadata": {},
     "output_type": "execute_result"
    }
   ],
   "source": [
    "np.concatenate([a,b], axis=1)"
   ]
  },
  {
   "cell_type": "markdown",
   "id": "123a8f51",
   "metadata": {},
   "source": [
    "### Making copies\n",
    "- shallow copy\n",
    "- deep copy"
   ]
  },
  {
   "cell_type": "code",
   "execution_count": 142,
   "id": "e866aca9",
   "metadata": {},
   "outputs": [
    {
     "name": "stdout",
     "output_type": "stream",
     "text": [
      "[[1 2 3]\n",
      " [4 5 6]]\n"
     ]
    }
   ],
   "source": [
    "a = np.arange(1, 7).reshape(2,3)\n",
    "print(a)"
   ]
  },
  {
   "cell_type": "code",
   "execution_count": 143,
   "id": "73953711",
   "metadata": {},
   "outputs": [
    {
     "name": "stdout",
     "output_type": "stream",
     "text": [
      "[[2 2 2]\n",
      " [4 5 6]]\n"
     ]
    }
   ],
   "source": [
    "b = a # shallow copy\n",
    "b[0] = 2\n",
    "print(b)"
   ]
  },
  {
   "cell_type": "code",
   "execution_count": 144,
   "id": "51dd9056",
   "metadata": {},
   "outputs": [
    {
     "name": "stdout",
     "output_type": "stream",
     "text": [
      "[[2 2 2]\n",
      " [4 5 6]]\n"
     ]
    }
   ],
   "source": [
    "print(a)"
   ]
  },
  {
   "cell_type": "code",
   "execution_count": 146,
   "id": "0b5edd67",
   "metadata": {},
   "outputs": [],
   "source": [
    "b = a[1] # shallow copy"
   ]
  },
  {
   "cell_type": "code",
   "execution_count": 147,
   "id": "d2d1b3b4",
   "metadata": {},
   "outputs": [
    {
     "name": "stdout",
     "output_type": "stream",
     "text": [
      "[4 5 6]\n"
     ]
    }
   ],
   "source": [
    "print(b)"
   ]
  },
  {
   "cell_type": "code",
   "execution_count": 148,
   "id": "eef26b5d",
   "metadata": {},
   "outputs": [
    {
     "name": "stdout",
     "output_type": "stream",
     "text": [
      "[4 0 0]\n"
     ]
    }
   ],
   "source": [
    "b[1:] = 0\n",
    "print(b)"
   ]
  },
  {
   "cell_type": "code",
   "execution_count": 149,
   "id": "425c2858",
   "metadata": {},
   "outputs": [
    {
     "name": "stdout",
     "output_type": "stream",
     "text": [
      "[[2 2 2]\n",
      " [4 0 0]]\n"
     ]
    }
   ],
   "source": [
    "print(a)"
   ]
  },
  {
   "cell_type": "code",
   "execution_count": 150,
   "id": "3e620357",
   "metadata": {},
   "outputs": [],
   "source": [
    "b = a.copy() # deep copy"
   ]
  },
  {
   "cell_type": "code",
   "execution_count": 151,
   "id": "e28dfc7e",
   "metadata": {},
   "outputs": [
    {
     "name": "stdout",
     "output_type": "stream",
     "text": [
      "[[2 2 2]\n",
      " [4 0 0]]\n",
      "[[2 2 2]\n",
      " [4 0 0]]\n"
     ]
    }
   ],
   "source": [
    "print(a)\n",
    "print(b)"
   ]
  },
  {
   "cell_type": "code",
   "execution_count": 152,
   "id": "cb795be5",
   "metadata": {},
   "outputs": [
    {
     "name": "stdout",
     "output_type": "stream",
     "text": [
      "[[2 2 2]\n",
      " [3 3 3]]\n",
      "[[2 2 2]\n",
      " [4 0 0]]\n"
     ]
    }
   ],
   "source": [
    "b[1] = 3\n",
    "print(b)\n",
    "print(a)"
   ]
  },
  {
   "cell_type": "markdown",
   "id": "031a2424",
   "metadata": {},
   "source": [
    "### Array Indexing through integer and boolean arrays"
   ]
  },
  {
   "cell_type": "code",
   "execution_count": 157,
   "id": "9982b7d9",
   "metadata": {},
   "outputs": [],
   "source": [
    "a = np.arange(1, 101).reshape(20,-1)"
   ]
  },
  {
   "cell_type": "code",
   "execution_count": 159,
   "id": "3c21e50e",
   "metadata": {},
   "outputs": [
    {
     "name": "stdout",
     "output_type": "stream",
     "text": [
      "[[  1   2   3   4   5]\n",
      " [  6   7   8   9  10]\n",
      " [ 11  12  13  14  15]\n",
      " [ 16  17  18  19  20]\n",
      " [ 21  22  23  24  25]\n",
      " [ 26  27  28  29  30]\n",
      " [ 31  32  33  34  35]\n",
      " [ 36  37  38  39  40]\n",
      " [ 41  42  43  44  45]\n",
      " [ 46  47  48  49  50]\n",
      " [ 51  52  53  54  55]\n",
      " [ 56  57  58  59  60]\n",
      " [ 61  62  63  64  65]\n",
      " [ 66  67  68  69  70]\n",
      " [ 71  72  73  74  75]\n",
      " [ 76  77  78  79  80]\n",
      " [ 81  82  83  84  85]\n",
      " [ 86  87  88  89  90]\n",
      " [ 91  92  93  94  95]\n",
      " [ 96  97  98  99 100]]\n",
      "(20, 5)\n"
     ]
    }
   ],
   "source": [
    "print(a)\n",
    "print(a.shape)"
   ]
  },
  {
   "cell_type": "code",
   "execution_count": 160,
   "id": "0eb66188",
   "metadata": {},
   "outputs": [
    {
     "data": {
      "text/plain": [
       "array([[ 6,  7,  8,  9, 10],\n",
       "       [21, 22, 23, 24, 25],\n",
       "       [26, 27, 28, 29, 30],\n",
       "       [46, 47, 48, 49, 50]])"
      ]
     },
     "execution_count": 160,
     "metadata": {},
     "output_type": "execute_result"
    }
   ],
   "source": [
    "idx = [1, 4, 5, 9 ] # integer based indexing, subsampling, array subsetting\n",
    "a[idx]"
   ]
  },
  {
   "cell_type": "code",
   "execution_count": 166,
   "id": "e778d39c",
   "metadata": {},
   "outputs": [
    {
     "name": "stdout",
     "output_type": "stream",
     "text": [
      "[False False False False False False False False  True  True  True  True\n",
      "  True  True  True  True  True  True  True  True] \n",
      " (20,)\n"
     ]
    }
   ],
   "source": [
    "bool_idx = a[:,0] > 40\n",
    "print(bool_idx, \"\\n\", bool_idx.shape)"
   ]
  },
  {
   "cell_type": "code",
   "execution_count": 167,
   "id": "32d5d966",
   "metadata": {},
   "outputs": [
    {
     "data": {
      "text/plain": [
       "array([[ 41,  42,  43,  44,  45],\n",
       "       [ 46,  47,  48,  49,  50],\n",
       "       [ 51,  52,  53,  54,  55],\n",
       "       [ 56,  57,  58,  59,  60],\n",
       "       [ 61,  62,  63,  64,  65],\n",
       "       [ 66,  67,  68,  69,  70],\n",
       "       [ 71,  72,  73,  74,  75],\n",
       "       [ 76,  77,  78,  79,  80],\n",
       "       [ 81,  82,  83,  84,  85],\n",
       "       [ 86,  87,  88,  89,  90],\n",
       "       [ 91,  92,  93,  94,  95],\n",
       "       [ 96,  97,  98,  99, 100]])"
      ]
     },
     "execution_count": 167,
     "metadata": {},
     "output_type": "execute_result"
    }
   ],
   "source": [
    "a[bool_idx] # boolean array based subsetting"
   ]
  },
  {
   "cell_type": "markdown",
   "id": "ac11f4ba",
   "metadata": {},
   "source": [
    "### I want to subset column 2,3 of my data and only those samples/rows where col2 val > 60"
   ]
  },
  {
   "cell_type": "code",
   "execution_count": 168,
   "id": "b68da8bd",
   "metadata": {},
   "outputs": [
    {
     "name": "stdout",
     "output_type": "stream",
     "text": [
      "[False False False False False False False False False False False False\n",
      "  True  True  True  True  True  True  True  True]\n"
     ]
    }
   ],
   "source": [
    "bool_idx = a[:,2] >  60\n",
    "print(bool_idx)"
   ]
  },
  {
   "cell_type": "code",
   "execution_count": 169,
   "id": "d2699e63",
   "metadata": {},
   "outputs": [
    {
     "data": {
      "text/plain": [
       "array([[63, 64],\n",
       "       [68, 69],\n",
       "       [73, 74],\n",
       "       [78, 79],\n",
       "       [83, 84],\n",
       "       [88, 89],\n",
       "       [93, 94],\n",
       "       [98, 99]])"
      ]
     },
     "execution_count": 169,
     "metadata": {},
     "output_type": "execute_result"
    }
   ],
   "source": [
    "a[bool_idx, 2:4]"
   ]
  },
  {
   "cell_type": "markdown",
   "id": "c438177e",
   "metadata": {},
   "source": [
    "### Generate Data"
   ]
  },
  {
   "cell_type": "code",
   "execution_count": 172,
   "id": "04a43a68",
   "metadata": {},
   "outputs": [
    {
     "data": {
      "text/plain": [
       "array([5, 8, 3, 4, 1, 1, 9, 9])"
      ]
     },
     "execution_count": 172,
     "metadata": {},
     "output_type": "execute_result"
    }
   ],
   "source": [
    "np.random.randint(1, 10, 8)"
   ]
  },
  {
   "cell_type": "markdown",
   "id": "6fc7cfea",
   "metadata": {},
   "source": [
    "### Shuffle data\n",
    "\n"
   ]
  },
  {
   "cell_type": "code",
   "execution_count": 176,
   "id": "3ca62ca9",
   "metadata": {},
   "outputs": [
    {
     "name": "stdout",
     "output_type": "stream",
     "text": [
      "[ 0  1  2  3  4  5  6  7  8  9 10 11 12 13 14 15 16 17 18 19]\n",
      "[ 8 10 18  9 15  4  6  3  2 19  7 13 11  0 16  1 12 17  5 14]\n"
     ]
    }
   ],
   "source": [
    "idx = np.arange(0,20)\n",
    "print(idx)\n",
    "np.random.shuffle(idx)\n",
    "print(idx)"
   ]
  },
  {
   "cell_type": "code",
   "execution_count": 177,
   "id": "2faec86a",
   "metadata": {},
   "outputs": [
    {
     "name": "stdout",
     "output_type": "stream",
     "text": [
      "[[  1   2   3   4   5]\n",
      " [  6   7   8   9  10]\n",
      " [ 11  12  13  14  15]\n",
      " [ 16  17  18  19  20]\n",
      " [ 21  22  23  24  25]\n",
      " [ 26  27  28  29  30]\n",
      " [ 31  32  33  34  35]\n",
      " [ 36  37  38  39  40]\n",
      " [ 41  42  43  44  45]\n",
      " [ 46  47  48  49  50]\n",
      " [ 51  52  53  54  55]\n",
      " [ 56  57  58  59  60]\n",
      " [ 61  62  63  64  65]\n",
      " [ 66  67  68  69  70]\n",
      " [ 71  72  73  74  75]\n",
      " [ 76  77  78  79  80]\n",
      " [ 81  82  83  84  85]\n",
      " [ 86  87  88  89  90]\n",
      " [ 91  92  93  94  95]\n",
      " [ 96  97  98  99 100]]\n"
     ]
    }
   ],
   "source": [
    "print(a)"
   ]
  },
  {
   "cell_type": "code",
   "execution_count": 179,
   "id": "6094582b",
   "metadata": {},
   "outputs": [],
   "source": [
    "a = a[idx]"
   ]
  },
  {
   "cell_type": "code",
   "execution_count": 180,
   "id": "68046ca3",
   "metadata": {},
   "outputs": [
    {
     "data": {
      "text/plain": [
       "array([[ 41,  42,  43,  44,  45],\n",
       "       [ 51,  52,  53,  54,  55],\n",
       "       [ 91,  92,  93,  94,  95],\n",
       "       [ 46,  47,  48,  49,  50],\n",
       "       [ 76,  77,  78,  79,  80],\n",
       "       [ 21,  22,  23,  24,  25],\n",
       "       [ 31,  32,  33,  34,  35],\n",
       "       [ 16,  17,  18,  19,  20],\n",
       "       [ 11,  12,  13,  14,  15],\n",
       "       [ 96,  97,  98,  99, 100],\n",
       "       [ 36,  37,  38,  39,  40],\n",
       "       [ 66,  67,  68,  69,  70],\n",
       "       [ 56,  57,  58,  59,  60],\n",
       "       [  1,   2,   3,   4,   5],\n",
       "       [ 81,  82,  83,  84,  85],\n",
       "       [  6,   7,   8,   9,  10],\n",
       "       [ 61,  62,  63,  64,  65],\n",
       "       [ 86,  87,  88,  89,  90],\n",
       "       [ 26,  27,  28,  29,  30],\n",
       "       [ 71,  72,  73,  74,  75]])"
      ]
     },
     "execution_count": 180,
     "metadata": {},
     "output_type": "execute_result"
    }
   ],
   "source": [
    "a"
   ]
  }
 ],
 "metadata": {
  "kernelspec": {
   "display_name": "Python 3",
   "language": "python",
   "name": "python3"
  },
  "language_info": {
   "codemirror_mode": {
    "name": "ipython",
    "version": 3
   },
   "file_extension": ".py",
   "mimetype": "text/x-python",
   "name": "python",
   "nbconvert_exporter": "python",
   "pygments_lexer": "ipython3",
   "version": "3.9.4"
  }
 },
 "nbformat": 4,
 "nbformat_minor": 5
}
