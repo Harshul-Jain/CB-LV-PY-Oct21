{
 "cells": [
  {
   "cell_type": "markdown",
   "id": "fff807a2",
   "metadata": {},
   "source": [
    "## Day 11 \n",
    "16-Nov-2021 Tuesday\n",
    "\n",
    "## Classes\n",
    "- template/ blueprint of an object\n",
    "- Classes provide a means of bundling data and functionality together. \n",
    "- Creating a new class creates a new type of object, allowing new instances of that type to be made. \n",
    "\n",
    "## Instance/ Objects\n",
    "- Instantiation of a class results into an object.\n",
    "- Each class instance can have attributes (characteristics/ features) attached to it for maintaining its state. Class instances can also have methods (defined by its class) for modifying its state."
   ]
  },
  {
   "cell_type": "code",
   "execution_count": 2,
   "id": "df0c8456",
   "metadata": {},
   "outputs": [],
   "source": [
    "class Dog:\n",
    "    \n",
    "    # self is the reference of the object in the memory\n",
    "    def __init__(self, name, breed, color):\n",
    "        self.name = name\n",
    "        self.breed = breed\n",
    "        self.color = color\n",
    "        \n",
    "# create object of a class/ Instantiation\n",
    "d1 = Dog(\"Tyson\", \"Pitbul\", \"white\") # calling the name of the class -> calls the __init__ method"
   ]
  },
  {
   "cell_type": "code",
   "execution_count": 3,
   "id": "26d13592",
   "metadata": {},
   "outputs": [
    {
     "data": {
      "text/plain": [
       "__main__.Dog"
      ]
     },
     "execution_count": 3,
     "metadata": {},
     "output_type": "execute_result"
    }
   ],
   "source": [
    "type(d1)"
   ]
  },
  {
   "cell_type": "code",
   "execution_count": 5,
   "id": "362fa7d6",
   "metadata": {},
   "outputs": [
    {
     "name": "stdout",
     "output_type": "stream",
     "text": [
      "Tyson Pitbul white\n"
     ]
    }
   ],
   "source": [
    "print(d1.name, d1.breed, d1.color)"
   ]
  },
  {
   "cell_type": "markdown",
   "id": "0c57e0f9",
   "metadata": {},
   "source": [
    "## Dunders"
   ]
  },
  {
   "cell_type": "code",
   "execution_count": null,
   "id": "5b87f4b0",
   "metadata": {},
   "outputs": [],
   "source": []
  },
  {
   "cell_type": "code",
   "execution_count": null,
   "id": "1ae105bc",
   "metadata": {},
   "outputs": [],
   "source": []
  },
  {
   "cell_type": "code",
   "execution_count": null,
   "id": "77823c37",
   "metadata": {},
   "outputs": [],
   "source": []
  },
  {
   "cell_type": "code",
   "execution_count": null,
   "id": "8db268d0",
   "metadata": {},
   "outputs": [],
   "source": []
  }
 ],
 "metadata": {
  "kernelspec": {
   "display_name": "Python 3",
   "language": "python",
   "name": "python3"
  },
  "language_info": {
   "codemirror_mode": {
    "name": "ipython",
    "version": 3
   },
   "file_extension": ".py",
   "mimetype": "text/x-python",
   "name": "python",
   "nbconvert_exporter": "python",
   "pygments_lexer": "ipython3",
   "version": "3.9.4"
  }
 },
 "nbformat": 4,
 "nbformat_minor": 5
}
