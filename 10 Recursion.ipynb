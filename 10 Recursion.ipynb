{
 "cells": [
  {
   "cell_type": "markdown",
   "id": "858b0717",
   "metadata": {},
   "source": [
    "## Day 10 Recursion\n",
    "15-Nov-2021 Monday"
   ]
  },
  {
   "cell_type": "markdown",
   "id": "57d3b2d9",
   "metadata": {},
   "source": [
    "## Scope of a variable\n",
    "- A Python program is constructed from code blocks. A block is a piece of Python program text that is executed as a unit. The following are blocks: a module, a function body, and a class definition.  \n",
    "  \n",
    "- Names refer to objects. Names are introduced by name binding operations.\n",
    "  \n",
    "- A **scope** defines the visibility of a name within a block. If a local variable is defined in a block, its scope includes that block. If the definition occurs in a function block, the scope extends to any blocks contained within the defining one, unless a contained block introduces a different binding for the name.\n",
    "  \n",
    "- global, local, nonlocal\n",
    "\n",
    "- https://docs.python.org/3/reference/executionmodel.html"
   ]
  },
  {
   "cell_type": "code",
   "execution_count": 3,
   "id": "401c3770",
   "metadata": {},
   "outputs": [
    {
     "name": "stdout",
     "output_type": "stream",
     "text": [
      "10\n",
      "10\n"
     ]
    }
   ],
   "source": [
    "x = 10 # global\n",
    "def func():\n",
    "    print(x)\n",
    "    \n",
    "print(x)\n",
    "func()"
   ]
  },
  {
   "cell_type": "code",
   "execution_count": 6,
   "id": "bf281463",
   "metadata": {},
   "outputs": [
    {
     "name": "stdout",
     "output_type": "stream",
     "text": [
      "10\n",
      "inside func\n",
      "15\n",
      "16\n"
     ]
    },
    {
     "ename": "NameError",
     "evalue": "name 'y' is not defined",
     "output_type": "error",
     "traceback": [
      "\u001b[1;31m---------------------------------------------------------------------------\u001b[0m",
      "\u001b[1;31mNameError\u001b[0m                                 Traceback (most recent call last)",
      "\u001b[1;32m<ipython-input-6-8efd4b0936bc>\u001b[0m in \u001b[0;36m<module>\u001b[1;34m\u001b[0m\n\u001b[0;32m     10\u001b[0m \u001b[0mprint\u001b[0m\u001b[1;33m(\u001b[0m\u001b[0mx\u001b[0m\u001b[1;33m)\u001b[0m \u001b[1;31m# global\u001b[0m\u001b[1;33m\u001b[0m\u001b[1;33m\u001b[0m\u001b[0m\n\u001b[0;32m     11\u001b[0m \u001b[0mfunc\u001b[0m\u001b[1;33m(\u001b[0m\u001b[1;33m)\u001b[0m\u001b[1;33m\u001b[0m\u001b[1;33m\u001b[0m\u001b[0m\n\u001b[1;32m---> 12\u001b[1;33m \u001b[0mprint\u001b[0m\u001b[1;33m(\u001b[0m\u001b[0mx\u001b[0m\u001b[1;33m,\u001b[0m \u001b[0my\u001b[0m\u001b[1;33m)\u001b[0m \u001b[1;31m# error because there is no variable y in the global scope\u001b[0m\u001b[1;33m\u001b[0m\u001b[1;33m\u001b[0m\u001b[0m\n\u001b[0m",
      "\u001b[1;31mNameError\u001b[0m: name 'y' is not defined"
     ]
    }
   ],
   "source": [
    "x = 10\n",
    "\n",
    "def func():\n",
    "    print(\"inside func\")\n",
    "    x = 15 # created inside he fn, local scope\n",
    "    print(x)\n",
    "    y = 16 # local\n",
    "    print(y)\n",
    "    \n",
    "print(x) # global\n",
    "func() \n",
    "print(x, y) # error because there is no variable y in the global scope"
   ]
  },
  {
   "cell_type": "code",
   "execution_count": 7,
   "id": "4f539b98",
   "metadata": {},
   "outputs": [
    {
     "ename": "UnboundLocalError",
     "evalue": "local variable 'x' referenced before assignment",
     "output_type": "error",
     "traceback": [
      "\u001b[1;31m---------------------------------------------------------------------------\u001b[0m",
      "\u001b[1;31mUnboundLocalError\u001b[0m                         Traceback (most recent call last)",
      "\u001b[1;32m<ipython-input-7-985130643fdf>\u001b[0m in \u001b[0;36m<module>\u001b[1;34m\u001b[0m\n\u001b[0;32m      5\u001b[0m     \u001b[0mprint\u001b[0m\u001b[1;33m(\u001b[0m\u001b[0mx\u001b[0m\u001b[1;33m)\u001b[0m\u001b[1;33m\u001b[0m\u001b[1;33m\u001b[0m\u001b[0m\n\u001b[0;32m      6\u001b[0m \u001b[1;33m\u001b[0m\u001b[0m\n\u001b[1;32m----> 7\u001b[1;33m \u001b[0mfunc\u001b[0m\u001b[1;33m(\u001b[0m\u001b[1;33m)\u001b[0m\u001b[1;33m\u001b[0m\u001b[1;33m\u001b[0m\u001b[0m\n\u001b[0m",
      "\u001b[1;32m<ipython-input-7-985130643fdf>\u001b[0m in \u001b[0;36mfunc\u001b[1;34m()\u001b[0m\n\u001b[0;32m      2\u001b[0m \u001b[1;33m\u001b[0m\u001b[0m\n\u001b[0;32m      3\u001b[0m \u001b[1;32mdef\u001b[0m \u001b[0mfunc\u001b[0m\u001b[1;33m(\u001b[0m\u001b[1;33m)\u001b[0m\u001b[1;33m:\u001b[0m\u001b[1;33m\u001b[0m\u001b[1;33m\u001b[0m\u001b[0m\n\u001b[1;32m----> 4\u001b[1;33m     \u001b[0mx\u001b[0m \u001b[1;33m=\u001b[0m \u001b[0mx\u001b[0m\u001b[1;33m+\u001b[0m\u001b[1;36m1\u001b[0m\u001b[1;33m\u001b[0m\u001b[1;33m\u001b[0m\u001b[0m\n\u001b[0m\u001b[0;32m      5\u001b[0m     \u001b[0mprint\u001b[0m\u001b[1;33m(\u001b[0m\u001b[0mx\u001b[0m\u001b[1;33m)\u001b[0m\u001b[1;33m\u001b[0m\u001b[1;33m\u001b[0m\u001b[0m\n\u001b[0;32m      6\u001b[0m \u001b[1;33m\u001b[0m\u001b[0m\n",
      "\u001b[1;31mUnboundLocalError\u001b[0m: local variable 'x' referenced before assignment"
     ]
    }
   ],
   "source": [
    "x = 10 # global\n",
    "\n",
    "def func():\n",
    "    x = x+1 # gives error\n",
    "    print(x)\n",
    "    \n",
    "func()"
   ]
  },
  {
   "cell_type": "code",
   "execution_count": 8,
   "id": "cec094e3",
   "metadata": {},
   "outputs": [
    {
     "name": "stdout",
     "output_type": "stream",
     "text": [
      "20\n",
      "30\n",
      "32\n"
     ]
    }
   ],
   "source": [
    "## accessing global variable from inside the func\n",
    "\n",
    "x = 20 # global\n",
    "\n",
    "def func():\n",
    "    global x\n",
    "    x = 30 # updated global x to 30\n",
    "    print(x) # retrieve the global x\n",
    "    x = x+2 # incrementing global x by 2 \n",
    "    \n",
    "print(x) # global x\n",
    "func()\n",
    "print(x)"
   ]
  },
  {
   "cell_type": "code",
   "execution_count": 10,
   "id": "14ac273c",
   "metadata": {},
   "outputs": [
    {
     "name": "stdout",
     "output_type": "stream",
     "text": [
      "50\n",
      "52\n"
     ]
    }
   ],
   "source": [
    "x = 30\n",
    "\n",
    "def func():\n",
    "    global y\n",
    "    y = 50\n",
    "    print(y)\n",
    "    y += 2\n",
    "\n",
    "# print(y) # gives error: since no variable y found in the global scope \n",
    "func()\n",
    "print(y)"
   ]
  },
  {
   "cell_type": "code",
   "execution_count": 12,
   "id": "a704ae1e",
   "metadata": {},
   "outputs": [
    {
     "ename": "NameError",
     "evalue": "name 'z' is not defined",
     "output_type": "error",
     "traceback": [
      "\u001b[1;31m---------------------------------------------------------------------------\u001b[0m",
      "\u001b[1;31mNameError\u001b[0m                                 Traceback (most recent call last)",
      "\u001b[1;32m<ipython-input-12-8e5f8aacd065>\u001b[0m in \u001b[0;36m<module>\u001b[1;34m\u001b[0m\n\u001b[0;32m      3\u001b[0m     \u001b[0mprint\u001b[0m\u001b[1;33m(\u001b[0m\u001b[0mz\u001b[0m\u001b[1;33m)\u001b[0m\u001b[1;33m\u001b[0m\u001b[1;33m\u001b[0m\u001b[0m\n\u001b[0;32m      4\u001b[0m \u001b[1;33m\u001b[0m\u001b[0m\n\u001b[1;32m----> 5\u001b[1;33m \u001b[0mfunc\u001b[0m\u001b[1;33m(\u001b[0m\u001b[1;33m)\u001b[0m\u001b[1;33m\u001b[0m\u001b[1;33m\u001b[0m\u001b[0m\n\u001b[0m",
      "\u001b[1;32m<ipython-input-12-8e5f8aacd065>\u001b[0m in \u001b[0;36mfunc\u001b[1;34m()\u001b[0m\n\u001b[0;32m      1\u001b[0m \u001b[1;32mdef\u001b[0m \u001b[0mfunc\u001b[0m\u001b[1;33m(\u001b[0m\u001b[1;33m)\u001b[0m\u001b[1;33m:\u001b[0m\u001b[1;33m\u001b[0m\u001b[1;33m\u001b[0m\u001b[0m\n\u001b[0;32m      2\u001b[0m     \u001b[1;32mglobal\u001b[0m \u001b[0mz\u001b[0m\u001b[1;33m\u001b[0m\u001b[1;33m\u001b[0m\u001b[0m\n\u001b[1;32m----> 3\u001b[1;33m     \u001b[0mprint\u001b[0m\u001b[1;33m(\u001b[0m\u001b[0mz\u001b[0m\u001b[1;33m)\u001b[0m\u001b[1;33m\u001b[0m\u001b[1;33m\u001b[0m\u001b[0m\n\u001b[0m\u001b[0;32m      4\u001b[0m \u001b[1;33m\u001b[0m\u001b[0m\n\u001b[0;32m      5\u001b[0m \u001b[0mfunc\u001b[0m\u001b[1;33m(\u001b[0m\u001b[1;33m)\u001b[0m\u001b[1;33m\u001b[0m\u001b[1;33m\u001b[0m\u001b[0m\n",
      "\u001b[1;31mNameError\u001b[0m: name 'z' is not defined"
     ]
    }
   ],
   "source": [
    "def func():\n",
    "    global z\n",
    "    print(z) # gives nameError because we didn't assign any value to z \n",
    "    \n",
    "func()"
   ]
  },
  {
   "cell_type": "code",
   "execution_count": 14,
   "id": "b6084eec",
   "metadata": {},
   "outputs": [
    {
     "name": "stdout",
     "output_type": "stream",
     "text": [
      "10\n"
     ]
    }
   ],
   "source": [
    "x = 10\n",
    "\n",
    "def outerfunc():\n",
    "    x = 30\n",
    "    def innerfunc():\n",
    "        print(x)\n",
    "    \n",
    "    innerfunc()\n",
    "\n",
    "outerfunc()"
   ]
  },
  {
   "cell_type": "code",
   "execution_count": 20,
   "id": "43a51158",
   "metadata": {},
   "outputs": [
    {
     "name": "stdout",
     "output_type": "stream",
     "text": [
      "20\n",
      "20\n"
     ]
    },
    {
     "ename": "NameError",
     "evalue": "name 'func2' is not defined",
     "output_type": "error",
     "traceback": [
      "\u001b[1;31m---------------------------------------------------------------------------\u001b[0m",
      "\u001b[1;31mNameError\u001b[0m                                 Traceback (most recent call last)",
      "\u001b[1;32m<ipython-input-20-75d76eb727da>\u001b[0m in \u001b[0;36m<module>\u001b[1;34m\u001b[0m\n\u001b[0;32m     13\u001b[0m \u001b[1;33m\u001b[0m\u001b[0m\n\u001b[0;32m     14\u001b[0m \u001b[0mfunc1\u001b[0m\u001b[1;33m(\u001b[0m\u001b[1;33m)\u001b[0m\u001b[1;33m\u001b[0m\u001b[1;33m\u001b[0m\u001b[0m\n\u001b[1;32m---> 15\u001b[1;33m \u001b[0mfunc2\u001b[0m\u001b[1;33m(\u001b[0m\u001b[1;33m)\u001b[0m\u001b[1;33m\u001b[0m\u001b[1;33m\u001b[0m\u001b[0m\n\u001b[0m",
      "\u001b[1;31mNameError\u001b[0m: name 'func2' is not defined"
     ]
    }
   ],
   "source": [
    "x = 40 # global\n",
    "def func1():\n",
    "    x = 10 # local to func1 \n",
    "    def func2(): # local to func1\n",
    "        x = 20 # local to func2\n",
    "        def func3(): # local to func2\n",
    "            print(x) # x is searched first in local scope of func3 -> func2 -> func1 -> global\n",
    "            \n",
    "        print(x) # python searches for x in the local scope of func2\n",
    "        func3() \n",
    "    \n",
    "    func2()\n",
    "\n",
    "func1()\n",
    "func2() # gives error because there is no func2 in global scope"
   ]
  },
  {
   "cell_type": "code",
   "execution_count": 22,
   "id": "8895259f",
   "metadata": {},
   "outputs": [
    {
     "name": "stdout",
     "output_type": "stream",
     "text": [
      "inside outer func: 30\n",
      "insdie innerfunc 40\n",
      "inside outerfunc 45\n"
     ]
    }
   ],
   "source": [
    "def outerfunc():\n",
    "    x = 30\n",
    "    # enclosing scope for inccerfunc\n",
    "    def innerfunc():\n",
    "        nonlocal x\n",
    "        x = 40\n",
    "        print(\"insdie innerfunc\", x)\n",
    "        x += 5\n",
    "    \n",
    "    print(\"inside outer func:\", x)\n",
    "    innerfunc()\n",
    "    print(\"inside outerfunc\", x)\n",
    "\n",
    "outerfunc()\n",
    "# output at line 9, 10, 11?"
   ]
  },
  {
   "cell_type": "code",
   "execution_count": 23,
   "id": "4913d856",
   "metadata": {},
   "outputs": [
    {
     "ename": "SyntaxError",
     "evalue": "name 'x' is used prior to global declaration (<ipython-input-23-171335dd2930>, line 5)",
     "output_type": "error",
     "traceback": [
      "\u001b[1;36m  File \u001b[1;32m\"<ipython-input-23-171335dd2930>\"\u001b[1;36m, line \u001b[1;32m5\u001b[0m\n\u001b[1;33m    global x\u001b[0m\n\u001b[1;37m    ^\u001b[0m\n\u001b[1;31mSyntaxError\u001b[0m\u001b[1;31m:\u001b[0m name 'x' is used prior to global declaration\n"
     ]
    }
   ],
   "source": [
    "x = 40\n",
    "def func():\n",
    "    x = 20\n",
    "    print(x)\n",
    "    global x\n",
    "    print(x)"
   ]
  },
  {
   "cell_type": "markdown",
   "id": "25c1774b",
   "metadata": {},
   "source": [
    "## Recursion\n",
    "- A function calling itself\n",
    "- When solution to a bigger problem depends on a smaller problem of same kind"
   ]
  },
  {
   "cell_type": "markdown",
   "id": "e54493d1",
   "metadata": {},
   "source": [
    "### 1. Factorial of n"
   ]
  },
  {
   "cell_type": "code",
   "execution_count": 27,
   "id": "7a6d1f37",
   "metadata": {},
   "outputs": [
    {
     "data": {
      "text/plain": [
       "1"
      ]
     },
     "execution_count": 27,
     "metadata": {},
     "output_type": "execute_result"
    }
   ],
   "source": [
    "def factorial(n):\n",
    "    # base case\n",
    "    if n==0:\n",
    "        return 1\n",
    "    \n",
    "    return n*factorial(n-1)\n",
    "\n",
    "factorial(1)"
   ]
  },
  {
   "cell_type": "code",
   "execution_count": 30,
   "id": "4cdf33f9",
   "metadata": {},
   "outputs": [
    {
     "name": "stdout",
     "output_type": "stream",
     "text": [
      "n: 0, fact(0): 1\n",
      "n: 1, fact(1): 1\n",
      "n: 2, fact(2): 2\n",
      "n: 3, fact(3): 6\n",
      "n: 4, fact(4): 24\n",
      "n: 5, fact(5): 120\n",
      "n: 6, fact(6): 720\n"
     ]
    },
    {
     "data": {
      "text/plain": [
       "720"
      ]
     },
     "execution_count": 30,
     "metadata": {},
     "output_type": "execute_result"
    }
   ],
   "source": [
    "def factorial(n):\n",
    "    # base case\n",
    "    if n==0:\n",
    "        print(f\"n: {n}, fact({n}): {1}\")\n",
    "        return 1\n",
    "    ans = n*factorial(n-1)\n",
    "    print(f\"n: {n}, fact({n}): {ans}\")\n",
    "    return ans \n",
    "\n",
    "factorial(6)"
   ]
  },
  {
   "cell_type": "markdown",
   "id": "ceb6b581",
   "metadata": {},
   "source": [
    "### 2. Nth fibonacci "
   ]
  },
  {
   "cell_type": "code",
   "execution_count": 5,
   "id": "a26ca058",
   "metadata": {},
   "outputs": [
    {
     "data": {
      "text/plain": [
       "1"
      ]
     },
     "execution_count": 5,
     "metadata": {},
     "output_type": "execute_result"
    }
   ],
   "source": [
    "def fib(n):\n",
    "    # base case\n",
    "    if n==1 or n==2:\n",
    "        return n-1\n",
    "    \n",
    "    # recurrence relation\n",
    "    return fib(n-1)+fib(n-2)\n",
    "\n",
    "fib(2)"
   ]
  },
  {
   "cell_type": "code",
   "execution_count": 8,
   "id": "68f2918c",
   "metadata": {},
   "outputs": [
    {
     "name": "stdout",
     "output_type": "stream",
     "text": [
      "fib(6)\n",
      "fib(5)\n",
      "fib(4)\n",
      "fib(3)\n",
      "fib(2)\n",
      "Base case: fib(2) = 1\n",
      "fib(1)\n",
      "Base case: fib(1) = 0\n",
      "fib(2)\n",
      "Base case: fib(2) = 1\n",
      "fib(3)\n",
      "fib(2)\n",
      "Base case: fib(2) = 1\n",
      "fib(1)\n",
      "Base case: fib(1) = 0\n",
      "fib(4)\n",
      "fib(3)\n",
      "fib(2)\n",
      "Base case: fib(2) = 1\n",
      "fib(1)\n",
      "Base case: fib(1) = 0\n",
      "fib(2)\n",
      "Base case: fib(2) = 1\n"
     ]
    },
    {
     "data": {
      "text/plain": [
       "5"
      ]
     },
     "execution_count": 8,
     "metadata": {},
     "output_type": "execute_result"
    }
   ],
   "source": [
    "def fib(n):\n",
    "    print(f\"fib({n})\")\n",
    "    # base case\n",
    "    if n==1 or n==2:\n",
    "        print(f\"Base case: fib({n}) = {n-1}\")\n",
    "        return n-1\n",
    "    \n",
    "    fib1 = fib(n-1)\n",
    "    fib2 = fib(n-2)\n",
    "    return fib1 + fib2\n",
    "\n",
    "fib(6)"
   ]
  },
  {
   "cell_type": "markdown",
   "id": "8997387d",
   "metadata": {},
   "source": [
    "### 3. Exponentiation: $a^{b}$"
   ]
  },
  {
   "cell_type": "code",
   "execution_count": 13,
   "id": "d4b1d43e",
   "metadata": {},
   "outputs": [
    {
     "data": {
      "text/plain": [
       "16"
      ]
     },
     "execution_count": 13,
     "metadata": {},
     "output_type": "execute_result"
    }
   ],
   "source": [
    "def power(base, exp):\n",
    "    # base case\n",
    "    if exp == 0:\n",
    "        return 1\n",
    "    # recurrence relation\n",
    "    return base*power(base, exp-1)\n",
    "\n",
    "power(2, 4)"
   ]
  },
  {
   "cell_type": "markdown",
   "id": "2027d1e5",
   "metadata": {},
   "source": [
    "### 4. Sum of an array "
   ]
  },
  {
   "cell_type": "code",
   "execution_count": 15,
   "id": "69104963",
   "metadata": {},
   "outputs": [
    {
     "data": {
      "text/plain": [
       "22"
      ]
     },
     "execution_count": 15,
     "metadata": {},
     "output_type": "execute_result"
    }
   ],
   "source": [
    "# givenL Array has atleast 1 element\n",
    "def array_sum(A, n): # n is index\n",
    "    if n==0:\n",
    "        return A[n]\n",
    "    \n",
    "    # reccurence relation\n",
    "    return A[n] + array_sum(A, n-1)\n",
    "\n",
    "A = [1, 5, 4, 3, 5, 4]\n",
    "array_sum(A, len(A)-1)"
   ]
  },
  {
   "cell_type": "code",
   "execution_count": 23,
   "id": "0211f8fb",
   "metadata": {},
   "outputs": [
    {
     "name": "stdout",
     "output_type": "stream",
     "text": [
      "called array_sum(A,5)\n",
      "called array_sum(A,4)\n",
      "called array_sum(A,3)\n",
      "called array_sum(A,2)\n",
      "called array_sum(A,1)\n",
      "called array_sum(A,0)\n",
      "n: 0, A[0]: 1, sum(A,0)=1\n",
      "n: 1, sum(A,1) = A[1]+sum(A,0) = 5+1 = 6\n",
      "n: 2, sum(A,2) = A[2]+sum(A,1) = 4+6 = 10\n",
      "n: 3, sum(A,3) = A[3]+sum(A,2) = 3+10 = 13\n",
      "n: 4, sum(A,4) = A[4]+sum(A,3) = 5+13 = 18\n",
      "n: 5, sum(A,5) = A[5]+sum(A,4) = 4+18 = 22\n"
     ]
    },
    {
     "data": {
      "text/plain": [
       "22"
      ]
     },
     "execution_count": 23,
     "metadata": {},
     "output_type": "execute_result"
    }
   ],
   "source": [
    "def array_sum(A, n): # n is index\n",
    "    print(f\"called array_sum(A,{n})\")\n",
    "    if n==0:\n",
    "        print(f\"n: {n}, A[{n}]: {A[n]}, sum(A,{n})={A[n]}\")\n",
    "        return A[n]\n",
    "    \n",
    "    smallans = array_sum(A, n-1)\n",
    "    ans = A[n] + smallans\n",
    "    print(f\"n: {n}, sum(A,{n}) = A[{n}]+sum(A,{n-1}) = {A[n]}+{smallans} = {ans}\")\n",
    "    return ans\n",
    "\n",
    "A = [1, 5, 4, 3, 5, 4]\n",
    "array_sum(A, len(A)-1)"
   ]
  },
  {
   "cell_type": "markdown",
   "id": "5d08e474",
   "metadata": {},
   "source": [
    "### 5. Find a given element in an array  "
   ]
  },
  {
   "cell_type": "code",
   "execution_count": null,
   "id": "29ded92b",
   "metadata": {},
   "outputs": [],
   "source": []
  },
  {
   "cell_type": "code",
   "execution_count": null,
   "id": "dd6c4d11",
   "metadata": {},
   "outputs": [],
   "source": []
  },
  {
   "cell_type": "markdown",
   "id": "4623b7b5",
   "metadata": {},
   "source": [
    "### 6. Find a given element in a sorted array"
   ]
  },
  {
   "cell_type": "code",
   "execution_count": null,
   "id": "a8272ccf",
   "metadata": {},
   "outputs": [],
   "source": []
  },
  {
   "cell_type": "code",
   "execution_count": null,
   "id": "8c4f7202",
   "metadata": {},
   "outputs": [],
   "source": []
  },
  {
   "cell_type": "markdown",
   "id": "c61dc7a7",
   "metadata": {},
   "source": [
    "### 7. Check if array is sorted "
   ]
  },
  {
   "cell_type": "code",
   "execution_count": null,
   "id": "83079ea4",
   "metadata": {},
   "outputs": [],
   "source": []
  },
  {
   "cell_type": "markdown",
   "id": "29fed546",
   "metadata": {},
   "source": [
    "### 8. Find the index of an element\n",
    "1. first index  \n",
    "2. last index\n",
    "3. all indices"
   ]
  },
  {
   "cell_type": "code",
   "execution_count": null,
   "id": "7fd4bf9d",
   "metadata": {},
   "outputs": [],
   "source": []
  }
 ],
 "metadata": {
  "kernelspec": {
   "display_name": "Python 3",
   "language": "python",
   "name": "python3"
  },
  "language_info": {
   "codemirror_mode": {
    "name": "ipython",
    "version": 3
   },
   "file_extension": ".py",
   "mimetype": "text/x-python",
   "name": "python",
   "nbconvert_exporter": "python",
   "pygments_lexer": "ipython3",
   "version": "3.9.4"
  }
 },
 "nbformat": 4,
 "nbformat_minor": 5
}
