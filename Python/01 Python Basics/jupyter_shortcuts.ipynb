{
 "cells": [
  {
   "cell_type": "code",
   "execution_count": null,
   "metadata": {},
   "outputs": [],
   "source": []
  },
  {
   "cell_type": "markdown",
   "metadata": {},
   "source": [
    "## Keyboard Shortcuts\n",
    "- insert new cell above: esc + a\n",
    "- insert new cell below: esc + b\n",
    "- delete a cell : esc + dd\n",
    "- convert into markdown cell: esc + m\n",
    "- convert markdown into code cell : esc + y\n",
    "- run a cell - shift+enter / ctrl+enter"
   ]
  },
  {
   "cell_type": "code",
   "execution_count": 12,
   "metadata": {},
   "outputs": [
    {
     "name": "stdout",
     "output_type": "stream",
     "text": [
      "hello world\n"
     ]
    }
   ],
   "source": [
    "print(\"hello world\")"
   ]
  },
  {
   "cell_type": "code",
   "execution_count": null,
   "metadata": {},
   "outputs": [],
   "source": [
    "## Algorithm"
   ]
  },
  {
   "cell_type": "markdown",
   "metadata": {},
   "source": [
    "### Heading 3\n",
    "#### Heading 4\n",
    "###### Heading 6\n",
    "\n",
    "**Text in bold**\n",
    "\n",
    "__text in bold__\n",
    "\n",
    "_text in italics_\n",
    "\n",
    "## Numbered List\n",
    "1. A\n",
    "2. B\n",
    "3. C\n",
    "\n",
    "## Bulleted List\n",
    "- A\n",
    "- B\n",
    "- C\n",
    "\n",
    "**To break a line use double spaces, or break tag <br>**\n",
    "Normal text line 1  \n",
    "line number 2\n",
    "<br>\n",
    "line number 3"
   ]
  },
  {
   "cell_type": "code",
   "execution_count": null,
   "metadata": {},
   "outputs": [],
   "source": []
  }
 ],
 "metadata": {
  "kernelspec": {
   "display_name": "Python 3",
   "language": "python",
   "name": "python3"
  },
  "language_info": {
   "codemirror_mode": {
    "name": "ipython",
    "version": 3
   },
   "file_extension": ".py",
   "mimetype": "text/x-python",
   "name": "python",
   "nbconvert_exporter": "python",
   "pygments_lexer": "ipython3",
   "version": "3.7.3"
  }
 },
 "nbformat": 4,
 "nbformat_minor": 5
}
