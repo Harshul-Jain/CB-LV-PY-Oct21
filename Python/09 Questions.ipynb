{
 "cells": [
  {
   "cell_type": "markdown",
   "source": [
    "## Day 09 Questions\n",
    "12/Nov/2021 Friday\n",
    "## Bit Manipulation"
   ],
   "metadata": {}
  },
  {
   "cell_type": "markdown",
   "source": [
    "### 0. Check if a number is odd or even"
   ],
   "metadata": {}
  },
  {
   "cell_type": "code",
   "execution_count": 1,
   "source": [
    "def check_even(n):\r\n",
    "    if n&1>0:\r\n",
    "        return False\r\n",
    "    else:\r\n",
    "        return True"
   ],
   "outputs": [],
   "metadata": {}
  },
  {
   "cell_type": "code",
   "execution_count": 5,
   "source": [
    "check_even(34)"
   ],
   "outputs": [
    {
     "output_type": "execute_result",
     "data": {
      "text/plain": [
       "True"
      ]
     },
     "metadata": {},
     "execution_count": 5
    }
   ],
   "metadata": {}
  },
  {
   "cell_type": "markdown",
   "source": [
    "### 1. Check if ith bit of a number is set or not"
   ],
   "metadata": {}
  },
  {
   "cell_type": "code",
   "execution_count": null,
   "source": [
    "def check_ith_bit(n, i):\r\n",
    "    pass"
   ],
   "outputs": [],
   "metadata": {}
  },
  {
   "cell_type": "markdown",
   "source": [
    "### 2. Count total set bits of a number\n",
    "Constraint: 0<num<10^9"
   ],
   "metadata": {}
  },
  {
   "cell_type": "code",
   "execution_count": 110,
   "source": [
    "def count_set_bits(n):\r\n",
    "    count = 0\r\n",
    "    for i in range(0,31):\r\n",
    "        if (n>>i)&1 == 1:\r\n",
    "            count += 1\r\n",
    "    return count\r\n",
    "\r\n",
    "count_set_bits(20)\r\n",
    "# TC: O(1): looping 31 times\r\n",
    "# SC: O(1)"
   ],
   "outputs": [
    {
     "output_type": "execute_result",
     "data": {
      "text/plain": [
       "2"
      ]
     },
     "metadata": {},
     "execution_count": 110
    }
   ],
   "metadata": {}
  },
  {
   "cell_type": "code",
   "execution_count": 111,
   "source": [
    "def count_set_bits2(n):\r\n",
    "    count = 0\r\n",
    "    while n>0:\r\n",
    "        count += 1\r\n",
    "        n = n&(n-1)\r\n",
    "    return count\r\n",
    "\r\n",
    "for x in [13, 15, 72, 8]:\r\n",
    "    print(f\"x: {x}, count of set bits: {count_set_bits2(x)}\")\r\n",
    "\r\n",
    "# TC: O(1): the number of set bits in n\r\n",
    "# SC: O(1)"
   ],
   "outputs": [
    {
     "output_type": "stream",
     "name": "stdout",
     "text": [
      "x: 13, count of set bits: 3\n",
      "x: 15, count of set bits: 4\n",
      "x: 72, count of set bits: 2\n",
      "x: 8, count of set bits: 1\n"
     ]
    }
   ],
   "metadata": {}
  },
  {
   "cell_type": "markdown",
   "source": [
    "### 3. Unique Element I\n",
    "Given an array of positive integers. Given all elements occur twice except one. Find the unique element  \n",
    "Input: [1, 5, 3, 8, 5, 8, 1]  \n",
    "Output: 3"
   ],
   "metadata": {}
  },
  {
   "cell_type": "code",
   "execution_count": null,
   "source": [],
   "outputs": [],
   "metadata": {}
  },
  {
   "cell_type": "markdown",
   "source": [
    "### 4. Given a and b, find x such that a^x = b\n",
    "Example 1:  \n",
    "Input: a = 5, b = 10  \n",
    "Output: 15\n"
   ],
   "metadata": {}
  },
  {
   "cell_type": "code",
   "execution_count": 112,
   "source": [
    "def solve(a,b):\r\n",
    "    return a^b\r\n",
    "\r\n",
    "solve(10, 5)"
   ],
   "outputs": [
    {
     "output_type": "execute_result",
     "data": {
      "text/plain": [
       "15"
      ]
     },
     "metadata": {},
     "execution_count": 112
    }
   ],
   "metadata": {}
  },
  {
   "cell_type": "markdown",
   "source": [
    "### 5. Unique element II\n",
    "Given an array of n elements. Every element is repeated thrice except one element. Find that element.  \n",
    "Input: [1, 3, 1, 8, 1, 8]  \n",
    "Output: 3\n"
   ],
   "metadata": {}
  },
  {
   "cell_type": "code",
   "execution_count": null,
   "source": [
    "## Homework"
   ],
   "outputs": [],
   "metadata": {}
  },
  {
   "cell_type": "code",
   "execution_count": null,
   "source": [],
   "outputs": [],
   "metadata": {}
  },
  {
   "cell_type": "markdown",
   "source": [
    "### 6. Given a list of integers. Find $A_{i}, A_{j}$ such that $A_{i}{\\oplus} A_{j}=k$.\n",
    "Example:\n",
    "Input:  \n",
    "A = [3, 5, 8, 1, 11]  \n",
    "k = 11  \n",
    "Output: [3,8]"
   ],
   "metadata": {}
  },
  {
   "cell_type": "markdown",
   "source": [
    "Homework:   \n",
    "Approach 1: Brute force  \n",
    "    Find all pairs and compute xor, TC: O(N^2), SC: O(1)  \n",
    "Approach 2: Use a hashset  \n",
    "    1. Insert all elements in hashset  \n",
    "    2. Iterate on array, search for Ai^k in the hashset  \n",
    "    TC: O(n), SC: O(n)"
   ],
   "metadata": {}
  },
  {
   "cell_type": "code",
   "execution_count": null,
   "source": [],
   "outputs": [],
   "metadata": {}
  },
  {
   "cell_type": "markdown",
   "source": [
    "### 7. Unique Elements III\n",
    "Given an array of numbers, where every number is repeated twice except two numbers which occur only once. Find those two elements.  \n",
    "Example:  \n",
    "Input: [1, 5, 1, 5, 3, 2, 7, 2]  \n",
    "Output: [3, 7]\n",
    "  \n",
    "Note: Output array should be sorted.\n",
    "\n"
   ],
   "metadata": {}
  },
  {
   "cell_type": "code",
   "execution_count": null,
   "source": [
    "## Code on your own"
   ],
   "outputs": [],
   "metadata": {}
  },
  {
   "cell_type": "code",
   "execution_count": null,
   "source": [],
   "outputs": [],
   "metadata": {}
  },
  {
   "cell_type": "markdown",
   "source": [
    "## Generators\n",
    "- Generators are a special class of functions that simplify the task of writing iterators.   \n",
    "- Regular functions compute a value and return it, but generators return an iterator that returns a stream of values.  \n",
    "- Use them when you don't want to create an in-memory list and exhaust all the input iterators before returning; instead values are constructed and returned only if they’re requested. This behaviour is known as _**lazy-evaluation**_ or call-by-need strategy. \n",
    "  \n",
    "**Read more on Iterators, Generators, Comprehensions below**  \n",
    "-    https://docs.python.org/3/howto/functional.html"
   ],
   "metadata": {}
  },
  {
   "cell_type": "markdown",
   "source": [
    "### 8. Generate n fibonacci numbers"
   ],
   "metadata": {}
  },
  {
   "cell_type": "code",
   "execution_count": 113,
   "source": [
    "def fibonacci(n):\r\n",
    "    a = 0\r\n",
    "    b = 1\r\n",
    "    for i in range(n+1):\r\n",
    "        yield a\r\n",
    "        a, b = b, a+b\r\n"
   ],
   "outputs": [],
   "metadata": {}
  },
  {
   "cell_type": "code",
   "execution_count": 114,
   "source": [
    "for i in fibonacci(10):\r\n",
    "    print(i, end=\" \")"
   ],
   "outputs": [
    {
     "output_type": "stream",
     "name": "stdout",
     "text": [
      "0 1 1 2 3 5 8 13 21 34 55 "
     ]
    }
   ],
   "metadata": {}
  },
  {
   "cell_type": "code",
   "execution_count": 115,
   "source": [
    "itr = fibonacci(5)"
   ],
   "outputs": [],
   "metadata": {}
  },
  {
   "cell_type": "code",
   "execution_count": 122,
   "source": [
    "next(itr)"
   ],
   "outputs": [
    {
     "output_type": "error",
     "ename": "StopIteration",
     "evalue": "",
     "traceback": [
      "\u001b[1;31m---------------------------------------------------------------------------\u001b[0m",
      "\u001b[1;31mStopIteration\u001b[0m                             Traceback (most recent call last)",
      "\u001b[1;32m<ipython-input-122-6693cc261707>\u001b[0m in \u001b[0;36m<module>\u001b[1;34m\u001b[0m\n\u001b[1;32m----> 1\u001b[1;33m \u001b[0mnext\u001b[0m\u001b[1;33m(\u001b[0m\u001b[0mitr\u001b[0m\u001b[1;33m)\u001b[0m\u001b[1;33m\u001b[0m\u001b[1;33m\u001b[0m\u001b[0m\n\u001b[0m",
      "\u001b[1;31mStopIteration\u001b[0m: "
     ]
    }
   ],
   "metadata": {}
  },
  {
   "cell_type": "markdown",
   "source": [
    "### 9. Generate square of all even numbers upto n\n",
    "use generator expressions"
   ],
   "metadata": {}
  },
  {
   "cell_type": "code",
   "execution_count": 125,
   "source": [
    "def square(n):\r\n",
    "    for i in range(1,n):\r\n",
    "        if i&1==0:\r\n",
    "            yield i, i**2"
   ],
   "outputs": [],
   "metadata": {}
  },
  {
   "cell_type": "code",
   "execution_count": 126,
   "source": [
    "for i in square(5):\r\n",
    "    print(i)"
   ],
   "outputs": [
    {
     "output_type": "stream",
     "name": "stdout",
     "text": [
      "(2, 4)\n",
      "(4, 16)\n"
     ]
    }
   ],
   "metadata": {}
  },
  {
   "cell_type": "code",
   "execution_count": 128,
   "source": [
    "## list comprehension: [(2,4), (2,16)]\r\n",
    "n = 5\r\n",
    "squared_list = [(i,i**2) for i in range(1,n) if i&1==0]\r\n",
    "print(squared_list)"
   ],
   "outputs": [
    {
     "output_type": "stream",
     "name": "stdout",
     "text": [
      "[(2, 4), (4, 16)]\n"
     ]
    }
   ],
   "metadata": {}
  },
  {
   "cell_type": "code",
   "execution_count": 129,
   "source": [
    "## Generator expression -> it returns a iterator\r\n",
    "sqr = ((i,i**2) for i in range(1,n) if i&1==0)"
   ],
   "outputs": [],
   "metadata": {}
  },
  {
   "cell_type": "code",
   "execution_count": 130,
   "source": [
    "sqr"
   ],
   "outputs": [
    {
     "output_type": "execute_result",
     "data": {
      "text/plain": [
       "<generator object <genexpr> at 0x000001EABFC4F2E0>"
      ]
     },
     "metadata": {},
     "execution_count": 130
    }
   ],
   "metadata": {}
  },
  {
   "cell_type": "code",
   "execution_count": 131,
   "source": [
    "for i in sqr:\r\n",
    "    print(i)"
   ],
   "outputs": [
    {
     "output_type": "stream",
     "name": "stdout",
     "text": [
      "(2, 4)\n",
      "(4, 16)\n"
     ]
    }
   ],
   "metadata": {}
  },
  {
   "cell_type": "code",
   "execution_count": 132,
   "source": [
    "sqr == iter(sqr) # generators are iterators only"
   ],
   "outputs": [
    {
     "output_type": "execute_result",
     "data": {
      "text/plain": [
       "True"
      ]
     },
     "metadata": {},
     "execution_count": 132
    }
   ],
   "metadata": {}
  },
  {
   "cell_type": "code",
   "execution_count": null,
   "source": [],
   "outputs": [],
   "metadata": {}
  }
 ],
 "metadata": {
  "kernelspec": {
   "name": "python3",
   "display_name": "Python 3.9.4 64-bit"
  },
  "language_info": {
   "codemirror_mode": {
    "name": "ipython",
    "version": 3
   },
   "file_extension": ".py",
   "mimetype": "text/x-python",
   "name": "python",
   "nbconvert_exporter": "python",
   "pygments_lexer": "ipython3",
   "version": "3.9.4"
  },
  "interpreter": {
   "hash": "d62006d1f3422635846181a997a61e8ec3049f797e5d7dfe0cd1bb84092b7c19"
  }
 },
 "nbformat": 4,
 "nbformat_minor": 5
}