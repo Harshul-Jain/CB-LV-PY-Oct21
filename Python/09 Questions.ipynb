{
 "cells": [
  {
   "cell_type": "markdown",
   "metadata": {},
   "source": [
    "## Day 09 Questions\n",
    "12/Nov/2021 Friday\n",
    "## Bit Manipulation"
   ]
  },
  {
   "cell_type": "markdown",
   "metadata": {},
   "source": [
    "### 0. Check if a number is odd or even"
   ]
  },
  {
   "cell_type": "code",
   "execution_count": 1,
   "metadata": {},
   "outputs": [],
   "source": [
    "def check_even(n):\n",
    "    if n&1>0:\n",
    "        return False\n",
    "    else:\n",
    "        return True"
   ]
  },
  {
   "cell_type": "code",
   "execution_count": 5,
   "metadata": {},
   "outputs": [
    {
     "data": {
      "text/plain": [
       "True"
      ]
     },
     "execution_count": 5,
     "metadata": {},
     "output_type": "execute_result"
    }
   ],
   "source": [
    "check_even(34)"
   ]
  },
  {
   "cell_type": "markdown",
   "metadata": {},
   "source": [
    "### 1. Check if ith bit of a number is set or not"
   ]
  },
  {
   "cell_type": "code",
   "execution_count": 5,
   "metadata": {},
   "outputs": [
    {
     "name": "stdout",
     "output_type": "stream",
     "text": [
      "Unset\n"
     ]
    }
   ],
   "source": [
    "def check_ith_bit(n, i):\n",
    "    if (n>>i)& 1 == 1:\n",
    "        print(\"Set\")\n",
    "    else:\n",
    "        print(\"Unset\")\n",
    "check_ith_bit(3,2)"
   ]
  },
  {
   "cell_type": "markdown",
   "metadata": {},
   "source": [
    "### 2. Count total set bits of a number\n",
    "Constraint: 0<num<10^9"
   ]
  },
  {
   "cell_type": "code",
   "execution_count": 110,
   "metadata": {},
   "outputs": [
    {
     "data": {
      "text/plain": [
       "2"
      ]
     },
     "execution_count": 110,
     "metadata": {},
     "output_type": "execute_result"
    }
   ],
   "source": [
    "def count_set_bits(n):\n",
    "    count = 0\n",
    "    for i in range(0,31):\n",
    "        if (n>>i)&1 == 1:\n",
    "            count += 1\n",
    "    return count\n",
    "\n",
    "count_set_bits(20)\n",
    "# TC: O(1): looping 31 times\n",
    "# SC: O(1)"
   ]
  },
  {
   "cell_type": "code",
   "execution_count": 111,
   "metadata": {},
   "outputs": [
    {
     "name": "stdout",
     "output_type": "stream",
     "text": [
      "x: 13, count of set bits: 3\n",
      "x: 15, count of set bits: 4\n",
      "x: 72, count of set bits: 2\n",
      "x: 8, count of set bits: 1\n"
     ]
    }
   ],
   "source": [
    "def count_set_bits2(n):\n",
    "    count = 0\n",
    "    while n>0:\n",
    "        count += 1\n",
    "        n = n&(n-1)\n",
    "    return count\n",
    "\n",
    "for x in [13, 15, 72, 8]:\n",
    "    print(f\"x: {x}, count of set bits: {count_set_bits2(x)}\")\n",
    "\n",
    "# TC: O(1): the number of set bits in n\n",
    "# SC: O(1)"
   ]
  },
  {
   "cell_type": "markdown",
   "metadata": {},
   "source": [
    "### 3. Unique Element I\n",
    "Given an array of positive integers. Given all elements occur twice except one. Find the unique element  \n",
    "Input: [1, 5, 3, 8, 5, 8, 1]  \n",
    "Output: 3"
   ]
  },
  {
   "cell_type": "code",
   "execution_count": 1,
   "metadata": {},
   "outputs": [
    {
     "name": "stdout",
     "output_type": "stream",
     "text": [
      "3\n"
     ]
    }
   ],
   "source": [
    "unique=0\n",
    "for x in [1,5,3,8,5,8,1]:\n",
    "    unique=unique^x\n",
    "print(unique)"
   ]
  },
  {
   "cell_type": "markdown",
   "metadata": {},
   "source": [
    "### 4. Given a and b, find x such that a^x = b\n",
    "Example 1:  \n",
    "Input: a = 5, b = 10  \n",
    "Output: 15\n"
   ]
  },
  {
   "cell_type": "code",
   "execution_count": 112,
   "metadata": {},
   "outputs": [
    {
     "data": {
      "text/plain": [
       "15"
      ]
     },
     "execution_count": 112,
     "metadata": {},
     "output_type": "execute_result"
    }
   ],
   "source": [
    "def solve(a,b):\n",
    "    return a^b\n",
    "\n",
    "solve(10, 5)"
   ]
  },
  {
   "cell_type": "markdown",
   "metadata": {},
   "source": [
    "### 5. Unique element II\n",
    "Given an array of n elements. Every element is repeated thrice except one element. Find that element.  \n",
    "Input: [1, 3, 1, 8, 1, 8]  \n",
    "Output: 3\n"
   ]
  },
  {
   "cell_type": "code",
   "execution_count": null,
   "metadata": {},
   "outputs": [],
   "source": [
    "## Homework"
   ]
  },
  {
   "cell_type": "code",
   "execution_count": 11,
   "metadata": {},
   "outputs": [
    {
     "name": "stdout",
     "output_type": "stream",
     "text": [
      "1\n"
     ]
    }
   ],
   "source": [
    "ans=0;\n",
    "for i in range(0,32):\n",
    "    count=0\n",
    "    for j in [3,3,3,8,1,8,8]:\n",
    "        count+= (j>>i)&1\n",
    "    count=count%3\n",
    "    if count==1:\n",
    "        ans=ans+1<<i\n",
    "    count=0\n",
    "print(ans)"
   ]
  },
  {
   "cell_type": "markdown",
   "metadata": {},
   "source": [
    "### 6. Given a list of integers. Find $A_{i}, A_{j}$ such that $A_{i}{\\oplus} A_{j}=k$.\n",
    "Example:\n",
    "Input:  \n",
    "A = [3, 5, 8, 1, 11]  \n",
    "k = 11  \n",
    "Output: [3,8]"
   ]
  },
  {
   "cell_type": "markdown",
   "metadata": {},
   "source": [
    "Homework:   \n",
    "Approach 1: Brute force  \n",
    "    Find all pairs and compute xor, TC: O(N^2), SC: O(1)  \n",
    "Approach 2: Use a hashset  \n",
    "    1. Insert all elements in hashset  \n",
    "    2. Iterate on array, search for Ai^k in the hashset  \n",
    "    TC: O(n), SC: O(n)"
   ]
  },
  {
   "cell_type": "code",
   "execution_count": 23,
   "metadata": {},
   "outputs": [
    {
     "name": "stdout",
     "output_type": "stream",
     "text": [
      "[[3, 8]]\n"
     ]
    }
   ],
   "source": [
    "### Brute force\n",
    "ans=[]\n",
    "A = [3, 5, 8, 1, 11]  \n",
    "k = 11 \n",
    "n=len(A)\n",
    "for i in range(0,n-1):\n",
    "    for j in range(i+1,n):\n",
    "        if A[i]^A[j]==k:\n",
    "            ans.append([A[i],A[j]])\n",
    "print(ans)"
   ]
  },
  {
   "cell_type": "code",
   "execution_count": 65,
   "metadata": {},
   "outputs": [
    {
     "ename": "TypeError",
     "evalue": "'list' object is not callable",
     "output_type": "error",
     "traceback": [
      "\u001b[1;31m---------------------------------------------------------------------------\u001b[0m",
      "\u001b[1;31mTypeError\u001b[0m                                 Traceback (most recent call last)",
      "\u001b[1;32m<ipython-input-65-d01708566e23>\u001b[0m in \u001b[0;36m<module>\u001b[1;34m\u001b[0m\n\u001b[0;32m      4\u001b[0m \u001b[0mk\u001b[0m \u001b[1;33m=\u001b[0m \u001b[1;36m11\u001b[0m\u001b[1;33m\u001b[0m\u001b[1;33m\u001b[0m\u001b[0m\n\u001b[0;32m      5\u001b[0m \u001b[1;33m\u001b[0m\u001b[0m\n\u001b[1;32m----> 6\u001b[1;33m \u001b[0mmyset\u001b[0m\u001b[1;33m=\u001b[0m \u001b[0mset\u001b[0m\u001b[1;33m(\u001b[0m\u001b[0mA\u001b[0m\u001b[1;33m)\u001b[0m\u001b[1;33m\u001b[0m\u001b[1;33m\u001b[0m\u001b[0m\n\u001b[0m\u001b[0;32m      7\u001b[0m \u001b[1;32mfor\u001b[0m \u001b[0mx\u001b[0m \u001b[1;32min\u001b[0m \u001b[0mA\u001b[0m\u001b[1;33m:\u001b[0m\u001b[1;33m\u001b[0m\u001b[1;33m\u001b[0m\u001b[0m\n\u001b[0;32m      8\u001b[0m     \u001b[1;32mif\u001b[0m \u001b[0mx\u001b[0m\u001b[1;33m^\u001b[0m\u001b[0mk\u001b[0m \u001b[1;32min\u001b[0m \u001b[0mmyset\u001b[0m\u001b[1;33m:\u001b[0m\u001b[1;33m\u001b[0m\u001b[1;33m\u001b[0m\u001b[0m\n",
      "\u001b[1;31mTypeError\u001b[0m: 'list' object is not callable"
     ]
    }
   ],
   "source": [
    "### Using hashset\n",
    "ans=[]\n",
    "A = [3, 5, 8, 1, 11]  \n",
    "k = 11 \n",
    "\n",
    "myset= set(A)\n",
    "for x in A:\n",
    "    if x^k in myset:\n",
    "        ans.append([x,x^k])\n",
    "\n"
   ]
  },
  {
   "cell_type": "markdown",
   "metadata": {},
   "source": [
    "### 7. Unique Elements III\n",
    "Given an array of numbers, where every number is repeated twice except two numbers which occur only once. Find those two elements.  \n",
    "Example:  \n",
    "Input: [1, 5, 1, 5, 3, 2, 7, 2]  \n",
    "Output: [3, 7]\n",
    "  \n",
    "Note: Output array should be sorted.\n",
    "\n"
   ]
  },
  {
   "cell_type": "code",
   "execution_count": 44,
   "metadata": {},
   "outputs": [],
   "source": [
    "## Code on your own"
   ]
  },
  {
   "cell_type": "code",
   "execution_count": 84,
   "metadata": {},
   "outputs": [
    {
     "name": "stdout",
     "output_type": "stream",
     "text": [
      "[3, 7]\n"
     ]
    }
   ],
   "source": [
    "Input = [1, 5, 1, 5, 3, 2, 7, 2]  \n",
    "num=0\n",
    "ans0=0\n",
    "ans1=0\n",
    "for x in Input:\n",
    "    num=num^x\n",
    "for i in range(31):\n",
    "    if(num>>i)& 1 == 1:\n",
    "        for x in Input:\n",
    "            if (x>>i) & 1 == 1:\n",
    "                ans1=ans1^x\n",
    "            else:\n",
    "                ans0=ans0^x\n",
    "        break\n",
    "print([ans0,ans1])"
   ]
  },
  {
   "cell_type": "markdown",
   "metadata": {},
   "source": [
    "## Generators\n",
    "- Generators are a special class of functions that simplify the task of writing iterators.   \n",
    "- Regular functions compute a value and return it, but generators return an iterator that returns a stream of values.  \n",
    "- Use them when you don't want to create an in-memory list and exhaust all the input iterators before returning; instead values are constructed and returned only if they’re requested. This behaviour is known as _**lazy-evaluation**_ or call-by-need strategy. \n",
    "  \n",
    "**Read more on Iterators, Generators, Comprehensions below**  \n",
    "-    https://docs.python.org/3/howto/functional.html"
   ]
  },
  {
   "cell_type": "markdown",
   "metadata": {},
   "source": [
    "### 8. Generate n fibonacci numbers"
   ]
  },
  {
   "cell_type": "code",
   "execution_count": 75,
   "metadata": {},
   "outputs": [],
   "source": [
    "def fibonacci(n):\n",
    "    a = 0\n",
    "    b = 1\n",
    "    for i in range(n+1):\n",
    "        yield a\n",
    "        a, b = b, a+b\n"
   ]
  },
  {
   "cell_type": "code",
   "execution_count": 114,
   "metadata": {},
   "outputs": [
    {
     "name": "stdout",
     "output_type": "stream",
     "text": [
      "0 1 1 2 3 5 8 13 21 34 55 "
     ]
    }
   ],
   "source": [
    "for i in fibonacci(10):\n",
    "    print(i, end=\" \")"
   ]
  },
  {
   "cell_type": "code",
   "execution_count": 76,
   "metadata": {},
   "outputs": [],
   "source": [
    "itr = fibonacci(5)"
   ]
  },
  {
   "cell_type": "code",
   "execution_count": 77,
   "metadata": {},
   "outputs": [
    {
     "data": {
      "text/plain": [
       "0"
      ]
     },
     "execution_count": 77,
     "metadata": {},
     "output_type": "execute_result"
    }
   ],
   "source": [
    "next(itr)"
   ]
  },
  {
   "cell_type": "markdown",
   "metadata": {},
   "source": [
    "### 9. Generate square of all even numbers upto n\n",
    "use generator expressions"
   ]
  },
  {
   "cell_type": "code",
   "execution_count": 125,
   "metadata": {},
   "outputs": [],
   "source": [
    "def square(n):\n",
    "    for i in range(1,n):\n",
    "        if i&1==0:\n",
    "            yield i, i**2"
   ]
  },
  {
   "cell_type": "code",
   "execution_count": 126,
   "metadata": {},
   "outputs": [
    {
     "name": "stdout",
     "output_type": "stream",
     "text": [
      "(2, 4)\n",
      "(4, 16)\n"
     ]
    }
   ],
   "source": [
    "for i in square(5):\n",
    "    print(i)"
   ]
  },
  {
   "cell_type": "code",
   "execution_count": 128,
   "metadata": {},
   "outputs": [
    {
     "name": "stdout",
     "output_type": "stream",
     "text": [
      "[(2, 4), (4, 16)]\n"
     ]
    }
   ],
   "source": [
    "## list comprehension: [(2,4), (2,16)]\n",
    "n = 5\n",
    "squared_list = [(i,i**2) for i in range(1,n) if i&1==0]\n",
    "print(squared_list)"
   ]
  },
  {
   "cell_type": "code",
   "execution_count": 68,
   "metadata": {},
   "outputs": [],
   "source": [
    "## Generator expression -> it returns a iterator\n",
    "sqr = ((i,i**2) for i in range(1,n) if i&1==0)"
   ]
  },
  {
   "cell_type": "code",
   "execution_count": 69,
   "metadata": {},
   "outputs": [
    {
     "data": {
      "text/plain": [
       "<generator object <genexpr> at 0x000001AFF67EB2A0>"
      ]
     },
     "execution_count": 69,
     "metadata": {},
     "output_type": "execute_result"
    }
   ],
   "source": [
    "sqr"
   ]
  },
  {
   "cell_type": "code",
   "execution_count": 131,
   "metadata": {},
   "outputs": [
    {
     "name": "stdout",
     "output_type": "stream",
     "text": [
      "(2, 4)\n",
      "(4, 16)\n"
     ]
    }
   ],
   "source": [
    "for i in sqr:\n",
    "    print(i)"
   ]
  },
  {
   "cell_type": "code",
   "execution_count": 72,
   "metadata": {},
   "outputs": [
    {
     "data": {
      "text/plain": [
       "True"
      ]
     },
     "execution_count": 72,
     "metadata": {},
     "output_type": "execute_result"
    }
   ],
   "source": [
    "sqr == iter(sqr) # generators are iterators only"
   ]
  },
  {
   "cell_type": "code",
   "execution_count": null,
   "metadata": {},
   "outputs": [],
   "source": []
  }
 ],
 "metadata": {
  "interpreter": {
   "hash": "d62006d1f3422635846181a997a61e8ec3049f797e5d7dfe0cd1bb84092b7c19"
  },
  "kernelspec": {
   "display_name": "Python 3",
   "language": "python",
   "name": "python3"
  },
  "language_info": {
   "codemirror_mode": {
    "name": "ipython",
    "version": 3
   },
   "file_extension": ".py",
   "mimetype": "text/x-python",
   "name": "python",
   "nbconvert_exporter": "python",
   "pygments_lexer": "ipython3",
   "version": "3.7.3"
  }
 },
 "nbformat": 4,
 "nbformat_minor": 5
}
