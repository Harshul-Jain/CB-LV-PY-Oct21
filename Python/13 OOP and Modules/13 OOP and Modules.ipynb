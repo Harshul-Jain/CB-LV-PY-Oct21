{
 "cells": [
  {
   "cell_type": "markdown",
   "id": "1889548b",
   "metadata": {},
   "source": [
    "## Day 13 OOP and Modules\n",
    "19-Nov-2021 Friday  \n",
    "Read about classes:  \n",
    "https://docs.python.org/3/tutorial/classes.html\n",
    "  \n",
    "Modules  \n",
    "https://docs.python.org/3/tutorial/modules.html"
   ]
  },
  {
   "cell_type": "markdown",
   "id": "9cf9646e",
   "metadata": {},
   "source": [
    "### OOP\n",
    "1. Multiple inheritance\n",
    "2. Method Resolution Order\n",
    "3. Decorators - @classmethod, @stactic method\n",
    "4. Private variables and name mangling"
   ]
  },
  {
   "cell_type": "markdown",
   "id": "e33b3f3d",
   "metadata": {},
   "source": [
    "### Multiple Inheritance and MRO\n",
    "depth-first left-to-right traversal of the classes "
   ]
  },
  {
   "cell_type": "code",
   "execution_count": 3,
   "id": "edf6feff",
   "metadata": {},
   "outputs": [],
   "source": [
    "class A:\n",
    "    \n",
    "    vara = 10\n",
    "    \n",
    "class B:\n",
    "    \n",
    "    varb = 20\n",
    "    \n",
    "class C(A,B):    \n",
    "    pass\n",
    "\n",
    "c = C()"
   ]
  },
  {
   "cell_type": "code",
   "execution_count": 4,
   "id": "adb3f549",
   "metadata": {},
   "outputs": [
    {
     "name": "stdout",
     "output_type": "stream",
     "text": [
      "10 20\n"
     ]
    }
   ],
   "source": [
    "print(c.vara, c.varb)"
   ]
  },
  {
   "cell_type": "code",
   "execution_count": 5,
   "id": "51dce5ec",
   "metadata": {},
   "outputs": [],
   "source": [
    "## Diamond Inheritance\n",
    "class A:\n",
    "    pass\n",
    "    \n",
    "class B(A):\n",
    "    pass\n",
    "    \n",
    "class C(A):    \n",
    "    pass\n",
    "\n",
    "class D(B, C):\n",
    "    pass"
   ]
  },
  {
   "cell_type": "code",
   "execution_count": 6,
   "id": "6aefd240",
   "metadata": {},
   "outputs": [],
   "source": [
    "d = D()"
   ]
  },
  {
   "cell_type": "code",
   "execution_count": 9,
   "id": "882c0a3e",
   "metadata": {},
   "outputs": [
    {
     "data": {
      "text/plain": [
       "(__main__.D, __main__.B, __main__.C, __main__.A, object)"
      ]
     },
     "execution_count": 9,
     "metadata": {},
     "output_type": "execute_result"
    }
   ],
   "source": [
    "D.__mro__"
   ]
  },
  {
   "cell_type": "code",
   "execution_count": 17,
   "id": "ea5cce3a",
   "metadata": {},
   "outputs": [],
   "source": [
    "class A:\n",
    "    pass\n",
    "    \n",
    "class B(A):\n",
    "    pass\n",
    "    \n",
    "class C(A):    \n",
    "    pass\n",
    "\n",
    "class D(A):\n",
    "    pass\n",
    "\n",
    "class E(B,C):\n",
    "    pass\n",
    "\n",
    "class F(E, D):\n",
    "    pass\n",
    "\n",
    "f = F()"
   ]
  },
  {
   "cell_type": "code",
   "execution_count": 18,
   "id": "8ae8dd2c",
   "metadata": {},
   "outputs": [
    {
     "data": {
      "text/plain": [
       "(__main__.F,\n",
       " __main__.E,\n",
       " __main__.B,\n",
       " __main__.C,\n",
       " __main__.D,\n",
       " __main__.A,\n",
       " object)"
      ]
     },
     "execution_count": 18,
     "metadata": {},
     "output_type": "execute_result"
    }
   ],
   "source": [
    "F.__mro__"
   ]
  },
  {
   "cell_type": "markdown",
   "id": "34bc4f38",
   "metadata": {},
   "source": [
    "### Decorators\n",
    "@classmethod, @staticmethod\n",
    "- classmethod requires the reference of the class. They are used to update the state of class.\n",
    "- staticmethod does not require any reference of class or the object. They are utility/ helper functions."
   ]
  },
  {
   "cell_type": "code",
   "execution_count": 42,
   "id": "1b2c949f",
   "metadata": {},
   "outputs": [],
   "source": [
    "class Fan:\n",
    "    \n",
    "    brand = \"Philips\"\n",
    "    max_speed = 200\n",
    "    \n",
    "    def __init__(self, blades, color, rpm):\n",
    "        self.blades = blades\n",
    "        self.color = color\n",
    "        self.rpm = rpm\n",
    "        \n",
    "    def display_properties(self):\n",
    "        print(self.blades, self.color, self.rpm, self.brand, self.max_speed)\n",
    "        \n",
    "    @classmethod\n",
    "    def update_speed(cls, speed):\n",
    "        \"\"\" modify the state of the class\"\"\"\n",
    "        cls.max_speed = speed\n",
    "    \n",
    "    @staticmethod\n",
    "    def rotate_helper():\n",
    "        print(\"Fans run on electricity\")\n",
    "        \n",
    "    def rotate(self):\n",
    "        Fan.rotate_helper()\n",
    "        print(f\"Fan rotates with {self.rpm}\")"
   ]
  },
  {
   "cell_type": "code",
   "execution_count": 47,
   "id": "2575c111",
   "metadata": {},
   "outputs": [],
   "source": [
    "f1 = Fan(3 , \"white\", 120)\n",
    "f2 = Fan(3 , \"black\", 40)"
   ]
  },
  {
   "cell_type": "code",
   "execution_count": 44,
   "id": "e133b466",
   "metadata": {},
   "outputs": [
    {
     "name": "stdout",
     "output_type": "stream",
     "text": [
      "3 white 120 Philips 200\n",
      "3 black 40 Philips 200\n",
      "3 white 120 Philips 180\n",
      "3 black 40 Philips 180\n"
     ]
    }
   ],
   "source": [
    "f1.display_properties()\n",
    "f2.display_properties()\n",
    "Fan.update_speed(180)\n",
    "f1.display_properties()\n",
    "f2.display_properties()"
   ]
  },
  {
   "cell_type": "code",
   "execution_count": 45,
   "id": "fb135fb2",
   "metadata": {},
   "outputs": [
    {
     "name": "stdout",
     "output_type": "stream",
     "text": [
      "3 white 120 Philips 30\n",
      "3 black 40 Philips 30\n"
     ]
    }
   ],
   "source": [
    "Fan.max_speed = 30\n",
    "f1.display_properties()\n",
    "f2.display_properties()"
   ]
  },
  {
   "cell_type": "code",
   "execution_count": 46,
   "id": "4459826c",
   "metadata": {},
   "outputs": [
    {
     "name": "stdout",
     "output_type": "stream",
     "text": [
      "Fans run on electricity\n",
      "Fan rotates with 120\n"
     ]
    }
   ],
   "source": [
    "f1.rotate()"
   ]
  },
  {
   "cell_type": "code",
   "execution_count": 48,
   "id": "7fc1a94e",
   "metadata": {},
   "outputs": [],
   "source": [
    "class Point:\n",
    "    \n",
    "    dim = 2\n",
    "    \n",
    "    def __init__(self, x, y):\n",
    "        self.x = x\n",
    "        self.y = y\n",
    "        \n",
    "    @staticmethod\n",
    "    def distance(p1, p2):\n",
    "        return ((p1.x-p2.x)**2 + (p1.y - p2.y)**2 )**0.5"
   ]
  },
  {
   "cell_type": "code",
   "execution_count": 49,
   "id": "ba153cdd",
   "metadata": {},
   "outputs": [],
   "source": [
    "A = Point(2,3)\n",
    "B = Point(4,5)"
   ]
  },
  {
   "cell_type": "code",
   "execution_count": 51,
   "id": "9b54c073",
   "metadata": {},
   "outputs": [
    {
     "data": {
      "text/plain": [
       "2.8284271247461903"
      ]
     },
     "execution_count": 51,
     "metadata": {},
     "output_type": "execute_result"
    }
   ],
   "source": [
    "Point.distance(A, B)"
   ]
  },
  {
   "cell_type": "markdown",
   "id": "4c60f466",
   "metadata": {},
   "source": [
    "### Private variables\n",
    "Don't exist in python  \n",
    "1. a name prefixed with an underscore (e.g. _spam) should be treated as a non-public part of the API (whether it is a function, a method or a data member)  \n",
    "2.  Any identifier of the form \\_\\_spam (at least two leading underscores, at most one trailing underscore) is textually replaced with _classname\\_\\_spam, where classname is the current class name with leading underscore(s) stripped"
   ]
  },
  {
   "cell_type": "code",
   "execution_count": 60,
   "id": "57e78803",
   "metadata": {},
   "outputs": [],
   "source": [
    "class A:\n",
    "    \n",
    "    __x = 100\n",
    "    \n",
    "    def __init__(self, val):\n",
    "        self.val = val\n",
    "        \n",
    "    @staticmethod\n",
    "    def __func():\n",
    "        print(A.__x)\n",
    "        \n",
    "    def func3(self):\n",
    "        print(self.__x)\n",
    "        \n",
    "    def func2(self):\n",
    "        print(f\"hello my value is {self.val}\")\n",
    "        "
   ]
  },
  {
   "cell_type": "code",
   "execution_count": 61,
   "id": "602b17c6",
   "metadata": {},
   "outputs": [],
   "source": [
    "a = A(20)"
   ]
  },
  {
   "cell_type": "code",
   "execution_count": 63,
   "id": "75e8203b",
   "metadata": {},
   "outputs": [
    {
     "name": "stdout",
     "output_type": "stream",
     "text": [
      "100\n"
     ]
    }
   ],
   "source": [
    "a.func3()"
   ]
  },
  {
   "cell_type": "code",
   "execution_count": 62,
   "id": "722eb4c7",
   "metadata": {},
   "outputs": [
    {
     "ename": "AttributeError",
     "evalue": "'A' object has no attribute '__x'",
     "output_type": "error",
     "traceback": [
      "\u001b[1;31m---------------------------------------------------------------------------\u001b[0m",
      "\u001b[1;31mAttributeError\u001b[0m                            Traceback (most recent call last)",
      "\u001b[1;32m<ipython-input-62-0bd7a0474270>\u001b[0m in \u001b[0;36m<module>\u001b[1;34m\u001b[0m\n\u001b[1;32m----> 1\u001b[1;33m \u001b[0mprint\u001b[0m\u001b[1;33m(\u001b[0m\u001b[0ma\u001b[0m\u001b[1;33m.\u001b[0m\u001b[0m__x\u001b[0m\u001b[1;33m)\u001b[0m\u001b[1;33m\u001b[0m\u001b[1;33m\u001b[0m\u001b[0m\n\u001b[0m",
      "\u001b[1;31mAttributeError\u001b[0m: 'A' object has no attribute '__x'"
     ]
    }
   ],
   "source": [
    "print(a.__x)"
   ]
  },
  {
   "cell_type": "code",
   "execution_count": 59,
   "id": "aea1b3bf",
   "metadata": {},
   "outputs": [
    {
     "ename": "AttributeError",
     "evalue": "'A' object has no attribute '__func'",
     "output_type": "error",
     "traceback": [
      "\u001b[1;31m---------------------------------------------------------------------------\u001b[0m",
      "\u001b[1;31mAttributeError\u001b[0m                            Traceback (most recent call last)",
      "\u001b[1;32m<ipython-input-59-0f2d79ec9cae>\u001b[0m in \u001b[0;36m<module>\u001b[1;34m\u001b[0m\n\u001b[1;32m----> 1\u001b[1;33m \u001b[0ma\u001b[0m\u001b[1;33m.\u001b[0m\u001b[0m__func\u001b[0m\u001b[1;33m(\u001b[0m\u001b[1;33m)\u001b[0m\u001b[1;33m\u001b[0m\u001b[1;33m\u001b[0m\u001b[0m\n\u001b[0m",
      "\u001b[1;31mAttributeError\u001b[0m: 'A' object has no attribute '__func'"
     ]
    }
   ],
   "source": [
    "a.__func()"
   ]
  },
  {
   "cell_type": "code",
   "execution_count": 64,
   "id": "fcb8693e",
   "metadata": {},
   "outputs": [
    {
     "data": {
      "text/plain": [
       "100"
      ]
     },
     "execution_count": 64,
     "metadata": {},
     "output_type": "execute_result"
    }
   ],
   "source": [
    "a._A__x"
   ]
  },
  {
   "cell_type": "code",
   "execution_count": 65,
   "id": "8218550d",
   "metadata": {},
   "outputs": [
    {
     "name": "stdout",
     "output_type": "stream",
     "text": [
      "100\n"
     ]
    }
   ],
   "source": [
    "a._A__func()"
   ]
  },
  {
   "cell_type": "code",
   "execution_count": 55,
   "id": "7feb38f7",
   "metadata": {},
   "outputs": [
    {
     "data": {
      "text/plain": [
       "['_A__func',\n",
       " '_A__x',\n",
       " '__class__',\n",
       " '__delattr__',\n",
       " '__dict__',\n",
       " '__dir__',\n",
       " '__doc__',\n",
       " '__eq__',\n",
       " '__format__',\n",
       " '__ge__',\n",
       " '__getattribute__',\n",
       " '__gt__',\n",
       " '__hash__',\n",
       " '__init__',\n",
       " '__init_subclass__',\n",
       " '__le__',\n",
       " '__lt__',\n",
       " '__module__',\n",
       " '__ne__',\n",
       " '__new__',\n",
       " '__reduce__',\n",
       " '__reduce_ex__',\n",
       " '__repr__',\n",
       " '__setattr__',\n",
       " '__sizeof__',\n",
       " '__str__',\n",
       " '__subclasshook__',\n",
       " '__weakref__',\n",
       " 'func2',\n",
       " 'val']"
      ]
     },
     "execution_count": 55,
     "metadata": {},
     "output_type": "execute_result"
    }
   ],
   "source": [
    "dir(a)"
   ]
  },
  {
   "cell_type": "markdown",
   "id": "82eafe7d",
   "metadata": {},
   "source": [
    "### Magic Methods/ Dunders\n",
    "- \\_\\_repr\\_\\_\n",
    "- \\_\\_str\\_\\_\n",
    "- \\_\\_len\\_\\_\n",
    "- \\_\\_dict\\_\\_\n",
    "- \\_\\_add\\_\\_\n"
   ]
  },
  {
   "cell_type": "code",
   "execution_count": 107,
   "id": "66f9cdc4",
   "metadata": {},
   "outputs": [],
   "source": [
    "class Person:\n",
    "    \n",
    "    def __init__(self, name, age):\n",
    "        self.name = name\n",
    "        self.age = age\n",
    "        \n",
    "    def __len__(self):\n",
    "        return len(self.name)\n",
    "    \n",
    "    def __str__(self):\n",
    "        return f\"name: {self.name}, age: {self.age}\"\n",
    "    \n",
    "    def __repr__(self):\n",
    "        return f\"name: {self.name}, age: {self.age}\"\n",
    "    \n",
    "    def __add__(self, other):\n",
    "        return Person(self.name+other.name, self.age+other.age)\n",
    "        "
   ]
  },
  {
   "cell_type": "code",
   "execution_count": 108,
   "id": "7a67b0e6",
   "metadata": {},
   "outputs": [],
   "source": [
    "p1 = Person(\"Sai\", 19) # class instantiation invokes __init__ dunder\n",
    "p2 = Person(\"Harsh\", 20)"
   ]
  },
  {
   "cell_type": "code",
   "execution_count": 109,
   "id": "d76adb5d",
   "metadata": {},
   "outputs": [
    {
     "data": {
      "text/plain": [
       "(3, 5)"
      ]
     },
     "execution_count": 109,
     "metadata": {},
     "output_type": "execute_result"
    }
   ],
   "source": [
    "len(p1), len(p2) # calls __len__ dunder"
   ]
  },
  {
   "cell_type": "code",
   "execution_count": 110,
   "id": "40e0ecde",
   "metadata": {},
   "outputs": [
    {
     "name": "stdout",
     "output_type": "stream",
     "text": [
      "name: Sai, age: 19\n"
     ]
    }
   ],
   "source": [
    "print(p1) # calls __str__ dunder"
   ]
  },
  {
   "cell_type": "code",
   "execution_count": 111,
   "id": "d6f375fa",
   "metadata": {},
   "outputs": [
    {
     "data": {
      "text/plain": [
       "name: Sai, age: 19"
      ]
     },
     "execution_count": 111,
     "metadata": {},
     "output_type": "execute_result"
    }
   ],
   "source": [
    "p1 # calls the __repr__ dunder"
   ]
  },
  {
   "cell_type": "code",
   "execution_count": 75,
   "id": "5e837ef0",
   "metadata": {},
   "outputs": [
    {
     "name": "stdout",
     "output_type": "stream",
     "text": [
      "[1, 2, 3]\n"
     ]
    }
   ],
   "source": [
    "l = [1,2,3]\n",
    "print(l)"
   ]
  },
  {
   "cell_type": "code",
   "execution_count": 100,
   "id": "a567fa08",
   "metadata": {},
   "outputs": [
    {
     "data": {
      "text/plain": [
       "({'name': 'Sai', 'age': 19}, {'name': 'Harsh', 'age': 20})"
      ]
     },
     "execution_count": 100,
     "metadata": {},
     "output_type": "execute_result"
    }
   ],
   "source": [
    "p1.__dict__, p2.__dict__"
   ]
  },
  {
   "cell_type": "code",
   "execution_count": 104,
   "id": "0f6fb633",
   "metadata": {},
   "outputs": [
    {
     "name": "stdout",
     "output_type": "stream",
     "text": [
      "[1, 2, 3, 2, 3] <class 'list'>\n"
     ]
    }
   ],
   "source": [
    "l2 = l + [2,3] \n",
    "print(l2, type(l2))"
   ]
  },
  {
   "cell_type": "code",
   "execution_count": 105,
   "id": "05626b1c",
   "metadata": {},
   "outputs": [
    {
     "data": {
      "text/plain": [
       "int"
      ]
     },
     "execution_count": 105,
     "metadata": {},
     "output_type": "execute_result"
    }
   ],
   "source": [
    "i = 2 + 3\n",
    "type(i)"
   ]
  },
  {
   "cell_type": "code",
   "execution_count": 113,
   "id": "de5f282b",
   "metadata": {},
   "outputs": [
    {
     "data": {
      "text/plain": [
       "name: SaiHarsh, age: 39"
      ]
     },
     "execution_count": 113,
     "metadata": {},
     "output_type": "execute_result"
    }
   ],
   "source": [
    "p3 = p1+p2 # calls __add__ dunder\n",
    "p3"
   ]
  },
  {
   "cell_type": "code",
   "execution_count": 115,
   "id": "16ecce6b",
   "metadata": {},
   "outputs": [
    {
     "data": {
      "text/plain": [
       "__main__.Person"
      ]
     },
     "execution_count": 115,
     "metadata": {},
     "output_type": "execute_result"
    }
   ],
   "source": [
    "p1.__class__"
   ]
  },
  {
   "cell_type": "markdown",
   "id": "cde123d3",
   "metadata": {},
   "source": [
    "## Modules\n",
    "A module is a file containing Python definitions and statements.  \n",
    "Within a module, the module’s name (as a string) is available as the value of the global variable \\_\\_name\\_\\_. "
   ]
  },
  {
   "cell_type": "markdown",
   "id": "5c3c1804",
   "metadata": {},
   "source": [
    "#### Create and import a module \n",
    "Create a module which has utility to compute fibonacci, factorial of a number"
   ]
  },
  {
   "cell_type": "code",
   "execution_count": 116,
   "id": "24486d42",
   "metadata": {},
   "outputs": [],
   "source": [
    "import mymodule"
   ]
  },
  {
   "cell_type": "code",
   "execution_count": 118,
   "id": "7b02d3b2",
   "metadata": {},
   "outputs": [
    {
     "name": "stdout",
     "output_type": "stream",
     "text": [
      "34\n"
     ]
    }
   ],
   "source": [
    "print(mymodule.fibonacci(10))"
   ]
  },
  {
   "cell_type": "code",
   "execution_count": 119,
   "id": "e513b40e",
   "metadata": {},
   "outputs": [
    {
     "name": "stdout",
     "output_type": "stream",
     "text": [
      "120\n"
     ]
    }
   ],
   "source": [
    "print(mymodule.factorial(5))"
   ]
  },
  {
   "cell_type": "code",
   "execution_count": 120,
   "id": "f7114fb1",
   "metadata": {},
   "outputs": [
    {
     "data": {
      "text/plain": [
       "('Tyson', 'Tibetan Mastiff')"
      ]
     },
     "execution_count": 120,
     "metadata": {},
     "output_type": "execute_result"
    }
   ],
   "source": [
    "dog = mymodule.Dog(\"Tyson\", \"Tibetan Mastiff\")\n",
    "dog.name, dog.breed"
   ]
  },
  {
   "cell_type": "code",
   "execution_count": 121,
   "id": "bc0311d0",
   "metadata": {},
   "outputs": [
    {
     "data": {
      "text/plain": [
       "mymodule.Dog"
      ]
     },
     "execution_count": 121,
     "metadata": {},
     "output_type": "execute_result"
    }
   ],
   "source": [
    "dog.__class__"
   ]
  },
  {
   "cell_type": "code",
   "execution_count": 122,
   "id": "acafccd3",
   "metadata": {},
   "outputs": [
    {
     "data": {
      "text/plain": [
       "<mymodule.Animal at 0x11f7a6d3df0>"
      ]
     },
     "execution_count": 122,
     "metadata": {},
     "output_type": "execute_result"
    }
   ],
   "source": [
    "animal = mymodule.Animal(\"Cow\")\n",
    "animal"
   ]
  },
  {
   "cell_type": "markdown",
   "id": "3975a05b",
   "metadata": {},
   "source": [
    "#### Import statements\n",
    "- import statements\n",
    "- from module import member\n",
    "- alias imports - as"
   ]
  },
  {
   "cell_type": "code",
   "execution_count": 123,
   "id": "40dcbf4c",
   "metadata": {},
   "outputs": [],
   "source": [
    "import mymodule as mm"
   ]
  },
  {
   "cell_type": "code",
   "execution_count": 124,
   "id": "6caa7aaf",
   "metadata": {},
   "outputs": [
    {
     "name": "stdout",
     "output_type": "stream",
     "text": [
      "{'name': 'Spike', 'breed': 'Labrador'}\n"
     ]
    }
   ],
   "source": [
    "dog2 = mm.Dog(\"Spike\", \"Labrador\")\n",
    "print(dog2.__dict__)"
   ]
  },
  {
   "cell_type": "code",
   "execution_count": 126,
   "id": "a98d4a2a",
   "metadata": {},
   "outputs": [
    {
     "data": {
      "text/plain": [
       "(100, 20)"
      ]
     },
     "execution_count": 126,
     "metadata": {},
     "output_type": "execute_result"
    }
   ],
   "source": [
    "mm.X, mm._y"
   ]
  },
  {
   "cell_type": "code",
   "execution_count": 130,
   "id": "2d586d3d",
   "metadata": {},
   "outputs": [],
   "source": [
    "from mymodule import factorial, fibonacci"
   ]
  },
  {
   "cell_type": "code",
   "execution_count": 131,
   "id": "ff4ff1d1",
   "metadata": {},
   "outputs": [
    {
     "data": {
      "text/plain": [
       "24"
      ]
     },
     "execution_count": 131,
     "metadata": {},
     "output_type": "execute_result"
    }
   ],
   "source": [
    "factorial(4)"
   ]
  },
  {
   "cell_type": "code",
   "execution_count": 132,
   "id": "e115da04",
   "metadata": {},
   "outputs": [
    {
     "data": {
      "text/plain": [
       "3"
      ]
     },
     "execution_count": 132,
     "metadata": {},
     "output_type": "execute_result"
    }
   ],
   "source": [
    "fibonacci(5)"
   ]
  },
  {
   "cell_type": "code",
   "execution_count": 138,
   "id": "7eb458f3",
   "metadata": {},
   "outputs": [
    {
     "data": {
      "text/plain": [
       "module"
      ]
     },
     "execution_count": 138,
     "metadata": {},
     "output_type": "execute_result"
    }
   ],
   "source": [
    "type(mm)"
   ]
  },
  {
   "cell_type": "markdown",
   "id": "72b94820",
   "metadata": {},
   "source": [
    "#### Executing module as a script\n",
    "with the \\_\\_name\\_\\_ set to \"\\_\\_main\\_\\_\". That means that by adding this code at the end of your module:\n",
    "```\n",
    "if __name__ == '__main__':\n",
    "    statement 1..\n",
    "    statement2...\n",
    "```\n",
    "you can make the file usable as a script as well as an importable module, because the code that parses the command line only runs if the module is executed as the “main” file.  \n",
    "This is often used either to provide a convenient user interface to a module, or for testing purposes"
   ]
  },
  {
   "cell_type": "code",
   "execution_count": 147,
   "id": "e397e5dc",
   "metadata": {},
   "outputs": [
    {
     "data": {
      "text/plain": [
       "'mymodule'"
      ]
     },
     "execution_count": 147,
     "metadata": {},
     "output_type": "execute_result"
    }
   ],
   "source": [
    "mm.__name__"
   ]
  },
  {
   "cell_type": "code",
   "execution_count": 1,
   "id": "8bb1cb1e",
   "metadata": {},
   "outputs": [
    {
     "name": "stdout",
     "output_type": "stream",
     "text": [
      "executed as a module\n",
      "value of __name__ variable: module2\n"
     ]
    }
   ],
   "source": [
    "import module2 as m2"
   ]
  },
  {
   "cell_type": "code",
   "execution_count": 151,
   "id": "191d9e08",
   "metadata": {},
   "outputs": [
    {
     "data": {
      "text/plain": [
       "'module2'"
      ]
     },
     "execution_count": 151,
     "metadata": {},
     "output_type": "execute_result"
    }
   ],
   "source": [
    "m2.__name__"
   ]
  },
  {
   "cell_type": "code",
   "execution_count": 2,
   "id": "10b61cbc",
   "metadata": {},
   "outputs": [],
   "source": [
    "from mymodule import *"
   ]
  },
  {
   "cell_type": "code",
   "execution_count": 3,
   "id": "3bd0a9bc",
   "metadata": {},
   "outputs": [
    {
     "data": {
      "text/plain": [
       "mymodule.Dog"
      ]
     },
     "execution_count": 3,
     "metadata": {},
     "output_type": "execute_result"
    }
   ],
   "source": [
    "dog3 = Dog(\"Goofy\", \"Pug\")\n",
    "dog3.__class__"
   ]
  },
  {
   "cell_type": "code",
   "execution_count": 4,
   "id": "3d062149",
   "metadata": {},
   "outputs": [
    {
     "data": {
      "text/plain": [
       "{'type': 'Fox'}"
      ]
     },
     "execution_count": 4,
     "metadata": {},
     "output_type": "execute_result"
    }
   ],
   "source": [
    "animal2 = Animal(\"Fox\")\n",
    "animal2.__dict__"
   ]
  },
  {
   "cell_type": "code",
   "execution_count": 5,
   "id": "6337a80c",
   "metadata": {},
   "outputs": [
    {
     "data": {
      "text/plain": [
       "24"
      ]
     },
     "execution_count": 5,
     "metadata": {},
     "output_type": "execute_result"
    }
   ],
   "source": [
    "factorial(4)"
   ]
  },
  {
   "cell_type": "code",
   "execution_count": 6,
   "id": "7c0aa0b0",
   "metadata": {},
   "outputs": [
    {
     "data": {
      "text/plain": [
       "100"
      ]
     },
     "execution_count": 6,
     "metadata": {},
     "output_type": "execute_result"
    }
   ],
   "source": [
    "X"
   ]
  },
  {
   "cell_type": "code",
   "execution_count": 9,
   "id": "21667fe8",
   "metadata": {},
   "outputs": [],
   "source": [
    "import mymodule as mm"
   ]
  },
  {
   "cell_type": "code",
   "execution_count": 11,
   "id": "3dd33a9b",
   "metadata": {},
   "outputs": [
    {
     "data": {
      "text/plain": [
       "20"
      ]
     },
     "execution_count": 11,
     "metadata": {},
     "output_type": "execute_result"
    }
   ],
   "source": [
    "mm._y # a name prefixed with an underscore (e.g. _spam) should be treated as a non-public part of the module"
   ]
  }
 ],
 "metadata": {
  "kernelspec": {
   "display_name": "Python 3",
   "language": "python",
   "name": "python3"
  },
  "language_info": {
   "codemirror_mode": {
    "name": "ipython",
    "version": 3
   },
   "file_extension": ".py",
   "mimetype": "text/x-python",
   "name": "python",
   "nbconvert_exporter": "python",
   "pygments_lexer": "ipython3",
   "version": "3.9.4"
  }
 },
 "nbformat": 4,
 "nbformat_minor": 5
}
