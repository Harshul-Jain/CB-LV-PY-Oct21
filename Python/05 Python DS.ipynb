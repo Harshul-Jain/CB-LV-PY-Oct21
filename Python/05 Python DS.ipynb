{
 "cells": [
  {
   "cell_type": "markdown",
   "id": "51fddaeb",
   "metadata": {},
   "source": [
    "## 2-d lists"
   ]
  },
  {
   "cell_type": "code",
   "execution_count": 3,
   "id": "efe5e61e",
   "metadata": {},
   "outputs": [],
   "source": [
    "l = [[1, 20],\n",
    "     [2, 15],\n",
    "     [4, 10],\n",
    "     [5, 17],\n",
    "     [0, 11]\n",
    "]"
   ]
  },
  {
   "cell_type": "code",
   "execution_count": 4,
   "id": "de9a45c4",
   "metadata": {},
   "outputs": [
    {
     "data": {
      "text/plain": [
       "5"
      ]
     },
     "execution_count": 4,
     "metadata": {},
     "output_type": "execute_result"
    }
   ],
   "source": [
    "len(l)"
   ]
  },
  {
   "cell_type": "code",
   "execution_count": 6,
   "id": "0020442a",
   "metadata": {},
   "outputs": [
    {
     "data": {
      "text/plain": [
       "([4, 10], 10)"
      ]
     },
     "execution_count": 6,
     "metadata": {},
     "output_type": "execute_result"
    }
   ],
   "source": [
    "l[2], l[2][1]"
   ]
  },
  {
   "cell_type": "markdown",
   "id": "a1838c77",
   "metadata": {},
   "source": [
    "### Find the sum of all the elements of a 2d list\n",
    "```\n",
    "l = [[1, 20],\n",
    "     [2, 15],\n",
    "     [4, 10],\n",
    "     [5, 17],\n",
    "     [0, 11]\n",
    "]\n",
    "```\n",
    "o/p: 1+20+2+15+....11 = 85\n"
   ]
  },
  {
   "cell_type": "code",
   "execution_count": 14,
   "id": "9473ef91",
   "metadata": {},
   "outputs": [
    {
     "name": "stdout",
     "output_type": "stream",
     "text": [
      "i=0 [1, 20] initial sum: 0\n",
      "\t j=0 sum = sum + l[0][0] = 1\n",
      "\t j=1 sum = sum + l[0][1] = 21\n",
      "i=1 [2, 15] initial sum: 21\n",
      "\t j=0 sum = sum + l[1][0] = 23\n",
      "\t j=1 sum = sum + l[1][1] = 38\n",
      "i=2 [4, 10] initial sum: 38\n",
      "\t j=0 sum = sum + l[2][0] = 42\n",
      "\t j=1 sum = sum + l[2][1] = 52\n",
      "i=3 [5, 17] initial sum: 52\n",
      "\t j=0 sum = sum + l[3][0] = 57\n",
      "\t j=1 sum = sum + l[3][1] = 74\n",
      "i=4 [0, 11] initial sum: 74\n",
      "\t j=0 sum = sum + l[4][0] = 74\n",
      "\t j=1 sum = sum + l[4][1] = 85\n",
      "85\n"
     ]
    }
   ],
   "source": [
    "sum_ = 0\n",
    "n = len(l) # number of rows\n",
    "for i in range(n):\n",
    "    print(f\"i={i}\", l[i], \"initial sum:\", sum_)\n",
    "    for j in range(len(l[i])):\n",
    "        sum_ = sum_ + l[i][j]\n",
    "        print(f\"\\t j={j} sum = sum + l[{i}][{j}] =\", sum_)\n",
    "print(sum_)"
   ]
  },
  {
   "cell_type": "code",
   "execution_count": 15,
   "id": "560071ff",
   "metadata": {},
   "outputs": [
    {
     "name": "stdout",
     "output_type": "stream",
     "text": [
      "sum: 85\n"
     ]
    }
   ],
   "source": [
    "sum_ = 0\n",
    "n = len(l) # number of rows\n",
    "for i in range(n):\n",
    "    for j in range(len(l[i])):\n",
    "        sum_ = sum_ + l[i][j]\n",
    "print(\"sum:\", sum_)"
   ]
  },
  {
   "cell_type": "markdown",
   "id": "ec3caeb5",
   "metadata": {},
   "source": [
    "### Find the sum row-wise and column-wise"
   ]
  },
  {
   "cell_type": "code",
   "execution_count": 19,
   "id": "22831724",
   "metadata": {},
   "outputs": [
    {
     "name": "stdout",
     "output_type": "stream",
     "text": [
      "[1, 20]\n",
      "[2, 15]\n",
      "[4, 10]\n",
      "[5, 17]\n",
      "[0, 11]\n"
     ]
    }
   ],
   "source": [
    "for li in l:\n",
    "    print(li)"
   ]
  },
  {
   "cell_type": "code",
   "execution_count": 28,
   "id": "5e91f232",
   "metadata": {},
   "outputs": [
    {
     "name": "stdout",
     "output_type": "stream",
     "text": [
      "rowsum: [21, 17, 14, 22, 11]\n",
      "\n",
      "column-wise sum: [12, 73]\n"
     ]
    }
   ],
   "source": [
    "## row-wise sum\n",
    "n=len(l)\n",
    "rowsum = []\n",
    "for i in range(n):\n",
    "    sum_ = 0\n",
    "    for j in range(len(l[i])):\n",
    "        sum_ += l[i][j]\n",
    "    rowsum.append(sum_)\n",
    "#     print(sum_, end=\" \")\n",
    "print(\"rowsum:\", rowsum)\n",
    "\n",
    "print()\n",
    "\n",
    "## column-wise sum\n",
    "\n",
    "colsum = []\n",
    "n=len(l)\n",
    "for j in range(len(l[0])):\n",
    "    sum_ = 0\n",
    "    for i in range(len(l)):\n",
    "        sum_ += l[i][j]  \n",
    "#     print(sum_, end=\" \")\n",
    "    colsum.append(sum_)\n",
    "print(\"column-wise sum:\", colsum)"
   ]
  },
  {
   "cell_type": "markdown",
   "id": "88ae43b4",
   "metadata": {},
   "source": [
    "Time Complexity: O(M*N)  \n",
    "Space complexity: O(M+N) or  O(1)"
   ]
  },
  {
   "cell_type": "markdown",
   "id": "d83dd353",
   "metadata": {},
   "source": [
    "## HW:\n",
    "1. Find the maximum element row-wise and column-wise\n",
    "2. Find the minimum element row-wise and column-wise"
   ]
  },
  {
   "cell_type": "markdown",
   "id": "c1240a27",
   "metadata": {},
   "source": [
    "### Given a 2d list, Return the index of the row with min sum\n",
    "```\n",
    "l = [[1, 20, 3], # 24\n",
    "     [2, 15, 4], # 21\n",
    "     [4, 10, 0], # 14\n",
    "     [5, 17, 5], # 27\n",
    "     [0, 11, -1] # 10\n",
    "]\n",
    "```\n",
    "o/p: 4"
   ]
  },
  {
   "cell_type": "code",
   "execution_count": 29,
   "id": "52b8fb88",
   "metadata": {},
   "outputs": [],
   "source": [
    "l = [[1, 20, 3], # 24\n",
    "     [2, 15, 4], # 21\n",
    "     [4, 10, 0], # 14\n",
    "     [5, 17, 5], # 27\n",
    "     [0, 11, -1] # 10\n",
    "]\n"
   ]
  },
  {
   "cell_type": "code",
   "execution_count": 30,
   "id": "33fd190c",
   "metadata": {},
   "outputs": [],
   "source": [
    "import math"
   ]
  },
  {
   "cell_type": "code",
   "execution_count": 34,
   "id": "aa922e51",
   "metadata": {},
   "outputs": [
    {
     "name": "stdout",
     "output_type": "stream",
     "text": [
      "inf\n",
      "row 0, row_sum: 24, min_sum so far: 24, min_index: 0\n",
      "row 1, row_sum: 21, min_sum so far: 21, min_index: 1\n",
      "row 2, row_sum: 14, min_sum so far: 14, min_index: 2\n",
      "row 3, row_sum: 27, min_sum so far: 14, min_index: 2\n",
      "row 4, row_sum: 10, min_sum so far: 10, min_index: 4\n",
      "row 4 has minimum sum:  10\n"
     ]
    }
   ],
   "source": [
    "n = len(l)\n",
    "min_sum = math.inf # storing the min row sum so far\n",
    "min_ix = 0 # storing index of the row with min sum so far\n",
    "print(min_sum)\n",
    "for i in range(n):\n",
    "    sum_ = 0\n",
    "    for j in range(len(l[i])):\n",
    "        sum_ += l[i][j]\n",
    "        \n",
    "    if sum_ < min_sum:\n",
    "        min_sum = sum_\n",
    "        min_ix = i\n",
    "    print(f\"row {i}, row_sum: {sum_}, min_sum so far: {min_sum}, min_index: {min_ix}\")\n",
    "print(f\"row {i} has minimum sum: \", min_sum)\n",
    "    "
   ]
  },
  {
   "cell_type": "markdown",
   "id": "acfb555d",
   "metadata": {},
   "source": [
    "### Given a list, find the min and second minimum element"
   ]
  },
  {
   "cell_type": "code",
   "execution_count": 40,
   "id": "cbc27b08",
   "metadata": {},
   "outputs": [
    {
     "name": "stdout",
     "output_type": "stream",
     "text": [
      "min:  -1 ,sec_min: 0\n"
     ]
    }
   ],
   "source": [
    "l = [10, 5, 4, 1, -1, 0, 6]\n",
    "\n",
    "o = sorted(l)\n",
    "print(\"min: \", o[0], \",sec_min:\", o[1])\n",
    "\n",
    "## modify this for duplicates "
   ]
  },
  {
   "cell_type": "code",
   "execution_count": 49,
   "id": "4a46fa1f",
   "metadata": {},
   "outputs": [
    {
     "name": "stdout",
     "output_type": "stream",
     "text": [
      "i=0 Before: inf, inf, l[0]: 10 After: 10 inf\n",
      "i=1 Before: 10, inf, l[1]: 5 After: 5 10\n",
      "i=2 Before: 5, 10, l[2]: 4 After: 4 5\n",
      "i=3 Before: 4, 5, l[3]: 1 After: 1 4\n",
      "i=4 Before: 1, 4, l[4]: -1 After: -1 1\n",
      "i=5 Before: -1, 1, l[5]: 0 After: -1 0\n",
      "i=6 Before: -1, 0, l[6]: 6 After: -1 0\n",
      "i=7 Before: -1, 0, l[7]: -1 After: -1 0\n",
      "-1 0\n"
     ]
    }
   ],
   "source": [
    "l = [10, 5, 4, 1, -1, 0, 6, -1]\n",
    "min_ = math.inf\n",
    "sec_min = math.inf\n",
    "\n",
    "n= len(l)\n",
    "for i in range(n):\n",
    "    print(f\"i={i} Before: {min_}, {sec_min}, l[{i}]: {l[i]}\", end=\" \")\n",
    "    \n",
    "    if l[i] < min_:\n",
    "        sec_min = min_\n",
    "        min_ = l[i]\n",
    "        \n",
    "    elif l[i] < sec_min and l[i]!=min_:\n",
    "        sec_min = l[i]\n",
    "        \n",
    "    print(\"After:\", min_, sec_min)\n",
    "    \n",
    "print(min_, sec_min)"
   ]
  }
 ],
 "metadata": {
  "kernelspec": {
   "display_name": "Python 3",
   "language": "python",
   "name": "python3"
  },
  "language_info": {
   "codemirror_mode": {
    "name": "ipython",
    "version": 3
   },
   "file_extension": ".py",
   "mimetype": "text/x-python",
   "name": "python",
   "nbconvert_exporter": "python",
   "pygments_lexer": "ipython3",
   "version": "3.9.4"
  }
 },
 "nbformat": 4,
 "nbformat_minor": 5
}
