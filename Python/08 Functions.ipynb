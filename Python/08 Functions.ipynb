{
 "cells": [
  {
   "cell_type": "markdown",
   "id": "278c965c",
   "metadata": {},
   "source": [
    "## Day 08 \n",
    "11-Nov-2021 Thursday\n",
    "### Functions"
   ]
  },
  {
   "cell_type": "code",
   "execution_count": 6,
   "id": "3cfa0704",
   "metadata": {},
   "outputs": [],
   "source": [
    "def factorial(n):\n",
    "    if n==0 or n==1:\n",
    "        print(1)\n",
    "    else:\n",
    "        i = 2\n",
    "        ans = 1\n",
    "        while i<=n:\n",
    "            ans = ans*i\n",
    "            i += 1\n",
    "        print(ans)"
   ]
  },
  {
   "cell_type": "code",
   "execution_count": 10,
   "id": "4b7a59e5",
   "metadata": {},
   "outputs": [
    {
     "name": "stdout",
     "output_type": "stream",
     "text": [
      "120\n"
     ]
    }
   ],
   "source": [
    "# function call\n",
    "factorial(5)"
   ]
  },
  {
   "cell_type": "code",
   "execution_count": 23,
   "id": "3b323c5e",
   "metadata": {},
   "outputs": [],
   "source": [
    "def sum_numbers(a, b):\n",
    "    if isinstance(a, (int, float)) and isinstance(b, (int,float)):\n",
    "        print(a+b)\n",
    "    else:\n",
    "        print(\"a and b has to be numbers\")"
   ]
  },
  {
   "cell_type": "code",
   "execution_count": 24,
   "id": "3c4400fa",
   "metadata": {},
   "outputs": [
    {
     "name": "stdout",
     "output_type": "stream",
     "text": [
      "a and b has to be numbers\n"
     ]
    }
   ],
   "source": [
    "sum_numbers(\"hi\", \"there\")"
   ]
  },
  {
   "cell_type": "code",
   "execution_count": 26,
   "id": "faa3addd",
   "metadata": {},
   "outputs": [
    {
     "name": "stdout",
     "output_type": "stream",
     "text": [
      "8.5\n"
     ]
    }
   ],
   "source": [
    "sum_numbers(3, 5.5)"
   ]
  },
  {
   "cell_type": "code",
   "execution_count": 27,
   "id": "464e9efc",
   "metadata": {},
   "outputs": [
    {
     "data": {
      "text/plain": [
       "function"
      ]
     },
     "execution_count": 27,
     "metadata": {},
     "output_type": "execute_result"
    }
   ],
   "source": [
    "type(sum_numbers)"
   ]
  },
  {
   "cell_type": "code",
   "execution_count": 30,
   "id": "a1294ad7",
   "metadata": {},
   "outputs": [],
   "source": [
    "a = factorial"
   ]
  },
  {
   "cell_type": "code",
   "execution_count": 31,
   "id": "e583d9a7",
   "metadata": {},
   "outputs": [
    {
     "name": "stdout",
     "output_type": "stream",
     "text": [
      "720\n"
     ]
    }
   ],
   "source": [
    "a(6)"
   ]
  },
  {
   "cell_type": "code",
   "execution_count": 32,
   "id": "4e9e218a",
   "metadata": {},
   "outputs": [
    {
     "name": "stdout",
     "output_type": "stream",
     "text": [
      "8\n",
      "None\n"
     ]
    }
   ],
   "source": [
    "print(sum_numbers(5,3))"
   ]
  },
  {
   "cell_type": "markdown",
   "id": "bfadc21a",
   "metadata": {},
   "source": [
    "### Return"
   ]
  },
  {
   "cell_type": "code",
   "execution_count": 33,
   "id": "d05d74e8",
   "metadata": {},
   "outputs": [],
   "source": [
    "def factorial(n):\n",
    "    if n==0 or n==1:\n",
    "        return 1\n",
    "    i = 2\n",
    "    ans = 1\n",
    "    while i<=n:\n",
    "        ans = ans*i\n",
    "        i += 1\n",
    "    return ans"
   ]
  },
  {
   "cell_type": "code",
   "execution_count": 38,
   "id": "ca0b1434",
   "metadata": {},
   "outputs": [
    {
     "name": "stdout",
     "output_type": "stream",
     "text": [
      "5040\n"
     ]
    }
   ],
   "source": [
    "print(factorial(7))"
   ]
  },
  {
   "cell_type": "code",
   "execution_count": 39,
   "id": "2798572f",
   "metadata": {},
   "outputs": [],
   "source": [
    "def sum_product(a, b, c):\n",
    "    return a+b+c, a*b*c"
   ]
  },
  {
   "cell_type": "code",
   "execution_count": 41,
   "id": "e8db3f3a",
   "metadata": {},
   "outputs": [
    {
     "name": "stdout",
     "output_type": "stream",
     "text": [
      "12 48\n"
     ]
    }
   ],
   "source": [
    "s, prod = sum_product(2, 4, 6)\n",
    "print(s, prod)"
   ]
  },
  {
   "cell_type": "markdown",
   "id": "da37eb00",
   "metadata": {},
   "source": [
    "### Default parameters"
   ]
  },
  {
   "cell_type": "code",
   "execution_count": 42,
   "id": "3e139caa",
   "metadata": {},
   "outputs": [],
   "source": [
    "def sum_product(a, b, c=0):\n",
    "    return a+b+c, a*b*c"
   ]
  },
  {
   "cell_type": "code",
   "execution_count": 44,
   "id": "5dcb8c75",
   "metadata": {},
   "outputs": [
    {
     "name": "stdout",
     "output_type": "stream",
     "text": [
      "(9, 0)\n",
      "(10, 18)\n"
     ]
    }
   ],
   "source": [
    "print(sum_product(4, 5))\n",
    "print(sum_product(6, 3, 1))"
   ]
  },
  {
   "cell_type": "markdown",
   "id": "6c8a3527",
   "metadata": {},
   "source": [
    "### Positional and keyword arguments"
   ]
  },
  {
   "cell_type": "code",
   "execution_count": 45,
   "id": "c663fb09",
   "metadata": {},
   "outputs": [],
   "source": [
    "def func(a, b, c):\n",
    "    print(a, b, c)"
   ]
  },
  {
   "cell_type": "code",
   "execution_count": 47,
   "id": "766da929",
   "metadata": {},
   "outputs": [
    {
     "name": "stdout",
     "output_type": "stream",
     "text": [
      "1 2 3\n"
     ]
    }
   ],
   "source": [
    "func(1,2,3) # positional arguments. parameters are assigned values based on the position of the arguments"
   ]
  },
  {
   "cell_type": "code",
   "execution_count": 51,
   "id": "b44ec006",
   "metadata": {},
   "outputs": [
    {
     "name": "stdout",
     "output_type": "stream",
     "text": [
      "4 3 2\n"
     ]
    }
   ],
   "source": [
    "func(a= 4, c=2, b=3) # keyword arguments, position doesn't matter"
   ]
  },
  {
   "cell_type": "markdown",
   "id": "b00db794",
   "metadata": {},
   "source": [
    "### Variable length positional arguments"
   ]
  },
  {
   "cell_type": "code",
   "execution_count": 63,
   "id": "c48f5cb6",
   "metadata": {},
   "outputs": [],
   "source": [
    "def func(a, *args):\n",
    "    print(a)\n",
    "    print(args)"
   ]
  },
  {
   "cell_type": "code",
   "execution_count": 65,
   "id": "248d9430",
   "metadata": {},
   "outputs": [
    {
     "name": "stdout",
     "output_type": "stream",
     "text": [
      "1\n",
      "(3, 4, 5, 6, 7)\n",
      "None\n",
      "3\n",
      "()\n"
     ]
    }
   ],
   "source": [
    "print(func(1, 3, 4, 5, 6, 7))"
   ]
  },
  {
   "cell_type": "code",
   "execution_count": 66,
   "id": "0245d514",
   "metadata": {},
   "outputs": [
    {
     "name": "stdout",
     "output_type": "stream",
     "text": [
      "3\n",
      "()\n"
     ]
    }
   ],
   "source": [
    "func(3)"
   ]
  },
  {
   "cell_type": "markdown",
   "id": "0451ca5e",
   "metadata": {},
   "source": [
    "### variable length keyword arguments"
   ]
  },
  {
   "cell_type": "code",
   "execution_count": 73,
   "id": "60134b3c",
   "metadata": {},
   "outputs": [],
   "source": [
    "def func(**kwargs):\n",
    "    print(kwargs)\n",
    "    print(kwargs['a'])\n",
    "    print(kwargs['b'])"
   ]
  },
  {
   "cell_type": "code",
   "execution_count": 74,
   "id": "7b100021",
   "metadata": {},
   "outputs": [
    {
     "name": "stdout",
     "output_type": "stream",
     "text": [
      "{'a': 3, 'b': 4}\n",
      "3\n",
      "4\n"
     ]
    }
   ],
   "source": [
    "func(a=3, b=4)"
   ]
  },
  {
   "cell_type": "code",
   "execution_count": 82,
   "id": "1cc75d79",
   "metadata": {},
   "outputs": [],
   "source": [
    "def func(a, b, *args, **kwargs):\n",
    "    print(\"Required positional arguments\")\n",
    "    print(\"a\", a)\n",
    "    print(\"b\", b)\n",
    "    print(\"args\", args)\n",
    "    print(\"kwargs\", kwargs)\n",
    "    print(\"c\", kwargs['c'])"
   ]
  },
  {
   "cell_type": "code",
   "execution_count": 83,
   "id": "ac229411",
   "metadata": {},
   "outputs": [
    {
     "name": "stdout",
     "output_type": "stream",
     "text": [
      "Required positional arguments\n",
      "a 1\n",
      "b 2\n",
      "args (3, 4, 5, 6, 7)\n",
      "kwargs {'d': 4, 'e': 6, 'c': 7}\n",
      "c 7\n"
     ]
    }
   ],
   "source": [
    "func(1, 2, 3, 4, 5, 6, 7, d=4, e=6, c=7)"
   ]
  },
  {
   "cell_type": "code",
   "execution_count": 86,
   "id": "91a042f4",
   "metadata": {},
   "outputs": [
    {
     "ename": "SyntaxError",
     "evalue": "non-default argument follows default argument (<ipython-input-86-771c11bfb0d4>, line 1)",
     "output_type": "error",
     "traceback": [
      "\u001b[1;36m  File \u001b[1;32m\"<ipython-input-86-771c11bfb0d4>\"\u001b[1;36m, line \u001b[1;32m1\u001b[0m\n\u001b[1;33m    def func(a, b=3, c):\u001b[0m\n\u001b[1;37m                      ^\u001b[0m\n\u001b[1;31mSyntaxError\u001b[0m\u001b[1;31m:\u001b[0m non-default argument follows default argument\n"
     ]
    }
   ],
   "source": [
    "def func(a, b=3, c):\n",
    "    pass"
   ]
  },
  {
   "cell_type": "markdown",
   "id": "c4de049a",
   "metadata": {},
   "source": [
    "## Lambda Functions\n",
    "- single line functions"
   ]
  },
  {
   "cell_type": "code",
   "execution_count": 87,
   "id": "837b1a65",
   "metadata": {},
   "outputs": [],
   "source": [
    "def product(a, b):\n",
    "    return a*b"
   ]
  },
  {
   "cell_type": "code",
   "execution_count": 88,
   "id": "778296d5",
   "metadata": {},
   "outputs": [],
   "source": [
    "a = lambda a,b : a*b"
   ]
  },
  {
   "cell_type": "code",
   "execution_count": 91,
   "id": "172cf8b6",
   "metadata": {},
   "outputs": [
    {
     "data": {
      "text/plain": [
       "20"
      ]
     },
     "execution_count": 91,
     "metadata": {},
     "output_type": "execute_result"
    }
   ],
   "source": [
    "a(4,5)"
   ]
  },
  {
   "cell_type": "code",
   "execution_count": 90,
   "id": "88a49f45",
   "metadata": {},
   "outputs": [],
   "source": [
    "def sum_(a,b,c):\n",
    "    return a+b+c"
   ]
  },
  {
   "cell_type": "code",
   "execution_count": 93,
   "id": "92519ef2",
   "metadata": {},
   "outputs": [],
   "source": [
    "b = lambda a,b,c : a+b+c"
   ]
  },
  {
   "cell_type": "code",
   "execution_count": 94,
   "id": "c7534bc5",
   "metadata": {},
   "outputs": [
    {
     "data": {
      "text/plain": [
       "15"
      ]
     },
     "execution_count": 94,
     "metadata": {},
     "output_type": "execute_result"
    }
   ],
   "source": [
    "b(4,5,6)"
   ]
  },
  {
   "cell_type": "code",
   "execution_count": 99,
   "id": "83c79df9",
   "metadata": {},
   "outputs": [],
   "source": [
    "l = [\n",
    "    (\"princey\", 15), \n",
    "    (\"harshul\", 19),\n",
    "    (\"dipsan\", 20),\n",
    "    (\"akshay\", 16),\n",
    "    (\"akshay\", 14)\n",
    "    ]\n"
   ]
  },
  {
   "cell_type": "code",
   "execution_count": 100,
   "id": "8efa521e",
   "metadata": {},
   "outputs": [
    {
     "data": {
      "text/plain": [
       "[('akshay', 14),\n",
       " ('akshay', 16),\n",
       " ('dipsan', 20),\n",
       " ('harshul', 19),\n",
       " ('princey', 15)]"
      ]
     },
     "execution_count": 100,
     "metadata": {},
     "output_type": "execute_result"
    }
   ],
   "source": [
    "sorted(l)"
   ]
  },
  {
   "cell_type": "code",
   "execution_count": 104,
   "id": "ccbc59d5",
   "metadata": {},
   "outputs": [],
   "source": [
    "def keyfunc(t):\n",
    "    return t[1]"
   ]
  },
  {
   "cell_type": "code",
   "execution_count": 105,
   "id": "7619e072",
   "metadata": {},
   "outputs": [
    {
     "data": {
      "text/plain": [
       "[('akshay', 14),\n",
       " ('princey', 15),\n",
       " ('akshay', 16),\n",
       " ('harshul', 19),\n",
       " ('dipsan', 20)]"
      ]
     },
     "execution_count": 105,
     "metadata": {},
     "output_type": "execute_result"
    }
   ],
   "source": [
    "sorted(l, key=keyfunc)"
   ]
  },
  {
   "cell_type": "code",
   "execution_count": 106,
   "id": "278c4104",
   "metadata": {},
   "outputs": [
    {
     "data": {
      "text/plain": [
       "[('akshay', 14),\n",
       " ('princey', 15),\n",
       " ('akshay', 16),\n",
       " ('harshul', 19),\n",
       " ('dipsan', 20)]"
      ]
     },
     "execution_count": 106,
     "metadata": {},
     "output_type": "execute_result"
    }
   ],
   "source": [
    "sorted(l, key=lambda x: x[1])"
   ]
  },
  {
   "cell_type": "code",
   "execution_count": 107,
   "id": "fc3c3ab5",
   "metadata": {},
   "outputs": [
    {
     "data": {
      "text/plain": [
       "[('harshul', 19, 3),\n",
       " ('princey', 15, 4),\n",
       " ('akshay', 14, 4),\n",
       " ('dipsan', 20, 5),\n",
       " ('akshay', 16, 10)]"
      ]
     },
     "execution_count": 107,
     "metadata": {},
     "output_type": "execute_result"
    }
   ],
   "source": [
    "l = [\n",
    "    (\"princey\", 15, 4), \n",
    "    (\"harshul\", 19, 3),\n",
    "    (\"dipsan\", 20, 5),\n",
    "    (\"akshay\", 16, 10),\n",
    "    (\"akshay\", 14, 4)\n",
    "    ]\n",
    "\n",
    "sorted(l, key=lambda t:t[2])"
   ]
  },
  {
   "cell_type": "markdown",
   "id": "78efb8c5",
   "metadata": {},
   "source": [
    "### Iterators\n",
    "- An iterator is an object representing a stream of data; this object returns the data one element at a time. A Python iterator must support a method called __next__() that takes no arguments and always returns the next element of the stream. If there are no more elements in the stream, __next__() must raise the StopIteration exception. \n",
    "\n",
    "### Iterable\n",
    "An object is called iterable if you can get an iterator for it. List and dictionary "
   ]
  },
  {
   "cell_type": "code",
   "execution_count": 114,
   "id": "e051bab1",
   "metadata": {},
   "outputs": [],
   "source": [
    "l = [10, 20, 30] # stream of data, iterable\n",
    "it = iter(l)"
   ]
  },
  {
   "cell_type": "code",
   "execution_count": 109,
   "id": "a38f5eb0",
   "metadata": {},
   "outputs": [
    {
     "data": {
      "text/plain": [
       "list_iterator"
      ]
     },
     "execution_count": 109,
     "metadata": {},
     "output_type": "execute_result"
    }
   ],
   "source": [
    "type(it)"
   ]
  },
  {
   "cell_type": "code",
   "execution_count": 113,
   "id": "5329a662",
   "metadata": {},
   "outputs": [
    {
     "ename": "StopIteration",
     "evalue": "",
     "output_type": "error",
     "traceback": [
      "\u001b[1;31m---------------------------------------------------------------------------\u001b[0m",
      "\u001b[1;31mStopIteration\u001b[0m                             Traceback (most recent call last)",
      "\u001b[1;32m<ipython-input-113-74e64ed6c80d>\u001b[0m in \u001b[0;36m<module>\u001b[1;34m\u001b[0m\n\u001b[1;32m----> 1\u001b[1;33m \u001b[0mit\u001b[0m\u001b[1;33m.\u001b[0m\u001b[0m__next__\u001b[0m\u001b[1;33m(\u001b[0m\u001b[1;33m)\u001b[0m\u001b[1;33m\u001b[0m\u001b[1;33m\u001b[0m\u001b[0m\n\u001b[0m",
      "\u001b[1;31mStopIteration\u001b[0m: "
     ]
    }
   ],
   "source": [
    "it.__next__()"
   ]
  },
  {
   "cell_type": "code",
   "execution_count": 115,
   "id": "3518d98b",
   "metadata": {},
   "outputs": [],
   "source": [
    "d = {'a':1, \"b\":4, \"d\": 5, \"e\":0}"
   ]
  },
  {
   "cell_type": "code",
   "execution_count": 116,
   "id": "9f2f941a",
   "metadata": {},
   "outputs": [],
   "source": [
    "it = iter(d)"
   ]
  },
  {
   "cell_type": "code",
   "execution_count": 117,
   "id": "a2ef11d7",
   "metadata": {},
   "outputs": [
    {
     "data": {
      "text/plain": [
       "dict_keyiterator"
      ]
     },
     "execution_count": 117,
     "metadata": {},
     "output_type": "execute_result"
    }
   ],
   "source": [
    "type(it)"
   ]
  },
  {
   "cell_type": "code",
   "execution_count": 122,
   "id": "3b668817",
   "metadata": {},
   "outputs": [
    {
     "ename": "StopIteration",
     "evalue": "",
     "output_type": "error",
     "traceback": [
      "\u001b[1;31m---------------------------------------------------------------------------\u001b[0m",
      "\u001b[1;31mStopIteration\u001b[0m                             Traceback (most recent call last)",
      "\u001b[1;32m<ipython-input-122-74e64ed6c80d>\u001b[0m in \u001b[0;36m<module>\u001b[1;34m\u001b[0m\n\u001b[1;32m----> 1\u001b[1;33m \u001b[0mit\u001b[0m\u001b[1;33m.\u001b[0m\u001b[0m__next__\u001b[0m\u001b[1;33m(\u001b[0m\u001b[1;33m)\u001b[0m\u001b[1;33m\u001b[0m\u001b[1;33m\u001b[0m\u001b[0m\n\u001b[0m",
      "\u001b[1;31mStopIteration\u001b[0m: "
     ]
    }
   ],
   "source": [
    "it.__next__()"
   ]
  },
  {
   "cell_type": "code",
   "execution_count": 123,
   "id": "26d53ea8",
   "metadata": {},
   "outputs": [],
   "source": [
    "s_it = iter(\"hello\")"
   ]
  },
  {
   "cell_type": "code",
   "execution_count": 124,
   "id": "fbfb49a2",
   "metadata": {},
   "outputs": [
    {
     "data": {
      "text/plain": [
       "str_iterator"
      ]
     },
     "execution_count": 124,
     "metadata": {},
     "output_type": "execute_result"
    }
   ],
   "source": [
    "type(s_it)"
   ]
  },
  {
   "cell_type": "code",
   "execution_count": 130,
   "id": "aa2d23ca",
   "metadata": {},
   "outputs": [
    {
     "ename": "StopIteration",
     "evalue": "",
     "output_type": "error",
     "traceback": [
      "\u001b[1;31m---------------------------------------------------------------------------\u001b[0m",
      "\u001b[1;31mStopIteration\u001b[0m                             Traceback (most recent call last)",
      "\u001b[1;32m<ipython-input-130-c7c20f614eab>\u001b[0m in \u001b[0;36m<module>\u001b[1;34m\u001b[0m\n\u001b[1;32m----> 1\u001b[1;33m \u001b[0ms_it\u001b[0m\u001b[1;33m.\u001b[0m\u001b[0m__next__\u001b[0m\u001b[1;33m(\u001b[0m\u001b[1;33m)\u001b[0m\u001b[1;33m\u001b[0m\u001b[1;33m\u001b[0m\u001b[0m\n\u001b[0m",
      "\u001b[1;31mStopIteration\u001b[0m: "
     ]
    }
   ],
   "source": [
    "s_it.__next__()"
   ]
  },
  {
   "cell_type": "code",
   "execution_count": 133,
   "id": "8cf22fbc",
   "metadata": {},
   "outputs": [
    {
     "name": "stdout",
     "output_type": "stream",
     "text": [
      "10\n",
      "20\n",
      "30\n"
     ]
    }
   ],
   "source": [
    "## l is an iterable\n",
    "for el in l:\n",
    "    print(el)"
   ]
  },
  {
   "cell_type": "markdown",
   "id": "57c9c56b",
   "metadata": {},
   "source": [
    "### Dictionary Comprehension"
   ]
  },
  {
   "cell_type": "code",
   "execution_count": 135,
   "id": "2035f84d",
   "metadata": {},
   "outputs": [
    {
     "name": "stdout",
     "output_type": "stream",
     "text": [
      "{'harshul': 1, 'princey': 2, 'riya': 3, 'akshay': 4}\n"
     ]
    }
   ],
   "source": [
    "students = ['harshul', \"princey\", \"riya\", \"akshay\", \"dipsan\"]\n",
    "d = {}\n",
    "for i in range(1,len(students)):\n",
    "    d[students[i-1]] = i\n",
    "print(d)"
   ]
  },
  {
   "cell_type": "code",
   "execution_count": 152,
   "id": "6ee03613",
   "metadata": {},
   "outputs": [
    {
     "name": "stdout",
     "output_type": "stream",
     "text": [
      "[1, 2, 3, 4, 5]\n"
     ]
    }
   ],
   "source": [
    "rollnum = [i for i in range(1,len(students)+1)]\n",
    "print(rollnum)"
   ]
  },
  {
   "cell_type": "code",
   "execution_count": 153,
   "id": "c24ef8a3",
   "metadata": {},
   "outputs": [
    {
     "name": "stdout",
     "output_type": "stream",
     "text": [
      "{'harshul': 1, 'princey': 2, 'riya': 3, 'akshay': 4, 'dipsan': 5}\n"
     ]
    }
   ],
   "source": [
    "d2 = {k:v for k,v in zip(students, rollnum)}\n",
    "print(d2)"
   ]
  },
  {
   "cell_type": "code",
   "execution_count": 154,
   "id": "4505cfbe",
   "metadata": {},
   "outputs": [
    {
     "name": "stdout",
     "output_type": "stream",
     "text": [
      "{'harshul': 1, 'princey': 2, 'riya': 3, 'akshay': 4, 'dipsan': 5}\n"
     ]
    }
   ],
   "source": [
    "d3 = {k:v for k,v in zip(students, range(1,len(students)+1))}\n",
    "print(d3)"
   ]
  },
  {
   "cell_type": "markdown",
   "id": "49d643fa",
   "metadata": {},
   "source": [
    "### zip function"
   ]
  },
  {
   "cell_type": "code",
   "execution_count": 148,
   "id": "3e578612",
   "metadata": {},
   "outputs": [
    {
     "name": "stdout",
     "output_type": "stream",
     "text": [
      "10 A\n",
      "20 B\n",
      "30 C\n",
      "40 D\n"
     ]
    }
   ],
   "source": [
    "l1 = [10, 20, 30, 40]\n",
    "l2 = [\"A\", \"B\", \"C\", \"D\"]\n",
    "\n",
    "for i,j in zip(l1, l2):\n",
    "    print(i,j)"
   ]
  },
  {
   "cell_type": "code",
   "execution_count": 139,
   "id": "a09be02a",
   "metadata": {},
   "outputs": [],
   "source": [
    "a = zip(l1,l2)\n"
   ]
  },
  {
   "cell_type": "code",
   "execution_count": 140,
   "id": "c57db772",
   "metadata": {},
   "outputs": [
    {
     "data": {
      "text/plain": [
       "zip"
      ]
     },
     "execution_count": 140,
     "metadata": {},
     "output_type": "execute_result"
    }
   ],
   "source": [
    "type(a)"
   ]
  },
  {
   "cell_type": "code",
   "execution_count": 142,
   "id": "27ad6267",
   "metadata": {},
   "outputs": [],
   "source": [
    "it = iter(a) # zip is an iterable object"
   ]
  },
  {
   "cell_type": "code",
   "execution_count": 147,
   "id": "c5e22255",
   "metadata": {},
   "outputs": [
    {
     "ename": "StopIteration",
     "evalue": "",
     "output_type": "error",
     "traceback": [
      "\u001b[1;31m---------------------------------------------------------------------------\u001b[0m",
      "\u001b[1;31mStopIteration\u001b[0m                             Traceback (most recent call last)",
      "\u001b[1;32m<ipython-input-147-74e64ed6c80d>\u001b[0m in \u001b[0;36m<module>\u001b[1;34m\u001b[0m\n\u001b[1;32m----> 1\u001b[1;33m \u001b[0mit\u001b[0m\u001b[1;33m.\u001b[0m\u001b[0m__next__\u001b[0m\u001b[1;33m(\u001b[0m\u001b[1;33m)\u001b[0m\u001b[1;33m\u001b[0m\u001b[1;33m\u001b[0m\u001b[0m\n\u001b[0m",
      "\u001b[1;31mStopIteration\u001b[0m: "
     ]
    }
   ],
   "source": [
    "it.__next__()"
   ]
  },
  {
   "cell_type": "code",
   "execution_count": 155,
   "id": "bbe7efd9",
   "metadata": {},
   "outputs": [
    {
     "name": "stdout",
     "output_type": "stream",
     "text": [
      "(10, 'A', 1)\n",
      "(20, 'B', 2)\n",
      "(30, 'C', 3)\n",
      "(40, 'D', 4)\n",
      "==============================\n",
      "10 A 1\n",
      "20 B 2\n",
      "30 C 3\n",
      "40 D 4\n"
     ]
    }
   ],
   "source": [
    "l1 = [10, 20, 30, 40, 50]\n",
    "l2 = [\"A\", \"B\", \"C\", \"D\"]\n",
    "l3 = [1, 2, 3, 4, 5, 6]\n",
    "\n",
    "for t in zip(l1, l2, l3):  # it = iter(zip(l1, l2, l3)), it.__next__()\n",
    "    print(t)\n",
    "    \n",
    "print(\"=\"*30)\n",
    "\n",
    "for i,j,k in zip(l1, l2, l3):\n",
    "    print(i,j,k)"
   ]
  },
  {
   "cell_type": "markdown",
   "id": "f6276c82",
   "metadata": {},
   "source": [
    "## Generators\n",
    "- Generator iterators are created by the yield keyword. The real difference between them and ordinary functions is that yield unlike return is both exit and entry point for the function’s body. That means, after each yield call not only the generator returns something but also remembers its state. Calling the next() method brings control back to the generator starting after the last executed yield statement. Each yield statement is executed only once, in the order it appears in the code. After all the yield statements have been executed iteration ends.  \n",
    "- https://python-reference.readthedocs.io/en/latest/docs/generator/"
   ]
  },
  {
   "cell_type": "code",
   "execution_count": 169,
   "id": "c52f98c0",
   "metadata": {},
   "outputs": [],
   "source": [
    "def custom_range(n):\n",
    "    i = 0\n",
    "    print(\"custom_range called for the  first time\")\n",
    "    while i<n:\n",
    "        print(f\"custom_range called for {i}th time\")\n",
    "        yield i\n",
    "        i+=1"
   ]
  },
  {
   "cell_type": "code",
   "execution_count": 177,
   "id": "d4d71bce",
   "metadata": {},
   "outputs": [
    {
     "name": "stdout",
     "output_type": "stream",
     "text": [
      "custom_range called for the  first time\n",
      "custom_range called for 0th time\n",
      "0\n",
      "custom_range called for 1th time\n",
      "1\n",
      "custom_range called for 2th time\n",
      "2\n",
      "custom_range called for 3th time\n",
      "3\n",
      "custom_range called for 4th time\n",
      "4\n"
     ]
    }
   ],
   "source": [
    "for i in custom_range(5): # it = iter(custom_range(5)), it.__next__()\n",
    "    print(i)"
   ]
  },
  {
   "cell_type": "code",
   "execution_count": 171,
   "id": "61700878",
   "metadata": {},
   "outputs": [],
   "source": [
    "def func():\n",
    "    print(\"line 1\")\n",
    "    print(\"line 2\")\n",
    "    print(\"line 3\")\n",
    "    yield\n",
    "    print(\"line 4\")\n",
    "    print(\"line 5\")"
   ]
  },
  {
   "cell_type": "code",
   "execution_count": 178,
   "id": "567ec706",
   "metadata": {},
   "outputs": [
    {
     "data": {
      "text/plain": [
       "<generator object func at 0x000001C61F206F90>"
      ]
     },
     "execution_count": 178,
     "metadata": {},
     "output_type": "execute_result"
    }
   ],
   "source": [
    "func()"
   ]
  },
  {
   "cell_type": "code",
   "execution_count": 179,
   "id": "b4c45eab",
   "metadata": {},
   "outputs": [],
   "source": [
    "it = iter(func())"
   ]
  },
  {
   "cell_type": "code",
   "execution_count": 180,
   "id": "99e6c6ec",
   "metadata": {},
   "outputs": [
    {
     "name": "stdout",
     "output_type": "stream",
     "text": [
      "line 1\n",
      "line 2\n",
      "line 3\n"
     ]
    }
   ],
   "source": [
    "it.__next__()"
   ]
  },
  {
   "cell_type": "code",
   "execution_count": 181,
   "id": "43a7f263",
   "metadata": {},
   "outputs": [
    {
     "name": "stdout",
     "output_type": "stream",
     "text": [
      "line 4\n",
      "line 5\n"
     ]
    },
    {
     "ename": "StopIteration",
     "evalue": "",
     "output_type": "error",
     "traceback": [
      "\u001b[1;31m---------------------------------------------------------------------------\u001b[0m",
      "\u001b[1;31mStopIteration\u001b[0m                             Traceback (most recent call last)",
      "\u001b[1;32m<ipython-input-181-74e64ed6c80d>\u001b[0m in \u001b[0;36m<module>\u001b[1;34m\u001b[0m\n\u001b[1;32m----> 1\u001b[1;33m \u001b[0mit\u001b[0m\u001b[1;33m.\u001b[0m\u001b[0m__next__\u001b[0m\u001b[1;33m(\u001b[0m\u001b[1;33m)\u001b[0m\u001b[1;33m\u001b[0m\u001b[1;33m\u001b[0m\u001b[0m\n\u001b[0m",
      "\u001b[1;31mStopIteration\u001b[0m: "
     ]
    }
   ],
   "source": [
    "it.__next__()"
   ]
  },
  {
   "cell_type": "code",
   "execution_count": 182,
   "id": "54751f13",
   "metadata": {},
   "outputs": [],
   "source": [
    "it = iter(custom_range(3))"
   ]
  },
  {
   "cell_type": "code",
   "execution_count": 183,
   "id": "a1164464",
   "metadata": {},
   "outputs": [
    {
     "name": "stdout",
     "output_type": "stream",
     "text": [
      "custom_range called for the  first time\n",
      "custom_range called for 0th time\n"
     ]
    },
    {
     "data": {
      "text/plain": [
       "0"
      ]
     },
     "execution_count": 183,
     "metadata": {},
     "output_type": "execute_result"
    }
   ],
   "source": [
    "it.__next__()"
   ]
  },
  {
   "cell_type": "code",
   "execution_count": 184,
   "id": "f2776dcf",
   "metadata": {},
   "outputs": [
    {
     "name": "stdout",
     "output_type": "stream",
     "text": [
      "custom_range called for 1th time\n"
     ]
    },
    {
     "data": {
      "text/plain": [
       "1"
      ]
     },
     "execution_count": 184,
     "metadata": {},
     "output_type": "execute_result"
    }
   ],
   "source": [
    "it.__next__()"
   ]
  },
  {
   "cell_type": "code",
   "execution_count": 185,
   "id": "d91d424d",
   "metadata": {},
   "outputs": [
    {
     "name": "stdout",
     "output_type": "stream",
     "text": [
      "custom_range called for 2th time\n"
     ]
    },
    {
     "data": {
      "text/plain": [
       "2"
      ]
     },
     "execution_count": 185,
     "metadata": {},
     "output_type": "execute_result"
    }
   ],
   "source": [
    "it.__next__()"
   ]
  },
  {
   "cell_type": "code",
   "execution_count": 186,
   "id": "40fc2482",
   "metadata": {},
   "outputs": [
    {
     "ename": "StopIteration",
     "evalue": "",
     "output_type": "error",
     "traceback": [
      "\u001b[1;31m---------------------------------------------------------------------------\u001b[0m",
      "\u001b[1;31mStopIteration\u001b[0m                             Traceback (most recent call last)",
      "\u001b[1;32m<ipython-input-186-74e64ed6c80d>\u001b[0m in \u001b[0;36m<module>\u001b[1;34m\u001b[0m\n\u001b[1;32m----> 1\u001b[1;33m \u001b[0mit\u001b[0m\u001b[1;33m.\u001b[0m\u001b[0m__next__\u001b[0m\u001b[1;33m(\u001b[0m\u001b[1;33m)\u001b[0m\u001b[1;33m\u001b[0m\u001b[1;33m\u001b[0m\u001b[0m\n\u001b[0m",
      "\u001b[1;31mStopIteration\u001b[0m: "
     ]
    }
   ],
   "source": [
    "it.__next__()"
   ]
  },
  {
   "cell_type": "markdown",
   "id": "2d0e998a",
   "metadata": {},
   "source": [
    "### create a factorial generator"
   ]
  },
  {
   "cell_type": "code",
   "execution_count": 193,
   "id": "f56f658a",
   "metadata": {},
   "outputs": [
    {
     "name": "stdout",
     "output_type": "stream",
     "text": [
      "1\n",
      "2\n",
      "6\n",
      "24\n",
      "120\n"
     ]
    }
   ],
   "source": [
    "def factorial(n):\n",
    "    i = 1\n",
    "    fact = 1\n",
    "    while i<= n:\n",
    "        yield fact\n",
    "        i += 1\n",
    "        fact *= i\n",
    "\n",
    "for i in factorial(5):\n",
    "    print(i)"
   ]
  },
  {
   "cell_type": "code",
   "execution_count": null,
   "id": "83299151",
   "metadata": {},
   "outputs": [],
   "source": []
  }
 ],
 "metadata": {
  "kernelspec": {
   "display_name": "Python 3",
   "language": "python",
   "name": "python3"
  },
  "language_info": {
   "codemirror_mode": {
    "name": "ipython",
    "version": 3
   },
   "file_extension": ".py",
   "mimetype": "text/x-python",
   "name": "python",
   "nbconvert_exporter": "python",
   "pygments_lexer": "ipython3",
   "version": "3.9.4"
  }
 },
 "nbformat": 4,
 "nbformat_minor": 5
}
