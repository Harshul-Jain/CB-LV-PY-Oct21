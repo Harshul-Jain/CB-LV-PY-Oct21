{
 "cells": [
  {
   "cell_type": "markdown",
   "id": "fff807a2",
   "metadata": {},
   "source": [
    "## Day 11 OOP\n",
    "16-Nov-2021 Tuesday\n",
    "\n",
    "## Classes\n",
    "- template/ blueprint of an object\n",
    "- Classes provide a means of bundling data and functionality together. \n",
    "- Creating a new class creates a new type of object, allowing new instances of that type to be made. \n",
    "\n",
    "## Instance/ Objects\n",
    "- Instantiation of a class results into an object.\n",
    "- Each class instance can have attributes (characteristics/ features) attached to it for maintaining its state. Class instances can also have methods (defined by its class) for modifying its state."
   ]
  },
  {
   "cell_type": "code",
   "execution_count": 2,
   "id": "df0c8456",
   "metadata": {},
   "outputs": [],
   "source": [
    "class Dog:\n",
    "    \n",
    "    # self is the reference of the object in the memory\n",
    "    def __init__(self, name, breed, color):\n",
    "        self.name = name\n",
    "        self.breed = breed\n",
    "        self.color = color\n",
    "        \n",
    "# create object of a class/ Instantiation\n",
    "d1 = Dog(\"Tyson\", \"Pitbul\", \"white\") # calling the name of the class -> calls the __init__ method"
   ]
  },
  {
   "cell_type": "code",
   "execution_count": 3,
   "id": "26d13592",
   "metadata": {},
   "outputs": [
    {
     "data": {
      "text/plain": [
       "__main__.Dog"
      ]
     },
     "execution_count": 3,
     "metadata": {},
     "output_type": "execute_result"
    }
   ],
   "source": [
    "type(d1)"
   ]
  },
  {
   "cell_type": "code",
   "execution_count": 5,
   "id": "362fa7d6",
   "metadata": {},
   "outputs": [
    {
     "name": "stdout",
     "output_type": "stream",
     "text": [
      "Tyson Pitbul white\n"
     ]
    }
   ],
   "source": [
    "print(d1.name, d1.breed, d1.color)"
   ]
  },
  {
   "cell_type": "markdown",
   "id": "d9868a35",
   "metadata": {},
   "source": [
    "## Day 12 OOP\n",
    "18-Nov-2021 Thursday\n",
    "\n",
    "### Topics to be Covered: \n",
    "1. Creating classes\n",
    "2. Class Instantiation\n",
    "3. Class and Instance variables\n",
    "4. Inheritance and super()"
   ]
  },
  {
   "cell_type": "code",
   "execution_count": 11,
   "id": "b8d70d4a",
   "metadata": {},
   "outputs": [],
   "source": [
    "class myclass:\n",
    "    \n",
    "    var = 20\n",
    "    \n",
    "    def func(self):\n",
    "        print(self.var)"
   ]
  },
  {
   "cell_type": "code",
   "execution_count": 12,
   "id": "b60c9efb",
   "metadata": {},
   "outputs": [],
   "source": [
    "a = myclass()"
   ]
  },
  {
   "cell_type": "code",
   "execution_count": 4,
   "id": "98c8fde5",
   "metadata": {},
   "outputs": [
    {
     "data": {
      "text/plain": [
       "__main__.myclass"
      ]
     },
     "execution_count": 4,
     "metadata": {},
     "output_type": "execute_result"
    }
   ],
   "source": [
    "type(a)"
   ]
  },
  {
   "cell_type": "code",
   "execution_count": 5,
   "id": "8116a1f0",
   "metadata": {},
   "outputs": [
    {
     "data": {
      "text/plain": [
       "20"
      ]
     },
     "execution_count": 5,
     "metadata": {},
     "output_type": "execute_result"
    }
   ],
   "source": [
    "a.var"
   ]
  },
  {
   "cell_type": "code",
   "execution_count": 13,
   "id": "a151fa1d",
   "metadata": {},
   "outputs": [
    {
     "name": "stdout",
     "output_type": "stream",
     "text": [
      "20\n"
     ]
    }
   ],
   "source": [
    "a.func()"
   ]
  },
  {
   "cell_type": "code",
   "execution_count": 7,
   "id": "19d3e398",
   "metadata": {},
   "outputs": [
    {
     "data": {
      "text/plain": [
       "<__main__.myclass at 0x246daba8bb0>"
      ]
     },
     "execution_count": 7,
     "metadata": {},
     "output_type": "execute_result"
    }
   ],
   "source": [
    "a"
   ]
  },
  {
   "cell_type": "markdown",
   "id": "dbac2282",
   "metadata": {},
   "source": [
    "## 2. Class Instantiation\n",
    "    - Many classes like to create objects with instances customized to a specific initial state. Therefore a class may define a special method named \\_\\_init\\_\\_()\n",
    "    - When a class defines an \\_\\_init\\_\\_() method, class instantiation automatically invokes \\_\\_init\\_\\_() for the newly-created class instance. "
   ]
  },
  {
   "cell_type": "code",
   "execution_count": 26,
   "id": "79f7a8d4",
   "metadata": {},
   "outputs": [],
   "source": [
    "class Dog:\n",
    "    \n",
    "    kind = \"canine\" # class variable: shared among all objects of class\n",
    "    \n",
    "    def __init__(self, breed, name, age):\n",
    "        self.breed = breed # instance variable\n",
    "        self.name = name # istance variable\n",
    "        self.age = age # instance variable\n",
    "        \n",
    "    def bark(self):\n",
    "        print(f\"{self.name} is barking\")"
   ]
  },
  {
   "cell_type": "code",
   "execution_count": 27,
   "id": "12bc606c",
   "metadata": {},
   "outputs": [],
   "source": [
    "d1 = Dog(\"Pug\", \"spike\", 3)"
   ]
  },
  {
   "cell_type": "code",
   "execution_count": 28,
   "id": "dcab2b28",
   "metadata": {},
   "outputs": [
    {
     "name": "stdout",
     "output_type": "stream",
     "text": [
      "spike is barking\n",
      "canine\n"
     ]
    }
   ],
   "source": [
    "d1.bark()\n",
    "print(d1.kind)"
   ]
  },
  {
   "cell_type": "code",
   "execution_count": 17,
   "id": "a964b3fe",
   "metadata": {},
   "outputs": [
    {
     "data": {
      "text/plain": [
       "__main__.Dog"
      ]
     },
     "execution_count": 17,
     "metadata": {},
     "output_type": "execute_result"
    }
   ],
   "source": [
    "type(d1)"
   ]
  },
  {
   "cell_type": "code",
   "execution_count": 18,
   "id": "8c0ec541",
   "metadata": {},
   "outputs": [
    {
     "name": "stdout",
     "output_type": "stream",
     "text": [
      "Pug spike 3\n"
     ]
    }
   ],
   "source": [
    "print(d1.breed, d1.name, d1.age)"
   ]
  },
  {
   "cell_type": "code",
   "execution_count": 29,
   "id": "33edffb5",
   "metadata": {},
   "outputs": [],
   "source": [
    "d2 = Dog(\"German Shephard\", \"Tyson\", 2)"
   ]
  },
  {
   "cell_type": "code",
   "execution_count": 30,
   "id": "310d8e90",
   "metadata": {},
   "outputs": [
    {
     "name": "stdout",
     "output_type": "stream",
     "text": [
      "Tyson is barking\n",
      "canine\n"
     ]
    }
   ],
   "source": [
    "d2.bark()\n",
    "print(d2.kind)"
   ]
  },
  {
   "cell_type": "code",
   "execution_count": 20,
   "id": "0b0b2382",
   "metadata": {},
   "outputs": [
    {
     "name": "stdout",
     "output_type": "stream",
     "text": [
      "German Shephard Tyson 2\n"
     ]
    }
   ],
   "source": [
    "print(d2.breed, d2.name, d2.age)"
   ]
  },
  {
   "cell_type": "code",
   "execution_count": 31,
   "id": "063e357b",
   "metadata": {},
   "outputs": [
    {
     "data": {
      "text/plain": [
       "'canine'"
      ]
     },
     "execution_count": 31,
     "metadata": {},
     "output_type": "execute_result"
    }
   ],
   "source": [
    "Dog.kind"
   ]
  },
  {
   "cell_type": "code",
   "execution_count": 41,
   "id": "e836fd48",
   "metadata": {},
   "outputs": [],
   "source": [
    "class A:\n",
    "    \n",
    "    var1 = 20 # class variable\n",
    "    \n",
    "    def __init__(self, val):\n",
    "        self.val = val # instance variable"
   ]
  },
  {
   "cell_type": "code",
   "execution_count": 33,
   "id": "5f142411",
   "metadata": {},
   "outputs": [],
   "source": [
    "a = A(10)"
   ]
  },
  {
   "cell_type": "code",
   "execution_count": 34,
   "id": "fe139e5f",
   "metadata": {},
   "outputs": [
    {
     "name": "stdout",
     "output_type": "stream",
     "text": [
      "20 10\n"
     ]
    }
   ],
   "source": [
    "print(a.var1, a.val)"
   ]
  },
  {
   "cell_type": "code",
   "execution_count": 36,
   "id": "a5b6e1a9",
   "metadata": {},
   "outputs": [
    {
     "name": "stdout",
     "output_type": "stream",
     "text": [
      "20 30\n"
     ]
    }
   ],
   "source": [
    "b = A(30)\n",
    "print(b.var1, b.val)"
   ]
  },
  {
   "cell_type": "code",
   "execution_count": 37,
   "id": "f81225a0",
   "metadata": {},
   "outputs": [
    {
     "name": "stdout",
     "output_type": "stream",
     "text": [
      "40\n"
     ]
    }
   ],
   "source": [
    "b.val = 40\n",
    "print(b.val)"
   ]
  },
  {
   "cell_type": "code",
   "execution_count": 38,
   "id": "1f50809b",
   "metadata": {},
   "outputs": [
    {
     "name": "stdout",
     "output_type": "stream",
     "text": [
      "20 50 20\n"
     ]
    }
   ],
   "source": [
    "b.var1 = 50 # created an instance variable for b\n",
    "print(a.var1, b.var1, A.var1)"
   ]
  },
  {
   "cell_type": "code",
   "execution_count": 42,
   "id": "6d10fc7a",
   "metadata": {},
   "outputs": [
    {
     "name": "stdout",
     "output_type": "stream",
     "text": [
      "20 50 60\n"
     ]
    }
   ],
   "source": [
    "A.var1 = 60\n",
    "print(a.var1, b.var1, A.var1)"
   ]
  },
  {
   "cell_type": "code",
   "execution_count": 43,
   "id": "b8887f7e",
   "metadata": {},
   "outputs": [],
   "source": [
    "class A:\n",
    "    \n",
    "    var1 = 20 # class variable\n",
    "    l = []\n",
    "    \n",
    "    def __init__(self, val):\n",
    "        self.val = val # instance variable"
   ]
  },
  {
   "cell_type": "code",
   "execution_count": 44,
   "id": "63b10fee",
   "metadata": {},
   "outputs": [],
   "source": [
    "a = A(10)\n",
    "b = A(30)"
   ]
  },
  {
   "cell_type": "code",
   "execution_count": 45,
   "id": "2c74fef1",
   "metadata": {},
   "outputs": [
    {
     "name": "stdout",
     "output_type": "stream",
     "text": [
      "[] [] []\n"
     ]
    }
   ],
   "source": [
    "print(a.l, b.l, A.l)"
   ]
  },
  {
   "cell_type": "code",
   "execution_count": 46,
   "id": "45c63c72",
   "metadata": {},
   "outputs": [
    {
     "name": "stdout",
     "output_type": "stream",
     "text": [
      "[1, 2] [1, 2] [1, 2]\n"
     ]
    }
   ],
   "source": [
    "A.l.extend([1,2])\n",
    "print(a.l, b.l, A.l)"
   ]
  },
  {
   "cell_type": "code",
   "execution_count": 47,
   "id": "5b7be4fe",
   "metadata": {},
   "outputs": [
    {
     "name": "stdout",
     "output_type": "stream",
     "text": [
      "[1, 2, 3] [1, 2, 3] [1, 2, 3]\n"
     ]
    }
   ],
   "source": [
    "a.l.append(3)\n",
    "print(a.l, b.l, A.l)"
   ]
  },
  {
   "cell_type": "markdown",
   "id": "d3c6bd29",
   "metadata": {},
   "source": [
    "## Inheritance"
   ]
  },
  {
   "cell_type": "code",
   "execution_count": 5,
   "id": "3b3149f6",
   "metadata": {},
   "outputs": [],
   "source": [
    "class Shape:\n",
    "    \n",
    "    def __init__(self):\n",
    "        print(\"Shape class __init__\")\n",
    "        self.perimeter = self.get_perimeter()\n",
    "        self.area = self.get_area()\n",
    "        \n",
    "    def print_perimeter(self):\n",
    "        print(f\"The perimeter of the shape is: {self.perimeter}\")"
   ]
  },
  {
   "cell_type": "code",
   "execution_count": 11,
   "id": "9363ad51",
   "metadata": {},
   "outputs": [],
   "source": [
    "class Triangle(Shape):\n",
    "    \n",
    "    def __init__(self, side):\n",
    "        \n",
    "        self.side = side\n",
    "        self.height = self.get_height()\n",
    "        super().__init__()\n",
    "        \n",
    "    def get_height(self):\n",
    "        return ((3)**(0.5))*self.side/2\n",
    "    \n",
    "    def get_perimeter(self):\n",
    "        return 3*self.side\n",
    "    \n",
    "    def get_area(self):\n",
    "        return self.side*self.height\n",
    "\n",
    "class Square(Shape):\n",
    "    \n",
    "    def __init__(self, side):\n",
    "        self.side = side\n",
    "        super().__init__()\n",
    "    \n",
    "    def get_area(self):\n",
    "        return self.side*self.side\n",
    "    \n",
    "    def get_perimeter(self):\n",
    "        return self.side*4\n",
    "        \n",
    "class Circle(Shape):\n",
    "    \n",
    "    def __init__(self, radius):\n",
    "        self.radius = radius\n",
    "        super().__init__()\n",
    "        \n",
    "#         self.area = self.get_area()\n",
    "#         self.perimeter = self.get_perimeter()\n",
    "        \n",
    "    def get_area(self):\n",
    "        return 3.14*(self.radius**2)\n",
    "    \n",
    "    def get_perimeter(self):\n",
    "        return 3.14*self.radius*2"
   ]
  },
  {
   "cell_type": "code",
   "execution_count": 140,
   "id": "49800c0c",
   "metadata": {},
   "outputs": [],
   "source": [
    "del Shape\n",
    "del Triangle"
   ]
  },
  {
   "cell_type": "code",
   "execution_count": 12,
   "id": "43257a62",
   "metadata": {},
   "outputs": [
    {
     "name": "stdout",
     "output_type": "stream",
     "text": [
      "Shape class __init__\n",
      "Shape class __init__\n",
      "7 43.96 153.86\n",
      "4 16 16\n"
     ]
    }
   ],
   "source": [
    "s = Square(4)\n",
    "c = Circle(7)\n",
    "print(c.radius, c.perimeter, c.area)\n",
    "print(s.side, s.perimeter, s.area)"
   ]
  },
  {
   "cell_type": "code",
   "execution_count": 13,
   "id": "8871061b",
   "metadata": {},
   "outputs": [
    {
     "name": "stdout",
     "output_type": "stream",
     "text": [
      "Shape class __init__\n"
     ]
    }
   ],
   "source": [
    "t = Triangle(4)"
   ]
  },
  {
   "cell_type": "code",
   "execution_count": 14,
   "id": "d3b06bca",
   "metadata": {},
   "outputs": [
    {
     "name": "stdout",
     "output_type": "stream",
     "text": [
      "13.856406460551018 12\n"
     ]
    }
   ],
   "source": [
    "print(t.area, t.perimeter)"
   ]
  },
  {
   "cell_type": "code",
   "execution_count": 15,
   "id": "46cc4462",
   "metadata": {},
   "outputs": [
    {
     "name": "stdout",
     "output_type": "stream",
     "text": [
      "Shape class __init__\n"
     ]
    }
   ],
   "source": [
    "t = Triangle(7)"
   ]
  },
  {
   "cell_type": "code",
   "execution_count": 16,
   "id": "8ff0abb6",
   "metadata": {},
   "outputs": [
    {
     "name": "stdout",
     "output_type": "stream",
     "text": [
      "7 21\n"
     ]
    }
   ],
   "source": [
    "print(t.side, t.perimeter)"
   ]
  },
  {
   "cell_type": "code",
   "execution_count": 17,
   "id": "9d2c2e7e",
   "metadata": {},
   "outputs": [
    {
     "data": {
      "text/plain": [
       "__main__.Triangle"
      ]
     },
     "execution_count": 17,
     "metadata": {},
     "output_type": "execute_result"
    }
   ],
   "source": [
    "type(t)"
   ]
  },
  {
   "cell_type": "code",
   "execution_count": 18,
   "id": "f9b79d79",
   "metadata": {},
   "outputs": [
    {
     "name": "stdout",
     "output_type": "stream",
     "text": [
      "The perimeter of the shape is: 21\n"
     ]
    }
   ],
   "source": [
    "t.print_perimeter()"
   ]
  },
  {
   "cell_type": "code",
   "execution_count": 19,
   "id": "56932410",
   "metadata": {},
   "outputs": [
    {
     "data": {
      "text/plain": [
       "__main__.Triangle"
      ]
     },
     "execution_count": 19,
     "metadata": {},
     "output_type": "execute_result"
    }
   ],
   "source": [
    "type(t)"
   ]
  },
  {
   "cell_type": "code",
   "execution_count": 20,
   "id": "a07d1fca",
   "metadata": {},
   "outputs": [
    {
     "data": {
      "text/plain": [
       "21"
      ]
     },
     "execution_count": 20,
     "metadata": {},
     "output_type": "execute_result"
    }
   ],
   "source": [
    "t.get_perimeter()"
   ]
  },
  {
   "cell_type": "code",
   "execution_count": null,
   "id": "259d7398",
   "metadata": {},
   "outputs": [],
   "source": []
  },
  {
   "cell_type": "code",
   "execution_count": 135,
   "id": "d08e5afe",
   "metadata": {},
   "outputs": [],
   "source": [
    "class A:\n",
    "    \n",
    "    def __init__(self):\n",
    "        print(\"inside A class __init__\")\n",
    "        self.val = 50\n",
    "        self.val3 = 2*self.func()\n",
    "        \n",
    "class B(A):\n",
    "    \n",
    "    def __init__(self, val):\n",
    "        print(\"inside B class __init__\")\n",
    "        self.val2 = val\n",
    "#         super().__init__()\n",
    "        A.__init__(self)\n",
    "        \n",
    "    def func(self):\n",
    "        return self.val\n",
    "        "
   ]
  },
  {
   "cell_type": "code",
   "execution_count": 136,
   "id": "817ee2dc",
   "metadata": {},
   "outputs": [
    {
     "name": "stdout",
     "output_type": "stream",
     "text": [
      "inside B class __init__\n",
      "inside A class __init__\n"
     ]
    }
   ],
   "source": [
    "b = B(4)"
   ]
  },
  {
   "cell_type": "code",
   "execution_count": 137,
   "id": "c1b9ba48",
   "metadata": {},
   "outputs": [
    {
     "data": {
      "text/plain": [
       "(50, 4, 100)"
      ]
     },
     "execution_count": 137,
     "metadata": {},
     "output_type": "execute_result"
    }
   ],
   "source": [
    "b.val, b.val2, b.val3"
   ]
  }
 ],
 "metadata": {
  "kernelspec": {
   "display_name": "Python 3",
   "language": "python",
   "name": "python3"
  },
  "language_info": {
   "codemirror_mode": {
    "name": "ipython",
    "version": 3
   },
   "file_extension": ".py",
   "mimetype": "text/x-python",
   "name": "python",
   "nbconvert_exporter": "python",
   "pygments_lexer": "ipython3",
   "version": "3.9.4"
  }
 },
 "nbformat": 4,
 "nbformat_minor": 5
}
